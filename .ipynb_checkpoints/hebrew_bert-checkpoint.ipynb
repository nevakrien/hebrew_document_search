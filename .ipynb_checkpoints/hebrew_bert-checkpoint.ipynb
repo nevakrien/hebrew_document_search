{
 "cells": [
  {
   "cell_type": "code",
   "execution_count": 1,
   "id": "ca7fbdab-72c8-4f89-8bec-aef5e203c734",
   "metadata": {},
   "outputs": [],
   "source": [
    "import os\n",
    "os.environ[\"HF_HUB_CACHE\"] = \"/media/user/8a594cab-20d9-43ef-8d0e-b60b5cf43462/huggingface_models/hub\"\n",
    "#https://huggingface.co/docs/transformers/installation?highlight=transformers_cache#cache-setup\n",
    "#os.environ[\"HF_HOME\"] = \"/media/user/8a594cab-20d9-43ef-8d0e-b60b5cf43462/huggingface_models\"\n",
    "model_name=\"avichr/Legal-heBERT\"#'meta-llama/Llama-2-70b-chat-hf'"
   ]
  },
  {
   "cell_type": "code",
   "execution_count": 2,
   "id": "dc6abbda-f38d-4a3a-b220-cbf249c22872",
   "metadata": {},
   "outputs": [],
   "source": [
    "import faiss\n",
    "from transformers import AutoTokenizer, BertModel"
   ]
  },
  {
   "cell_type": "code",
   "execution_count": 3,
   "id": "ef88f1c4-b08d-46f7-9483-f0a1937a48b0",
   "metadata": {},
   "outputs": [
    {
     "name": "stderr",
     "output_type": "stream",
     "text": [
      "Some weights of BertModel were not initialized from the model checkpoint at avichr/Legal-heBERT and are newly initialized: ['bert.pooler.dense.bias', 'bert.pooler.dense.weight']\n",
      "You should probably TRAIN this model on a down-stream task to be able to use it for predictions and inference.\n"
     ]
    }
   ],
   "source": [
    "tokenizer=AutoTokenizer.from_pretrained(model_name)\n",
    "model=BertModel.from_pretrained(model_name)"
   ]
  },
  {
   "cell_type": "code",
   "execution_count": 4,
   "id": "c07adc50-9667-41cc-ab01-c2a92fb088e1",
   "metadata": {},
   "outputs": [
    {
     "name": "stderr",
     "output_type": "stream",
     "text": [
      "Found cached dataset parquet (/home/user/.cache/huggingface/datasets/LevMuchnik___parquet/LevMuchnik--SupremeCourtOfIsrael-7f46ab7220db2581/0.0.0/2a3b91fbd88a2c90d1dbbb32b460cf621d31bd5b05b934492fdef7d8d6f236ec)\n"
     ]
    },
    {
     "data": {
      "application/vnd.jupyter.widget-view+json": {
       "model_id": "bbac5c75b85f486788cb2b97bdb775b0",
       "version_major": 2,
       "version_minor": 0
      },
      "text/plain": [
       "  0%|          | 0/1 [00:00<?, ?it/s]"
      ]
     },
     "metadata": {},
     "output_type": "display_data"
    }
   ],
   "source": [
    "import datasets\n",
    "data = datasets.load_dataset('LevMuchnik/SupremeCourtOfIsrael')"
   ]
  },
  {
   "cell_type": "code",
   "execution_count": null,
   "id": "8a2a0800-3dad-4015-9541-990d4f03df20",
   "metadata": {},
   "outputs": [],
   "source": []
  },
  {
   "cell_type": "code",
   "execution_count": 10,
   "id": "a58a9be6-16b8-41e9-af0b-090e2ed7dc49",
   "metadata": {},
   "outputs": [],
   "source": [
    "inputs=tokenizer(data['train'][0]['text'],return_tensors='pt',truncation=True,max_length=model.config.max_position_embeddings)\n",
    "inputs={k:v.to(model.device) for k,v in inputs.items()}\n",
    "#inputs"
   ]
  },
  {
   "cell_type": "code",
   "execution_count": 20,
   "id": "c0ab57dc-91df-4056-86b1-1b42cc284cac",
   "metadata": {},
   "outputs": [
    {
     "data": {
      "text/plain": [
       "torch.Size([1, 768])"
      ]
     },
     "execution_count": 20,
     "metadata": {},
     "output_type": "execute_result"
    }
   ],
   "source": [
    "model(**inputs).pooler_output.shape"
   ]
  },
  {
   "cell_type": "markdown",
   "id": "bf747c75-aef0-4faa-99a1-1154a9b8b2f9",
   "metadata": {},
   "source": [
    "# index"
   ]
  },
  {
   "cell_type": "code",
   "execution_count": 55,
   "id": "5c63040b-e4ff-4dfa-9b49-136dc1c05aa7",
   "metadata": {},
   "outputs": [],
   "source": [
    "import torch\n",
    "from tqdm.notebook import tqdm"
   ]
  },
  {
   "cell_type": "code",
   "execution_count": 46,
   "id": "d3bad2a1-f215-4efa-baad-6329f7b03776",
   "metadata": {},
   "outputs": [
    {
     "data": {
      "text/plain": [
       "56087"
      ]
     },
     "execution_count": 46,
     "metadata": {},
     "output_type": "execute_result"
    }
   ],
   "source": [
    "cut_data=data['train']['text'][633501:689588]\n",
    "len(cut_data)"
   ]
  },
  {
   "cell_type": "code",
   "execution_count": 51,
   "id": "af4b1721-1a19-4887-8cc0-c77fbc4b4779",
   "metadata": {},
   "outputs": [
    {
     "data": {
      "text/plain": [
       "str"
      ]
     },
     "execution_count": 51,
     "metadata": {},
     "output_type": "execute_result"
    }
   ],
   "source": [
    "type(cut_data[0])"
   ]
  },
  {
   "cell_type": "code",
   "execution_count": 52,
   "id": "59cbc655-613d-4c62-9cf6-55b7f85f9eb2",
   "metadata": {},
   "outputs": [],
   "source": [
    "inputs=tokenizer(cut_data[:3],return_tensors='pt',truncation=True,padding=True,max_length=model.config.max_position_embeddings)"
   ]
  },
  {
   "cell_type": "code",
   "execution_count": 57,
   "id": "421dd098-57ba-4abd-a4ee-b1573c0ce9ce",
   "metadata": {},
   "outputs": [
    {
     "data": {
      "text/plain": [
       "BertModel(\n",
       "  (embeddings): BertEmbeddings(\n",
       "    (word_embeddings): Embedding(50000, 768, padding_idx=0)\n",
       "    (position_embeddings): Embedding(512, 768)\n",
       "    (token_type_embeddings): Embedding(2, 768)\n",
       "    (LayerNorm): LayerNorm((768,), eps=1e-12, elementwise_affine=True)\n",
       "    (dropout): Dropout(p=0.1, inplace=False)\n",
       "  )\n",
       "  (encoder): BertEncoder(\n",
       "    (layer): ModuleList(\n",
       "      (0-11): 12 x BertLayer(\n",
       "        (attention): BertAttention(\n",
       "          (self): BertSelfAttention(\n",
       "            (query): Linear(in_features=768, out_features=768, bias=True)\n",
       "            (key): Linear(in_features=768, out_features=768, bias=True)\n",
       "            (value): Linear(in_features=768, out_features=768, bias=True)\n",
       "            (dropout): Dropout(p=0.1, inplace=False)\n",
       "          )\n",
       "          (output): BertSelfOutput(\n",
       "            (dense): Linear(in_features=768, out_features=768, bias=True)\n",
       "            (LayerNorm): LayerNorm((768,), eps=1e-12, elementwise_affine=True)\n",
       "            (dropout): Dropout(p=0.1, inplace=False)\n",
       "          )\n",
       "        )\n",
       "        (intermediate): BertIntermediate(\n",
       "          (dense): Linear(in_features=768, out_features=3072, bias=True)\n",
       "          (intermediate_act_fn): GELUActivation()\n",
       "        )\n",
       "        (output): BertOutput(\n",
       "          (dense): Linear(in_features=3072, out_features=768, bias=True)\n",
       "          (LayerNorm): LayerNorm((768,), eps=1e-12, elementwise_affine=True)\n",
       "          (dropout): Dropout(p=0.1, inplace=False)\n",
       "        )\n",
       "      )\n",
       "    )\n",
       "  )\n",
       "  (pooler): BertPooler(\n",
       "    (dense): Linear(in_features=768, out_features=768, bias=True)\n",
       "    (activation): Tanh()\n",
       "  )\n",
       ")"
      ]
     },
     "execution_count": 57,
     "metadata": {},
     "output_type": "execute_result"
    }
   ],
   "source": [
    "model.to('cuda')"
   ]
  },
  {
   "cell_type": "code",
   "execution_count": 60,
   "id": "1c8e3e3e-4cba-467a-b574-3df18f4ada22",
   "metadata": {},
   "outputs": [
    {
     "data": {
      "application/vnd.jupyter.widget-view+json": {
       "model_id": "8f078bd8d6084d1aaa09aaa4d6c6daf0",
       "version_major": 2,
       "version_minor": 0
      },
      "text/plain": [
       "  0%|          | 0/561 [00:00<?, ?it/s]"
      ]
     },
     "metadata": {},
     "output_type": "display_data"
    }
   ],
   "source": [
    "# Set the batch size\n",
    "batch_size = 100  # You can adjust this based on your hardware capabilities\n",
    "\n",
    "# Container for all embeddings\n",
    "all_embeddings = []\n",
    "\n",
    "with torch.no_grad():\n",
    "    for i in tqdm(range(0, len(cut_data), batch_size)):\n",
    "        # Select a batch of texts\n",
    "        batch_texts = cut_data[i:i + batch_size]\n",
    "        batch_texts=[t if t else '' for t in batch_texts]\n",
    "\n",
    "        # Tokenize the batch\n",
    "        inputs = tokenizer(batch_texts, return_tensors='pt', truncation=True, padding=True, max_length=model.config.max_position_embeddings)\n",
    "        inputs={k:v.to(model.device) for k,v in inputs.items()}\n",
    "        # Get the model output for the current batch\n",
    "        outputs = model(**inputs)\n",
    "\n",
    "        # Append the pooler outputs to the all_embeddings list\n",
    "        all_embeddings.extend(outputs.pooler_output.cpu())"
   ]
  },
  {
   "cell_type": "code",
   "execution_count": 65,
   "id": "34b53603-86b6-49b6-afa9-593964a633d5",
   "metadata": {},
   "outputs": [
    {
     "data": {
      "text/plain": [
       "torch.Size([56087, 768])"
      ]
     },
     "execution_count": 65,
     "metadata": {},
     "output_type": "execute_result"
    }
   ],
   "source": [
    "embeddings=torch.stack(all_embeddings,0)\n",
    "embeddings.shape"
   ]
  },
  {
   "cell_type": "code",
   "execution_count": 66,
   "id": "4d6b2aee-714d-40f0-a023-142ef08db600",
   "metadata": {},
   "outputs": [],
   "source": [
    "index = faiss.IndexFlatL2(embeddings.shape[1])\n",
    "index.add(embeddings)"
   ]
  },
  {
   "cell_type": "markdown",
   "id": "688927d8-2fa9-4331-8ee6-e009925ed2cc",
   "metadata": {},
   "source": [
    "# test"
   ]
  },
  {
   "cell_type": "code",
   "execution_count": 67,
   "id": "34e510e5-3103-4bbb-88bd-a92a537b8f49",
   "metadata": {},
   "outputs": [],
   "source": [
    "#test_text=\"עירעור על מעצר\"\n",
    "#test_text=\"תיק מנהלי\"\n",
    "test_text=\"מחלת הקורונה מפריעה לעובדים לעבוד\"\n",
    "#test_text=\"שוחד, מרמה והפרת אמונים\""
   ]
  },
  {
   "cell_type": "code",
   "execution_count": 70,
   "id": "2ee1334f-9b3e-4974-ba5b-40c60e76c819",
   "metadata": {},
   "outputs": [],
   "source": [
    "with torch.no_grad():\n",
    "    inputs=tokenizer(test_text,return_tensors='pt',truncation=True,padding=True,max_length=model.config.max_position_embeddings)\n",
    "    inputs={k:v.to(model.device) for k,v in inputs.items()}\n",
    "    key=model(**inputs).pooler_output.cpu()"
   ]
  },
  {
   "cell_type": "code",
   "execution_count": 71,
   "id": "cb1fdf27-d9b2-4a91-920b-af36e7e74e4d",
   "metadata": {},
   "outputs": [],
   "source": [
    "_,idx=index.search(key,3)"
   ]
  },
  {
   "cell_type": "code",
   "execution_count": 72,
   "id": "f5858658-93c3-4477-894e-822943ed1f21",
   "metadata": {},
   "outputs": [
    {
     "data": {
      "text/plain": [
       "array([[54612, 53291, 55968]])"
      ]
     },
     "execution_count": 72,
     "metadata": {},
     "output_type": "execute_result"
    }
   ],
   "source": [
    "idx"
   ]
  },
  {
   "cell_type": "code",
   "execution_count": 73,
   "id": "211becbf-8919-442c-bb91-d44e1da3b693",
   "metadata": {},
   "outputs": [
    {
     "name": "stdout",
     "output_type": "stream",
     "text": [
      "\n",
      "\n",
      "\n",
      "\n",
      "\n",
      "\n",
      "בית המשפט\n",
      "העליון\n",
      " \n",
      "\n",
      "\n",
      "\n",
      "הודעה לתקשורת \n",
      " \n",
      "- פסק דין בבג\"ץ 1633/20 ובבג\"ץ\n",
      "2070/20 בעניין הוצאת תעודת מחלה גורפת לעובדים שכירים שנמצאים בבידוד בשל חשש\n",
      "להידבקות בנגיף הקורונה \n",
      "\n",
      "\n",
      "\n",
      " \n",
      "\n",
      "\n",
      "\n",
      "בית המשפט העליון (השופט א' שטיין\n",
      "בהסכמת הנשיאה א' חיות והשופט ע' פוגלמן) קיבל היום שתי עתירות שהגישו, בין היתר,\n",
      "מספר ארגוני מעסיקים וקבע כי חוק דמי מחלה אינו מסמיך את ראש שירותי בריאות הציבור\n",
      "במשרד הבריאות להנפיק תעודת מחלה גורפת לכל העובדים השכירים השוהים בבידוד מחשש\n",
      "להידבקות בנגיף הקורונה. על כן נקבע כי תעודת המחלה הגורפת בטלה. \n",
      "\n",
      "\n",
      "\n",
      " \n",
      "\n",
      "\n",
      "\n",
      "בית המשפט הגיע למסקנה זו לאחר\n",
      "שניתח את לשון חוק דמי מחלה ותכליותיו וקבע כי חשש למחלה או להידבקות בנגיף\n",
      "הקורונה אינו בגדר \"מחלה\" ששוללת מהעובד את הכושר לבצע את עבודתו, כנדרש\n",
      "בחוק. עם זאת ועל מנת למנוע פגיעה בעובדים ולאפשר היערכות מתאימה, נקבע כי ביטולה\n",
      "של תעודת המחלה הגורפת לשוהים בבידוד ייכנס לתוקף ביום 30.9.2020.\n",
      "\n",
      "\n",
      "\n",
      " \n",
      "\n",
      "\n",
      "\n",
      "\n",
      "\n",
      "\n",
      "\n",
      "\n",
      "\n"
     ]
    }
   ],
   "source": [
    "print(cut_data[idx[0][0]])"
   ]
  },
  {
   "cell_type": "code",
   "execution_count": 74,
   "id": "8cf9a3fa-f705-43fe-80b8-4746ae4af094",
   "metadata": {},
   "outputs": [
    {
     "data": {
      "text/plain": [
       "'\\n\\n\\n\\n\\n\\n \\n\\n\\n\\nבג\"ץ 2964/18 חוג ההורים נ\\' שר הביטחון (17.4.2018)\\n\\n\\n\\nתקציר פסק-הדין\\n\\n\\n\\n \\n\\n\\n\\nבית המשפט העליון (מפי הנשיאה א\\' חיות,\\nובהסכמת השופטים ע\\' פוגלמן וע\\' ברון) קיבל עתירה נגד החלטת שר הביטחון שלא\\nהתיר\\n  \\nכניסת פלסטינים לצורך השתתפות בטקס\\nזיכרון פרטי משותף לישראלים ולפלסטינים המתקיים מזה 12 שנים והמאורגן על ידי\\nעמותות המאגדות אנשים שאיבדו בן משפחה במסגרת הסכסוך הישראלי-פלסטיני.\\n\\n\\n\\nנפסק, כי מתן היתרי כניסה לטקס המשותף\\nהתאפשר בשנים קודמות, בהתאם להודעות כדין ונהלי המשיבים, והדרג המקצועי – מתאם\\nפעולות הממשלה בשטחים – סבר גם השנה כי יש לאפשר הגעת פלסטינים לטקס. \\n\\n\\n\\nנפסק כי החלטת שר הביטחון אינה מביאה\\nבחשבון את המציאות שנוצרה לאורך השנים ואת הציפיות הלגיטימיות שנוצרו אצל משתתפי\\nהטקס, ואף מתעלמת באופן מוחלט מן הפגיעה ברגשות המשפחות השכולות והציבור המבקשים\\nלקיימו במתכונת שבו התקיימה לאורך השנים. \\n\\n\\n\\nעל כן, הורה בית המשפט כי יש לאפשר מתן\\nהיתרי כניסה ייעודיים לישראל לצורך השתתפות בטקס המשותף ל-90 פלסטינים – בדומה\\nלכמות ההיתרים שהתאפשרה בשנת 2016 – בכפוף לבדיקה פרטנית בדבר מניעה ביטחונית או\\nאחרת.\\n\\n\\n\\n \\n\\n\\n\\n \\n\\n\\n\\n\\n\\n\\n\\n\\n'"
      ]
     },
     "execution_count": 74,
     "metadata": {},
     "output_type": "execute_result"
    }
   ],
   "source": [
    "cut_data[0]"
   ]
  },
  {
   "cell_type": "code",
   "execution_count": null,
   "id": "06334ff8-327e-4379-a8e8-1a05b115f3a1",
   "metadata": {},
   "outputs": [],
   "source": []
  }
 ],
 "metadata": {
  "kernelspec": {
   "display_name": "Python 3 (ipykernel)",
   "language": "python",
   "name": "python3"
  },
  "language_info": {
   "codemirror_mode": {
    "name": "ipython",
    "version": 3
   },
   "file_extension": ".py",
   "mimetype": "text/x-python",
   "name": "python",
   "nbconvert_exporter": "python",
   "pygments_lexer": "ipython3",
   "version": "3.11.5"
  }
 },
 "nbformat": 4,
 "nbformat_minor": 5
}
