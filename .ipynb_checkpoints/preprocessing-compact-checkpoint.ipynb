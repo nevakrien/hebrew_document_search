{
 "cells": [
  {
   "cell_type": "markdown",
   "id": "f448a2fc-adf3-4750-9598-4b989570f30b",
   "metadata": {},
   "source": [
    "# e5 Expirement\n",
    "\n",
    "failed since the retrived answers didnt really seem related to anything"
   ]
  },
  {
   "cell_type": "code",
   "execution_count": 1,
   "id": "168ccec2-7c2b-4f43-b2b6-df55fd25ac55",
   "metadata": {},
   "outputs": [],
   "source": [
    "import os\n",
    "#os.environ[\"HF_HUB_CACHE\"] = \"/media/user/8a594cab-20d9-43ef-8d0e-b60b5cf43462/huggingface_models/hub\"\n",
    "#https://huggingface.co/docs/transformers/installation?highlight=transformers_cache#cache-setup\n",
    "#os.environ[\"HF_HOME\"] = \"/media/user/8a594cab-20d9-43ef-8d0e-b60b5cf43462/huggingface_models\"\n",
    "#model_name=\"avichr/Legal-heBERT\"#'meta-llama/Llama-2-70b-chat-hf\n",
    "model_name=\"intfloat/multilingual-e5-base\""
   ]
  },
  {
   "cell_type": "code",
   "execution_count": 2,
   "id": "1b9621d3-493d-4b31-a0e0-5546d1f13fd4",
   "metadata": {},
   "outputs": [],
   "source": [
    "import faiss\n",
    "import torch\n",
    "from transformers import AutoTokenizer, BertModel"
   ]
  },
  {
   "cell_type": "code",
   "execution_count": 3,
   "id": "7102314c-cde0-4314-96b4-88f91d703d92",
   "metadata": {},
   "outputs": [
    {
     "data": {
      "application/vnd.jupyter.widget-view+json": {
       "model_id": "e8a5d25c94324ab691a1251680f73dc4",
       "version_major": 2,
       "version_minor": 0
      },
      "text/plain": [
       "Downloading tokenizer_config.json:   0%|          | 0.00/418 [00:00<?, ?B/s]"
      ]
     },
     "metadata": {},
     "output_type": "display_data"
    },
    {
     "data": {
      "application/vnd.jupyter.widget-view+json": {
       "model_id": "769697b710f348769d6bd0fc3ebaf6a7",
       "version_major": 2,
       "version_minor": 0
      },
      "text/plain": [
       "Downloading (…)tencepiece.bpe.model:   0%|          | 0.00/5.07M [00:00<?, ?B/s]"
      ]
     },
     "metadata": {},
     "output_type": "display_data"
    },
    {
     "data": {
      "application/vnd.jupyter.widget-view+json": {
       "model_id": "bd9ddf02e82a4393826ec3f975b5aec1",
       "version_major": 2,
       "version_minor": 0
      },
      "text/plain": [
       "Downloading tokenizer.json:   0%|          | 0.00/17.1M [00:00<?, ?B/s]"
      ]
     },
     "metadata": {},
     "output_type": "display_data"
    },
    {
     "data": {
      "application/vnd.jupyter.widget-view+json": {
       "model_id": "428d78b3c435428c9a2a715591288d80",
       "version_major": 2,
       "version_minor": 0
      },
      "text/plain": [
       "Downloading (…)cial_tokens_map.json:   0%|          | 0.00/280 [00:00<?, ?B/s]"
      ]
     },
     "metadata": {},
     "output_type": "display_data"
    },
    {
     "data": {
      "application/vnd.jupyter.widget-view+json": {
       "model_id": "964283102ae2412a8a152e5149b742cb",
       "version_major": 2,
       "version_minor": 0
      },
      "text/plain": [
       "Downloading config.json:   0%|          | 0.00/694 [00:00<?, ?B/s]"
      ]
     },
     "metadata": {},
     "output_type": "display_data"
    },
    {
     "name": "stderr",
     "output_type": "stream",
     "text": [
      "You are using a model of type xlm-roberta to instantiate a model of type bert. This is not supported for all configurations of models and can yield errors.\n"
     ]
    },
    {
     "data": {
      "application/vnd.jupyter.widget-view+json": {
       "model_id": "f6cf7a701a264e98b03afd9811f17315",
       "version_major": 2,
       "version_minor": 0
      },
      "text/plain": [
       "Downloading model.safetensors:   0%|          | 0.00/1.11G [00:00<?, ?B/s]"
      ]
     },
     "metadata": {},
     "output_type": "display_data"
    }
   ],
   "source": [
    "tokenizer=AutoTokenizer.from_pretrained(model_name)\n",
    "model=BertModel.from_pretrained(model_name)"
   ]
  },
  {
   "cell_type": "code",
   "execution_count": 4,
   "id": "be274edb-67bb-4617-9658-c392ed518b19",
   "metadata": {},
   "outputs": [],
   "source": [
    "with torch.no_grad():\n",
    "    model.pooler.dense.weight*=0#torch.ones(model.pooler.dense.weight.shape)\n",
    "    model.pooler.dense.biass=0#torch.zeros(model.pooler.dense.biass.shape)"
   ]
  },
  {
   "cell_type": "code",
   "execution_count": 5,
   "id": "cffe0ed6-b6a3-4b39-a83a-3cf0159b7374",
   "metadata": {},
   "outputs": [
    {
     "name": "stderr",
     "output_type": "stream",
     "text": [
      "Found cached dataset parquet (/home/user/.cache/huggingface/datasets/LevMuchnik___parquet/LevMuchnik--SupremeCourtOfIsrael-7f46ab7220db2581/0.0.0/2a3b91fbd88a2c90d1dbbb32b460cf621d31bd5b05b934492fdef7d8d6f236ec)\n"
     ]
    },
    {
     "data": {
      "application/vnd.jupyter.widget-view+json": {
       "model_id": "a61aaa4737cf49bb8c969090a15fc912",
       "version_major": 2,
       "version_minor": 0
      },
      "text/plain": [
       "  0%|          | 0/1 [00:00<?, ?it/s]"
      ]
     },
     "metadata": {},
     "output_type": "display_data"
    }
   ],
   "source": [
    "import datasets\n",
    "data = datasets.load_dataset('LevMuchnik/SupremeCourtOfIsrael')"
   ]
  },
  {
   "cell_type": "code",
   "execution_count": 6,
   "id": "5eb8ff87-e8a1-429d-8715-4d4d81dd2ce0",
   "metadata": {},
   "outputs": [],
   "source": [
    "import pandas as pd\n",
    "import re\n",
    "from tqdm.notebook import tqdm"
   ]
  },
  {
   "cell_type": "code",
   "execution_count": 7,
   "id": "a020053c-87f9-412b-b0d6-49fc20ef685f",
   "metadata": {},
   "outputs": [],
   "source": [
    "#from concurrent.futures import ProcessPoolExecutor"
   ]
  },
  {
   "cell_type": "markdown",
   "id": "bcfd2f3c-1d25-4bb8-983b-243abaa8b3e7",
   "metadata": {},
   "source": [
    "# filter"
   ]
  },
  {
   "cell_type": "code",
   "execution_count": 8,
   "id": "2aa740da-0d8c-41ca-9c0f-bacff6407a86",
   "metadata": {},
   "outputs": [],
   "source": [
    "texts=data['train']['text']"
   ]
  },
  {
   "cell_type": "code",
   "execution_count": 9,
   "id": "db34be83-be0e-41fb-8a5a-c6e11a46da1e",
   "metadata": {},
   "outputs": [],
   "source": [
    "def length(s):\n",
    "    if not s:\n",
    "        return 0\n",
    "    s=\" \".join(s.split('\\n'))\n",
    "    return len(s.split(' '))"
   ]
  },
  {
   "cell_type": "code",
   "execution_count": 10,
   "id": "e48ff4d9-c71d-4575-8d30-16dacf331ce6",
   "metadata": {},
   "outputs": [],
   "source": [
    "def get_paragraphs(text_list):\n",
    "    ans = []\n",
    "\n",
    "    bads = (\n",
    "            re.compile(r'<!--\\s*\\n\\s*/\\*\\s*Font Definitions\\s*\\*/'),\n",
    "            re.compile(r'\\uFFFD'),\n",
    "            re.compile(r'endstream.*?(?=\\n|$)'),\n",
    "            re.compile(r'/Author \\(user\\)\\n|/Creator'),\n",
    "            re.compile(r'\\ue51d'),\n",
    "            re.compile(r'[\\u0080-\\u00FF\\u0100-\\u017F]'), #weird latin dialects like ã\n",
    "           )\n",
    "            \n",
    "\n",
    "    \n",
    "    for doc_idx, text in enumerate(text_list):\n",
    "        if not text:\n",
    "            continue\n",
    "        text=text.strip()\n",
    "        \n",
    "        if text in (\"File not found\",\"\"):\n",
    "            continue\n",
    "            \n",
    "        skip=False\n",
    "        for b in bads:\n",
    "            if b.search(text):\n",
    "                skip=True\n",
    "                break\n",
    "        if skip:\n",
    "            continue\n",
    "\n",
    "        # if not is_valid_utf8(text):\n",
    "        #     continue\n",
    "        \n",
    "        text=re.sub(r'\\n\\s*\\n\\s*\\n+', '\\n\\n', text)\n",
    "        paragraphs=text.split('\\n\\n')\n",
    "\n",
    "\n",
    "        paragraphs=[{'doc': doc_idx,'count':i,'length':length(p),  'text': p} for i,p in enumerate(paragraphs)]\n",
    "        paragraphs.sort(reverse=True,key=lambda d: d['length'])\n",
    "        for p in paragraphs[:5]:\n",
    "            if p['length']>10:\n",
    "                ans.append(p)\n",
    "\n",
    "    return ans"
   ]
  },
  {
   "cell_type": "code",
   "execution_count": null,
   "id": "df4d5070-0e9c-4396-8d1c-42d57339dfbc",
   "metadata": {},
   "outputs": [],
   "source": []
  },
  {
   "cell_type": "code",
   "execution_count": 11,
   "id": "e64049e8-1ba9-43ae-8729-bcc181113ab2",
   "metadata": {},
   "outputs": [
    {
     "data": {
      "application/vnd.jupyter.widget-view+json": {
       "model_id": "5975f302f6b548228bc583aa503c9a1b",
       "version_major": 2,
       "version_minor": 0
      },
      "text/plain": [
       "  0%|          | 0/751194 [00:00<?, ?it/s]"
      ]
     },
     "metadata": {},
     "output_type": "display_data"
    }
   ],
   "source": [
    "pars=get_paragraphs(tqdm(texts))"
   ]
  },
  {
   "cell_type": "code",
   "execution_count": 12,
   "id": "7dde7a24-56e4-4b67-9041-06b299075dcb",
   "metadata": {},
   "outputs": [
    {
     "data": {
      "text/plain": [
       "[]"
      ]
     },
     "execution_count": 12,
     "metadata": {},
     "output_type": "execute_result"
    }
   ],
   "source": [
    "[p for p in pars if not p['text']]"
   ]
  },
  {
   "cell_type": "code",
   "execution_count": 13,
   "id": "8df3ce72-5bef-45b0-b3ee-cf5554c459c3",
   "metadata": {},
   "outputs": [
    {
     "data": {
      "text/plain": [
       "2677059"
      ]
     },
     "execution_count": 13,
     "metadata": {},
     "output_type": "execute_result"
    }
   ],
   "source": [
    "len(pars)"
   ]
  },
  {
   "cell_type": "markdown",
   "id": "011d16cd-63ce-433f-912e-80a7641be978",
   "metadata": {},
   "source": [
    "# tokenizing"
   ]
  },
  {
   "cell_type": "code",
   "execution_count": 14,
   "id": "d7f05a14-59c7-4fbb-ab16-59a02e40f3a7",
   "metadata": {},
   "outputs": [],
   "source": [
    "os.environ[\"TOKENIZERS_PARALLELISM\"]='false'"
   ]
  },
  {
   "cell_type": "code",
   "execution_count": 15,
   "id": "ebe5145c-2802-4d81-9054-bcf323478703",
   "metadata": {},
   "outputs": [],
   "source": [
    "from concurrent.futures import ThreadPoolExecutor"
   ]
  },
  {
   "cell_type": "code",
   "execution_count": 16,
   "id": "68ceb5ea-63a7-4835-b2a2-69dc2c689768",
   "metadata": {},
   "outputs": [
    {
     "data": {
      "application/vnd.jupyter.widget-view+json": {
       "model_id": "e6e8e0e8eaea4cf6b1247ba3eba13522",
       "version_major": 2,
       "version_minor": 0
      },
      "text/plain": [
       "  0%|          | 0/2677059 [00:00<?, ?it/s]"
      ]
     },
     "metadata": {},
     "output_type": "display_data"
    },
    {
     "name": "stderr",
     "output_type": "stream",
     "text": [
      "Token indices sequence length is longer than the specified maximum sequence length for this model (523 > 512). Running this sequence through the model will result in indexing errors\n"
     ]
    },
    {
     "data": {
      "application/vnd.jupyter.widget-view+json": {
       "model_id": "31bd12d21ddc4be2b21859ea005ee62c",
       "version_major": 2,
       "version_minor": 0
      },
      "text/plain": [
       "  0%|          | 0/2677059 [00:00<?, ?it/s]"
      ]
     },
     "metadata": {},
     "output_type": "display_data"
    },
    {
     "data": {
      "text/plain": [
       "2677059"
      ]
     },
     "execution_count": 16,
     "metadata": {},
     "output_type": "execute_result"
    }
   ],
   "source": [
    "with ThreadPoolExecutor(24) as ex:\n",
    "    tokens=list(tqdm(ex.map(tokenizer.encode,tqdm([d['text'] if d['text'] else '' for d in pars])),total=len(pars)))\n",
    "len(tokens)\n",
    "# tokens=tokenizer.batch_encode_plus([d['text'] if d['text'] else '' for d in pars])#[:10])\n",
    "# len(tokens)"
   ]
  },
  {
   "cell_type": "code",
   "execution_count": 17,
   "id": "cdcb20cb-21bb-40ac-97e3-3427459e8631",
   "metadata": {},
   "outputs": [
    {
     "data": {
      "text/plain": [
       "2677059"
      ]
     },
     "execution_count": 17,
     "metadata": {},
     "output_type": "execute_result"
    }
   ],
   "source": [
    "len(tokens)"
   ]
  },
  {
   "cell_type": "code",
   "execution_count": 18,
   "id": "0c7553e0-0334-4642-96ff-c6c62f1e6385",
   "metadata": {},
   "outputs": [],
   "source": [
    "import gc"
   ]
  },
  {
   "cell_type": "code",
   "execution_count": 19,
   "id": "415e6a17-2603-4cdb-92d3-671a2bf22427",
   "metadata": {},
   "outputs": [
    {
     "data": {
      "text/plain": [
       "36"
      ]
     },
     "execution_count": 19,
     "metadata": {},
     "output_type": "execute_result"
    }
   ],
   "source": [
    "for t,p in zip(tokens,pars):\n",
    "    p['tokens']=t\n",
    "\n",
    "del(tokens)\n",
    "gc.collect()"
   ]
  },
  {
   "cell_type": "code",
   "execution_count": 20,
   "id": "1a1c3680-ceac-4a8e-b366-0a70ad904d07",
   "metadata": {},
   "outputs": [
    {
     "data": {
      "application/vnd.jupyter.widget-view+json": {
       "model_id": "7ae6177a81154b6fb69f01997e89698b",
       "version_major": 2,
       "version_minor": 0
      },
      "text/plain": [
       "  0%|          | 0/2677059 [00:00<?, ?it/s]"
      ]
     },
     "metadata": {},
     "output_type": "display_data"
    }
   ],
   "source": [
    "token_chunks=[]\n",
    "for p in tqdm(pars):\n",
    "    if not p:\n",
    "        continue\n",
    "    for i,toks_index in enumerate(range(0,len(p['tokens']),model.config.max_position_embeddings)):\n",
    "        toks=p['tokens'][toks_index:toks_index+model.config.max_position_embeddings]\n",
    "        cur={k:p[k] for k in ('doc', 'count')}\n",
    "        cur.update({'chunk':i,'tokens':toks})\n",
    "        #cur['chunk']=i\n",
    "        #cur['tokens']=toks\n",
    "        token_chunks.append(cur)"
   ]
  },
  {
   "cell_type": "code",
   "execution_count": 21,
   "id": "045351f3-69b7-4b56-a864-6a93a1e6c33a",
   "metadata": {},
   "outputs": [
    {
     "data": {
      "text/plain": [
       "2695598"
      ]
     },
     "execution_count": 21,
     "metadata": {},
     "output_type": "execute_result"
    }
   ],
   "source": [
    "len(token_chunks)"
   ]
  },
  {
   "cell_type": "code",
   "execution_count": 22,
   "id": "1df5e445-aca2-4c50-b005-1f64ff96f041",
   "metadata": {},
   "outputs": [
    {
     "data": {
      "text/plain": [
       "{'doc': 0,\n",
       " 'count': 23,\n",
       " 'chunk': 0,\n",
       " 'tokens': [0,\n",
       "  1751,\n",
       "  1054,\n",
       "  10339,\n",
       "  16175,\n",
       "  3947,\n",
       "  1751,\n",
       "  1054,\n",
       "  10339,\n",
       "  16175,\n",
       "  3947,\n",
       "  1751,\n",
       "  1054,\n",
       "  10339,\n",
       "  16175,\n",
       "  3947,\n",
       "  2]}"
      ]
     },
     "execution_count": 22,
     "metadata": {},
     "output_type": "execute_result"
    }
   ],
   "source": [
    "token_chunks[3]#.sort(key=lambda d:len(d['tokens']))"
   ]
  },
  {
   "cell_type": "code",
   "execution_count": 23,
   "id": "701dc504-2685-447b-a41b-42b2d822df60",
   "metadata": {},
   "outputs": [],
   "source": [
    "token_chunks.sort(key=lambda d:len(d['tokens']))"
   ]
  },
  {
   "cell_type": "code",
   "execution_count": 24,
   "id": "331fd96c-9e9f-4a6d-81d6-950fc2e1f27e",
   "metadata": {},
   "outputs": [],
   "source": [
    "torch.save(token_chunks,'clean_data_e5.pt')"
   ]
  },
  {
   "cell_type": "markdown",
   "id": "3aafa5f2-cac7-490d-99c5-e7df291fb1da",
   "metadata": {},
   "source": [
    "# embed"
   ]
  },
  {
   "cell_type": "code",
   "execution_count": 43,
   "id": "5585508e-a775-47f4-903c-97808e058a82",
   "metadata": {},
   "outputs": [],
   "source": [
    "#token_chunks=torch.load('clean_data.pt')"
   ]
  },
  {
   "cell_type": "code",
   "execution_count": 25,
   "id": "a6f63e80-866c-4fb2-beef-79ba049a2283",
   "metadata": {},
   "outputs": [
    {
     "data": {
      "text/plain": [
       "BertModel(\n",
       "  (embeddings): BertEmbeddings(\n",
       "    (word_embeddings): Embedding(250002, 768, padding_idx=1)\n",
       "    (position_embeddings): Embedding(514, 768)\n",
       "    (token_type_embeddings): Embedding(1, 768)\n",
       "    (LayerNorm): LayerNorm((768,), eps=1e-05, elementwise_affine=True)\n",
       "    (dropout): Dropout(p=0.1, inplace=False)\n",
       "  )\n",
       "  (encoder): BertEncoder(\n",
       "    (layer): ModuleList(\n",
       "      (0-11): 12 x BertLayer(\n",
       "        (attention): BertAttention(\n",
       "          (self): BertSelfAttention(\n",
       "            (query): Linear(in_features=768, out_features=768, bias=True)\n",
       "            (key): Linear(in_features=768, out_features=768, bias=True)\n",
       "            (value): Linear(in_features=768, out_features=768, bias=True)\n",
       "            (dropout): Dropout(p=0.1, inplace=False)\n",
       "          )\n",
       "          (output): BertSelfOutput(\n",
       "            (dense): Linear(in_features=768, out_features=768, bias=True)\n",
       "            (LayerNorm): LayerNorm((768,), eps=1e-05, elementwise_affine=True)\n",
       "            (dropout): Dropout(p=0.1, inplace=False)\n",
       "          )\n",
       "        )\n",
       "        (intermediate): BertIntermediate(\n",
       "          (dense): Linear(in_features=768, out_features=3072, bias=True)\n",
       "          (intermediate_act_fn): GELUActivation()\n",
       "        )\n",
       "        (output): BertOutput(\n",
       "          (dense): Linear(in_features=3072, out_features=768, bias=True)\n",
       "          (LayerNorm): LayerNorm((768,), eps=1e-05, elementwise_affine=True)\n",
       "          (dropout): Dropout(p=0.1, inplace=False)\n",
       "        )\n",
       "      )\n",
       "    )\n",
       "  )\n",
       "  (pooler): BertPooler(\n",
       "    (dense): Linear(in_features=768, out_features=768, bias=True)\n",
       "    (activation): Tanh()\n",
       "  )\n",
       ")"
      ]
     },
     "execution_count": 25,
     "metadata": {},
     "output_type": "execute_result"
    }
   ],
   "source": [
    "model.to('cuda')"
   ]
  },
  {
   "cell_type": "code",
   "execution_count": 26,
   "id": "3aa484bd-65d2-433a-a98e-de60697f5626",
   "metadata": {},
   "outputs": [],
   "source": [
    "def padded_batch(tokens):\n",
    "    lens=[len(t) for t in tokens]\n",
    "    m=max(lens)\n",
    "    toks=torch.IntTensor([t+(m-l)*[0] for l,t in zip(lens,tokens)])#,device=model.device)\n",
    "    mask=torch.IntTensor([l*[1]+(m-l)*[0] for l in lens])#,device=model.device)\n",
    "    return {'input_ids':toks,'attention_mask':mask}"
   ]
  },
  {
   "cell_type": "code",
   "execution_count": 27,
   "id": "faf2f9dd-7a75-4970-b9c9-c2550882d771",
   "metadata": {},
   "outputs": [
    {
     "data": {
      "application/vnd.jupyter.widget-view+json": {
       "model_id": "3a54a2335e2f4475b3890c0f2daee3e0",
       "version_major": 2,
       "version_minor": 0
      },
      "text/plain": [
       "  0%|          | 0/10530 [00:00<?, ?it/s]"
      ]
     },
     "metadata": {},
     "output_type": "display_data"
    }
   ],
   "source": [
    "all_embedding=[]\n",
    "batch=256\n",
    "with torch.no_grad():\n",
    "    for i in tqdm(range(0,len(token_chunks),batch)):\n",
    "        ld=token_chunks[i:i+batch]\n",
    "        toks=[d['tokens'] for d in ld]\n",
    "        inputs=padded_batch(toks)\n",
    "        inputs={k:v.to('cuda') for  k,v in inputs.items()}\n",
    "        \n",
    "        outputs=model(**inputs).last_hidden_state\n",
    "        mask=inputs['attention_mask'][:,:,None]\n",
    "        #print(outputs.shape)\n",
    "        #print(mask.shape)\n",
    "        outputs*=mask\n",
    "        outputs=(outputs.sum([1])/mask.sum([1])).cpu() #old bug runing on a mask\n",
    "        all_embedding.extend(outputs)"
   ]
  },
  {
   "cell_type": "code",
   "execution_count": 28,
   "id": "fb564c28-ab44-4c0c-830d-146cc3a4856e",
   "metadata": {},
   "outputs": [],
   "source": [
    "# import gc\n",
    "# del(token_chunks)\n",
    "# gc.collect()"
   ]
  },
  {
   "cell_type": "code",
   "execution_count": 29,
   "id": "f1462a86-e5b0-4b06-94f4-245c3f4bdb7b",
   "metadata": {},
   "outputs": [],
   "source": [
    "torch.save(all_embedding,'chunked_emb_e5.pt')"
   ]
  },
  {
   "cell_type": "code",
   "execution_count": 30,
   "id": "4cc4b395-1949-4c9e-85eb-8edab6c08df4",
   "metadata": {},
   "outputs": [
    {
     "data": {
      "text/plain": [
       "torch.Size([2695598, 768])"
      ]
     },
     "execution_count": 30,
     "metadata": {},
     "output_type": "execute_result"
    }
   ],
   "source": [
    "emb=torch.stack(all_embedding)\n",
    "emb.shape"
   ]
  },
  {
   "cell_type": "code",
   "execution_count": null,
   "id": "dba5a911-08e9-4afd-8f9a-722028ca769e",
   "metadata": {},
   "outputs": [],
   "source": []
  },
  {
   "cell_type": "markdown",
   "id": "8bbe62eb-4db2-419e-8f45-7889e9d44535",
   "metadata": {},
   "source": [
    "# test"
   ]
  },
  {
   "cell_type": "code",
   "execution_count": 103,
   "id": "ef7787e2-2115-479e-92d7-b0614eb0c093",
   "metadata": {},
   "outputs": [],
   "source": [
    "#token_chunks=torch.load('clean_data.pt')"
   ]
  },
  {
   "cell_type": "code",
   "execution_count": 31,
   "id": "a7ae2088-7279-45e9-ad11-bbe28adfff4d",
   "metadata": {},
   "outputs": [],
   "source": [
    "index = faiss.IndexFlatL2(emb.shape[1])\n",
    "index.add(emb)"
   ]
  },
  {
   "cell_type": "code",
   "execution_count": 44,
   "id": "d7d7ddb1-de19-4521-a9c5-892ebcb92aa0",
   "metadata": {},
   "outputs": [],
   "source": [
    "#test_text=\"עירעור על מעצר\"\n",
    "#test_text=\"תיק מנהלי\"\n",
    "#test_text=\"מחלת הקורונה מפריעה לעובדים לעבוד\"\n",
    "test_text=\"שוחד, מרמה והפרת אמונים\"\n",
    "#test_text=\"שוחד של נבחרי ציבור\"\n",
    "#test_text=\"עצירים מנהליים מהפרות סדר ביהודה ושומרון\"\n",
    "#test_text=\"תנובה לשיווק תוצרת חקלאית\"\n",
    "# test_text=\"ראש ממשלה מושחת\"\n",
    "# test_text=\"ראש ממשלה מושחט\"\n",
    "# test_text=\"טייקון מרמה את הציבור על ידי שיחוד עדי מדינה\"\n",
    "#test_text=\"תיקון לחוק אשר מאפשר חופש ביטוי אומנותי \" #didnt work\n",
    "#test_text=\"איך בית המשפט העליון פסק בעבר בנושאים של זכויות פרט ופרטיות במקרים שבהם הייתה עימות בין זכויות אלו לבין צורכי הביטחון הלאומי, ומה היו השיקולים העיקריים שהנחו את השופטים בקביעת הגבולות והמאזן בין הזכויות האלו?\"\n"
   ]
  },
  {
   "cell_type": "code",
   "execution_count": 45,
   "id": "fa23644a-2501-461b-9610-36195e8aa80a",
   "metadata": {},
   "outputs": [],
   "source": [
    "# חוקים ממקור \n",
    "#https://he.wikisource.org/wiki/%D7%97%D7%95%D7%A7_%D7%94%D7%A2%D7%95%D7%A0%D7%A9%D7%99%D7%9F#%D7%A4%D7%A8%D7%A7_%D7%96_%D7%A1%D7%99%D7%9E%D7%9F_%D7%91\n",
    "#test_text=\"פגיעה בריבונות המדינה או בשלמותה\"\n",
    "# test_text=\"\"\"סימן ב׳: בגידה\n",
    "# 97.\n",
    "# פגיעה בריבונות המדינה או בשלמותהnowiki> </nowiki> [ד/7]\n",
    "# (א)\n",
    "# מי שעשה, בכוונה לפגוע בריבונותה של המדינה, מעשה שיש בו כדי לפגוע בריבונותה, דינו – מיתה או מאסר עולם.\n",
    "# (ב)\n",
    "# מי שעשה, בכוונה ששטח כלשהו יצא מריבונותה של המדינה או ייכנס לריבונותה של מדינת חוץ, מעשה שיש בו כדי להביא לכך, דינו – מיתה או מאסר עולם.\n",
    "# 98.\n",
    "# גרם למלחמהnowiki> </nowiki> [ד/8]\n",
    "# מי שעשה, בכוונה להביא לידי פעולה צבאית נגד ישראל, מעשה שיש בו כדי להביא לכך, דינו – מאסר חמש עשרה שנה; התכוון לסייע לאויב, דינו – מיתה או מאסר עולם.\n",
    "# 99.\n",
    "# סיוע לאויב במלחמהnowiki> </nowiki> [ד/9]\n",
    "# (א)\n",
    "# מי שעשה, בכוונה לסייע לאויב במלחמתו נגד ישראל, מעשה שיש בו כדי לסייעו לכך, דינו – מיתה או מאסר עולם.\n",
    "# (ב)\n",
    "# לענין סעיף זה, ”סיוע“ – לרבות מסירת ידיעה בכוונה שתגיע לידי האויב או ביודעין שהיא עשויה להגיע לידי האויב, ואין נפקא מינה שבעת מסירתה לא התנהלה מלחמה.\n",
    "# 100.\n",
    "# גילוי החלטה לבגודnowiki> </nowiki> [ד/10]\n",
    "# מי שעשה מעשה המגלה אחת הכוונות האמורות בסעיפים 97, 98 או 99, דינו – מאסר עשר שנים.\n",
    "# 101.\n",
    "# שירות בכוחות האויבnowiki> </nowiki> [ד/11]\n",
    "# אזרח ישראלי וכל אדם אחר החייב בנאמנות למדינת ישראל, בין באשר הוא חייב בשירות בטחון לפי חוק שירות בטחון, תשי״ט–1959 [נוסח משולב], ובין באשר שירת בשירות המדינה, והוא שירת בכוחות המזויינים של האויב, דינו – מאסר חמש עשרה שנה.\n",
    "# 102.\n",
    "# סיוע לשבוי מלחמהnowiki> </nowiki> [ד/12]\n",
    "# (א)\n",
    "# מי שסייע בידי שבוי מלחמה להימלט או לנסות להימלט ממקום כליאתו או מישראל, דינו – מאסר עשר שנים; התכוון לפגוע בבטחון המדינה, דינו – מאסר חמש עשרה שנה.\n",
    "# (ב)\n",
    "# מי שהתרשל בתפקידו למנוע בריחת שבוי מלחמה, דינו – מאסר שלוש שנים.\n",
    "# 103.\n",
    "# תעמולה תבוסניתnowiki> </nowiki> [ד/13]\n",
    "# מי שהפיץ בשעת לחימה, ובכוונה לגרום בהלה בציבור, ידיעות שיש בהן כדי לערער את רוח חיילי ישראל ותושביה בעמידתם בפני האויב, דינו – מאסר חמש שנים; התכוון לפגוע בבטחון המדינה, דינו – מאסר עשר שנים.\n",
    "# \"\"\"\n",
    "\n",
    "# test_text=\"\"\"סימן ח׳: שונות\n",
    "# 130.\n",
    "# שמירת דיניםnowiki> </nowiki> [ד/40]\n",
    "# הוראות פרק זה באות להוסיף על האמור בכל דין אחר ולא לגרוע ממנו.\n",
    "# 131.\n",
    "# עבירות חוץnowiki> </nowiki> [ד/41] [תיקון: תשל״ט־3]\n",
    "# מי שעבר עבירה לפי פרק זה בחוץ לארץ, יתן עליה את הדין בישראל; ואולם לא ישא אדם באחריות פלילית בשל עבירה לפי סעיפים 97, 98, 100, 103 או 121 שעבר בחוץ לארץ, אם בשעת העבירה לא היה אזרח ישראלי, תושב ישראל או חייב בנאמנות למדינת ישראל בין משום ששירת בשירות המדינה ובין מסיבה אחרת.\n",
    "# 132.\n",
    "# ביצועnowiki> </nowiki> [ד/43]\n",
    "# שר המשפטים ממונה על ביצוע פרק זה.\n",
    "# \"\"\"\n",
    "\n",
    "# test_text=\"\"\"סימן ח׳: שונות\n",
    "# 130.\n",
    "# הוראות פרק זה באות להוסיף על האמור בכל דין אחר ולא לגרוע ממנו.\n",
    "# 131.\n",
    "# מי שעבר עבירה לפי פרק זה בחוץ לארץ, יתן עליה את הדין בישראל; ואולם לא ישא אדם באחריות פלילית בשל עבירה לפי סעיפים 97, 98, 100, 103 או 121 שעבר בחוץ לארץ, אם בשעת העבירה לא היה אזרח ישראלי, תושב ישראל או חייב בנאמנות למדינת ישראל בין משום ששירת בשירות המדינה ובין מסיבה אחרת.\n",
    "# 132.\n",
    "# שר המשפטים ממונה על ביצוע פרק זה.\n",
    "# \"\"\""
   ]
  },
  {
   "cell_type": "code",
   "execution_count": 46,
   "id": "9aa1900d-9872-4d85-ba8d-d26ff8b2d7e3",
   "metadata": {},
   "outputs": [],
   "source": [
    "with torch.no_grad():\n",
    "    inputs=tokenizer(test_text,return_tensors='pt',truncation=True,padding=True,max_length=model.config.max_position_embeddings)\n",
    "    inputs={k:v.to(model.device) for k,v in inputs.items()}\n",
    "    key=model(**inputs).last_hidden_state.mean([1]).cpu()"
   ]
  },
  {
   "cell_type": "code",
   "execution_count": 47,
   "id": "388bbfaf-ebc7-4462-936e-29ec6f8cbff2",
   "metadata": {},
   "outputs": [
    {
     "data": {
      "text/plain": [
       "array([[834706, 840199, 994326]])"
      ]
     },
     "execution_count": 47,
     "metadata": {},
     "output_type": "execute_result"
    }
   ],
   "source": [
    "_,idx=index.search(key,3)\n",
    "idx"
   ]
  },
  {
   "cell_type": "code",
   "execution_count": 48,
   "id": "18477485-4a50-43a8-86c3-a804405b7021",
   "metadata": {},
   "outputs": [
    {
     "data": {
      "text/plain": [
       "[\"<s> והשופטים: ד' דורנר, מ' אילן</s>\",\n",
       " \"<s> והשופטים: ד' דורנר, מ' אילן</s>\",\n",
       " \"<s> השופטים ד' דורנר, א' ריבלין ומ' נאור</s>\"]"
      ]
     },
     "execution_count": 48,
     "metadata": {},
     "output_type": "execute_result"
    }
   ],
   "source": [
    "ans=[tokenizer.decode(token_chunks[i]['tokens']) for i in idx[0]]\n",
    "ans"
   ]
  },
  {
   "cell_type": "code",
   "execution_count": 49,
   "id": "8d6a8e3c-c788-40dc-af7a-bbb5f2218086",
   "metadata": {},
   "outputs": [
    {
     "data": {
      "text/plain": [
       "[56617, 74158, 163045]"
      ]
     },
     "execution_count": 49,
     "metadata": {},
     "output_type": "execute_result"
    }
   ],
   "source": [
    "[token_chunks[i]['doc']for i in idx[0]]"
   ]
  },
  {
   "cell_type": "code",
   "execution_count": 50,
   "id": "e42105a5-f0a2-4507-8415-d7dc3f3aeb25",
   "metadata": {},
   "outputs": [
    {
     "name": "stdout",
     "output_type": "stream",
     "text": [
      "\n",
      "\n",
      "ב\n",
      "בית המשפט העליון\n",
      "\n",
      "דנ\"פ \n",
      "2243/99\n",
      "\n",
      "בפני:                                               \n",
      "כבוד הנשיא א' ברק\n",
      "\n",
      "העותר\n",
      ":                                            \n",
      "רפאל\n",
      "רייך\n",
      "\n",
      "                   נגד\n",
      "\n",
      "המשיב\n",
      "ה\n",
      ":                                          \n",
      "מדינת ישראל\n",
      "\n",
      "עתירה לדיון נוסף בפסק \n",
      "דינו של בית המשפט\n",
      "\n",
      "                                                      העליון\n",
      "בע\"פ 5640/97 מיום 28.3.99, שניתן\n",
      "\n",
      "                                                      על\n",
      "ידי כבוד המשנה לנשיא, השופט ש' לוין,\n",
      "\n",
      "                                                      והשופטים:\n",
      "ד' דורנר, מ' אילן\n",
      "\n",
      "בשם\n",
      "העותר:                                     עו\"ד חנן מלצר; עו\"ד דניאל\n",
      "פדר; \n",
      "\n",
      "                                                      עו\"ד\n",
      "גילת אייל\n",
      "\n",
      "החלטה\n",
      "\n",
      "בפני עתירה לקיום דיון נוסף בפסק דינו של בית משפט זה\n",
      "בע\"פ 5640/97 \n",
      "רייך רפאל נ' מדינת ישראל\n",
      ". אבקש תגובת המשיבה בתוך עשרים\n",
      "ואחד יום מעת ההמצאה.\n",
      "\n",
      "ניתנה היום, ב' באייר התשנ\"ט (18.4.99). \n",
      "\n",
      "                                                                                                            ה\n",
      "נ ש י א\n",
      "\n",
      "העתק מתאים למקור\n",
      "\n",
      "שמריהו\n",
      "כהן - מזכיר ראשי\n",
      "\n",
      "99022430.\n",
      "A03\n",
      "/דז/\n",
      "\n",
      "\n"
     ]
    }
   ],
   "source": [
    "ans=[re.sub(r'\\n\\s*\\n\\s*\\n+', '\\n\\n', texts[token_chunks[i]['doc']]) for i in idx[0]]\n",
    "print(ans[0])"
   ]
  },
  {
   "cell_type": "code",
   "execution_count": null,
   "id": "7b69d7b2-3288-4344-a9a2-10f0fb80a154",
   "metadata": {},
   "outputs": [],
   "source": []
  },
  {
   "cell_type": "code",
   "execution_count": 158,
   "id": "930e5147-7c09-4764-9253-55dc20e0ec74",
   "metadata": {},
   "outputs": [
    {
     "data": {
      "text/plain": [
       "[9, 8, 7, 6, 5]"
      ]
     },
     "execution_count": 158,
     "metadata": {},
     "output_type": "execute_result"
    }
   ],
   "source": [
    "arr=list(range(10))\n",
    "arr.sort(reverse=True)\n",
    "arr[:5]"
   ]
  },
  {
   "cell_type": "code",
   "execution_count": 166,
   "id": "a37172fb-2670-435d-9b3c-f51a4161ac2d",
   "metadata": {},
   "outputs": [
    {
     "data": {
      "text/plain": [
       "Counter({0: 2677059, 1: 4378, 2: 63, 3: 7})"
      ]
     },
     "execution_count": 166,
     "metadata": {},
     "output_type": "execute_result"
    }
   ],
   "source": [
    "chunk_ids=[d['chunk'] for d in token_chunks]\n",
    "from collections import Counter\n",
    "chunk_ids=Counter(chunk_ids)\n",
    "chunk_ids"
   ]
  },
  {
   "cell_type": "code",
   "execution_count": 168,
   "id": "41069e12-685d-487c-9166-3a7b59f9195b",
   "metadata": {},
   "outputs": [
    {
     "data": {
      "text/plain": [
       "0.9983412312554097"
      ]
     },
     "execution_count": 168,
     "metadata": {},
     "output_type": "execute_result"
    }
   ],
   "source": [
    "chunk_ids[0]/sum(chunk_ids.values())"
   ]
  },
  {
   "cell_type": "code",
   "execution_count": 173,
   "id": "dd63bb5b-0e47-4268-8a75-17d2609b5e21",
   "metadata": {},
   "outputs": [
    {
     "data": {
      "text/plain": [
       "Counter({143783: 15,\n",
       "         629694: 15,\n",
       "         611939: 14,\n",
       "         629682: 14,\n",
       "         629704: 13,\n",
       "         33928: 13,\n",
       "         629628: 12,\n",
       "         611938: 12,\n",
       "         451822: 12,\n",
       "         22484: 12,\n",
       "         301635: 11,\n",
       "         465005: 11,\n",
       "         225397: 11,\n",
       "         234310: 11,\n",
       "         223969: 11,\n",
       "         613442: 11,\n",
       "         19429: 11,\n",
       "         52032: 11,\n",
       "         629717: 11,\n",
       "         629619: 11,\n",
       "         629691: 11,\n",
       "         629679: 11,\n",
       "         629677: 11,\n",
       "         22706: 10,\n",
       "         719289: 10,\n",
       "         146789: 10,\n",
       "         629703: 10,\n",
       "         172142: 10,\n",
       "         184600: 10,\n",
       "         204105: 10,\n",
       "         214565: 10,\n",
       "         612130: 10,\n",
       "         629696: 10,\n",
       "         258947: 10,\n",
       "         286515: 10,\n",
       "         64352: 10,\n",
       "         689886: 10,\n",
       "         350244: 10,\n",
       "         456814: 10,\n",
       "         337988: 10,\n",
       "         22609: 10,\n",
       "         198874: 10,\n",
       "         702959: 10,\n",
       "         207017: 10,\n",
       "         382615: 10,\n",
       "         629712: 10,\n",
       "         539359: 10,\n",
       "         175815: 10,\n",
       "         336809: 10,\n",
       "         344914: 10,\n",
       "         18730: 10,\n",
       "         195303: 10,\n",
       "         138430: 10,\n",
       "         475451: 10,\n",
       "         175682: 10,\n",
       "         518349: 10,\n",
       "         683366: 10,\n",
       "         473108: 10,\n",
       "         653665: 10,\n",
       "         516558: 10,\n",
       "         346920: 10,\n",
       "         176971: 10,\n",
       "         629727: 10,\n",
       "         247038: 10,\n",
       "         211081: 10,\n",
       "         233764: 10,\n",
       "         179413: 10,\n",
       "         629698: 10,\n",
       "         629708: 10,\n",
       "         408462: 10,\n",
       "         629709: 10,\n",
       "         612022: 10,\n",
       "         6255: 10,\n",
       "         486290: 10,\n",
       "         629701: 10,\n",
       "         22667: 10,\n",
       "         294824: 10,\n",
       "         294825: 10,\n",
       "         629728: 10,\n",
       "         287527: 10,\n",
       "         629729: 10,\n",
       "         22747: 10,\n",
       "         124861: 10,\n",
       "         629707: 10,\n",
       "         268343: 10,\n",
       "         564203: 10,\n",
       "         571770: 10,\n",
       "         581525: 10,\n",
       "         588176: 10,\n",
       "         76047: 9,\n",
       "         239593: 9,\n",
       "         250319: 9,\n",
       "         255200: 9,\n",
       "         508856: 9,\n",
       "         629731: 9,\n",
       "         233051: 9,\n",
       "         392728: 9,\n",
       "         536531: 9,\n",
       "         580830: 9,\n",
       "         583042: 9,\n",
       "         610327: 9,\n",
       "         185946: 9,\n",
       "         423127: 9,\n",
       "         46313: 9,\n",
       "         603552: 9,\n",
       "         508756: 9,\n",
       "         470551: 9,\n",
       "         700421: 9,\n",
       "         648430: 9,\n",
       "         368962: 9,\n",
       "         215002: 9,\n",
       "         237094: 9,\n",
       "         319105: 9,\n",
       "         270388: 9,\n",
       "         312717: 9,\n",
       "         635867: 9,\n",
       "         732014: 9,\n",
       "         55038: 9,\n",
       "         362763: 9,\n",
       "         505606: 9,\n",
       "         629733: 9,\n",
       "         257953: 9,\n",
       "         566430: 9,\n",
       "         592737: 9,\n",
       "         594867: 9,\n",
       "         298867: 9,\n",
       "         727662: 9,\n",
       "         727998: 9,\n",
       "         207649: 9,\n",
       "         217626: 9,\n",
       "         176812: 9,\n",
       "         368689: 9,\n",
       "         252050: 9,\n",
       "         670072: 9,\n",
       "         670190: 9,\n",
       "         681898: 9,\n",
       "         611945: 9,\n",
       "         629710: 9,\n",
       "         629697: 9,\n",
       "         80062: 9,\n",
       "         511456: 9,\n",
       "         727677: 9,\n",
       "         728969: 9,\n",
       "         729169: 9,\n",
       "         280877: 9,\n",
       "         180945: 9,\n",
       "         256134: 9,\n",
       "         372078: 9,\n",
       "         434403: 9,\n",
       "         629699: 9,\n",
       "         36116: 9,\n",
       "         208947: 9,\n",
       "         216746: 9,\n",
       "         103657: 9,\n",
       "         103806: 9,\n",
       "         473018: 9,\n",
       "         704455: 9,\n",
       "         342325: 9,\n",
       "         558758: 9,\n",
       "         213372: 9,\n",
       "         306464: 9,\n",
       "         269217: 9,\n",
       "         611948: 9,\n",
       "         22516: 9,\n",
       "         218420: 8,\n",
       "         416843: 8,\n",
       "         685560: 8,\n",
       "         685795: 8,\n",
       "         221648: 8,\n",
       "         254099: 8,\n",
       "         387825: 8,\n",
       "         489040: 8,\n",
       "         24706: 8,\n",
       "         281369: 8,\n",
       "         392800: 8,\n",
       "         413246: 8,\n",
       "         543980: 8,\n",
       "         545145: 8,\n",
       "         629702: 8,\n",
       "         331807: 8,\n",
       "         374137: 8,\n",
       "         376580: 8,\n",
       "         398034: 8,\n",
       "         519915: 8,\n",
       "         7250: 8,\n",
       "         519253: 8,\n",
       "         19295: 8,\n",
       "         241891: 8,\n",
       "         277226: 8,\n",
       "         475317: 8,\n",
       "         687902: 8,\n",
       "         292420: 8,\n",
       "         394947: 8,\n",
       "         518212: 8,\n",
       "         441933: 8,\n",
       "         475899: 8,\n",
       "         22561: 8,\n",
       "         310332: 8,\n",
       "         413641: 8,\n",
       "         474955: 8,\n",
       "         214988: 8,\n",
       "         369885: 8,\n",
       "         464322: 8,\n",
       "         542273: 8,\n",
       "         347928: 8,\n",
       "         396247: 8,\n",
       "         584303: 8,\n",
       "         741717: 8,\n",
       "         177086: 8,\n",
       "         255343: 8,\n",
       "         284688: 8,\n",
       "         313657: 8,\n",
       "         491423: 8,\n",
       "         71675: 8,\n",
       "         106362: 8,\n",
       "         22545: 8,\n",
       "         274666: 8,\n",
       "         423530: 8,\n",
       "         65413: 8,\n",
       "         218369: 8,\n",
       "         705893: 8,\n",
       "         296459: 8,\n",
       "         159782: 8,\n",
       "         86224: 8,\n",
       "         211675: 8,\n",
       "         116777: 8,\n",
       "         362238: 8,\n",
       "         683475: 8,\n",
       "         167827: 8,\n",
       "         261313: 8,\n",
       "         504420: 8,\n",
       "         222090: 8,\n",
       "         4451: 8,\n",
       "         22564: 8,\n",
       "         633648: 8,\n",
       "         312822: 8,\n",
       "         592755: 8,\n",
       "         10037: 8,\n",
       "         68088: 8,\n",
       "         237174: 8,\n",
       "         1145: 8,\n",
       "         272051: 8,\n",
       "         22522: 8,\n",
       "         156345: 8,\n",
       "         193799: 8,\n",
       "         588350: 8,\n",
       "         182256: 8,\n",
       "         499091: 8,\n",
       "         505969: 8,\n",
       "         522011: 8,\n",
       "         611126: 8,\n",
       "         276734: 8,\n",
       "         464520: 8,\n",
       "         509728: 8,\n",
       "         227437: 8,\n",
       "         175866: 8,\n",
       "         611964: 8,\n",
       "         21140: 8,\n",
       "         189816: 8,\n",
       "         365480: 8,\n",
       "         368623: 8,\n",
       "         196673: 8,\n",
       "         615262: 8,\n",
       "         396026: 8,\n",
       "         489526: 8,\n",
       "         694411: 8,\n",
       "         391876: 8,\n",
       "         568843: 8,\n",
       "         316879: 8,\n",
       "         267320: 8,\n",
       "         195031: 8,\n",
       "         450467: 8,\n",
       "         323281: 8,\n",
       "         83479: 8,\n",
       "         633503: 8,\n",
       "         18947: 8,\n",
       "         444392: 8,\n",
       "         407271: 8,\n",
       "         492999: 8,\n",
       "         213273: 8,\n",
       "         375447: 8,\n",
       "         253510: 8,\n",
       "         229597: 8,\n",
       "         513444: 8,\n",
       "         226556: 8,\n",
       "         326684: 8,\n",
       "         262085: 8,\n",
       "         278975: 8,\n",
       "         600867: 8,\n",
       "         563496: 8,\n",
       "         22756: 8,\n",
       "         99738: 8,\n",
       "         4637: 8,\n",
       "         629635: 8,\n",
       "         144972: 7,\n",
       "         160187: 7,\n",
       "         169269: 7,\n",
       "         170188: 7,\n",
       "         195773: 7,\n",
       "         471079: 7,\n",
       "         472580: 7,\n",
       "         642865: 7,\n",
       "         100685: 7,\n",
       "         202387: 7,\n",
       "         239287: 7,\n",
       "         250962: 7,\n",
       "         276054: 7,\n",
       "         317012: 7,\n",
       "         421135: 7,\n",
       "         517220: 7,\n",
       "         541586: 7,\n",
       "         734691: 7,\n",
       "         5550: 7,\n",
       "         87852: 7,\n",
       "         206408: 7,\n",
       "         218149: 7,\n",
       "         266788: 7,\n",
       "         288499: 7,\n",
       "         380119: 7,\n",
       "         503096: 7,\n",
       "         504809: 7,\n",
       "         613614: 7,\n",
       "         8206: 7,\n",
       "         147619: 7,\n",
       "         162720: 7,\n",
       "         189545: 7,\n",
       "         248318: 7,\n",
       "         374760: 7,\n",
       "         522587: 7,\n",
       "         126534: 7,\n",
       "         162527: 7,\n",
       "         203788: 7,\n",
       "         243884: 7,\n",
       "         244772: 7,\n",
       "         360422: 7,\n",
       "         368402: 7,\n",
       "         487904: 7,\n",
       "         47636: 7,\n",
       "         358984: 7,\n",
       "         377058: 7,\n",
       "         430585: 7,\n",
       "         448712: 7,\n",
       "         480099: 7,\n",
       "         540911: 7,\n",
       "         565206: 7,\n",
       "         684620: 7,\n",
       "         684798: 7,\n",
       "         254268: 7,\n",
       "         257483: 7,\n",
       "         263263: 7,\n",
       "         271397: 7,\n",
       "         299209: 7,\n",
       "         384930: 7,\n",
       "         396164: 7,\n",
       "         664008: 7,\n",
       "         17020: 7,\n",
       "         28500: 7,\n",
       "         208861: 7,\n",
       "         279078: 7,\n",
       "         288059: 7,\n",
       "         344748: 7,\n",
       "         454472: 7,\n",
       "         517580: 7,\n",
       "         629695: 7,\n",
       "         652896: 7,\n",
       "         216901: 7,\n",
       "         296246: 7,\n",
       "         296582: 7,\n",
       "         492028: 7,\n",
       "         492610: 7,\n",
       "         508992: 7,\n",
       "         525797: 7,\n",
       "         557327: 7,\n",
       "         629607: 7,\n",
       "         676706: 7,\n",
       "         677231: 7,\n",
       "         677369: 7,\n",
       "         718299: 7,\n",
       "         156718: 7,\n",
       "         175992: 7,\n",
       "         278776: 7,\n",
       "         346002: 7,\n",
       "         366931: 7,\n",
       "         459444: 7,\n",
       "         577713: 7,\n",
       "         710132: 7,\n",
       "         710368: 7,\n",
       "         183796: 7,\n",
       "         220297: 7,\n",
       "         320405: 7,\n",
       "         464350: 7,\n",
       "         552648: 7,\n",
       "         650893: 7,\n",
       "         173945: 7,\n",
       "         203981: 7,\n",
       "         219573: 7,\n",
       "         238805: 7,\n",
       "         277207: 7,\n",
       "         368195: 7,\n",
       "         378238: 7,\n",
       "         495455: 7,\n",
       "         706326: 7,\n",
       "         711504: 7,\n",
       "         11712: 7,\n",
       "         119309: 7,\n",
       "         172182: 7,\n",
       "         198811: 7,\n",
       "         374964: 7,\n",
       "         124641: 7,\n",
       "         200122: 7,\n",
       "         398413: 7,\n",
       "         611034: 7,\n",
       "         129426: 7,\n",
       "         168242: 7,\n",
       "         266734: 7,\n",
       "         395682: 7,\n",
       "         469223: 7,\n",
       "         537032: 7,\n",
       "         647708: 7,\n",
       "         239074: 7,\n",
       "         308073: 7,\n",
       "         344147: 7,\n",
       "         395718: 7,\n",
       "         549114: 7,\n",
       "         549156: 7,\n",
       "         589440: 7,\n",
       "         260960: 7,\n",
       "         277354: 7,\n",
       "         333577: 7,\n",
       "         370538: 7,\n",
       "         518526: 7,\n",
       "         203515: 7,\n",
       "         221691: 7,\n",
       "         489457: 7,\n",
       "         504093: 7,\n",
       "         552014: 7,\n",
       "         612004: 7,\n",
       "         629713: 7,\n",
       "         231466: 7,\n",
       "         258506: 7,\n",
       "         481871: 7,\n",
       "         652914: 7,\n",
       "         191635: 7,\n",
       "         233774: 7,\n",
       "         247004: 7,\n",
       "         264522: 7,\n",
       "         275293: 7,\n",
       "         22655: 7,\n",
       "         383465: 7,\n",
       "         482677: 7,\n",
       "         629600: 7,\n",
       "         632966: 7,\n",
       "         633029: 7,\n",
       "         633132: 7,\n",
       "         633144: 7,\n",
       "         633151: 7,\n",
       "         633374: 7,\n",
       "         633388: 7,\n",
       "         143554: 7,\n",
       "         183331: 7,\n",
       "         196924: 7,\n",
       "         266922: 7,\n",
       "         345844: 7,\n",
       "         367369: 7,\n",
       "         484958: 7,\n",
       "         580799: 7,\n",
       "         280431: 7,\n",
       "         508988: 7,\n",
       "         197278: 7,\n",
       "         303061: 7,\n",
       "         317263: 7,\n",
       "         419604: 7,\n",
       "         606029: 7,\n",
       "         610920: 7,\n",
       "         293116: 7,\n",
       "         648959: 7,\n",
       "         649330: 7,\n",
       "         364186: 7,\n",
       "         464920: 7,\n",
       "         615021: 7,\n",
       "         637669: 7,\n",
       "         638339: 7,\n",
       "         641098: 7,\n",
       "         645224: 7,\n",
       "         645634: 7,\n",
       "         645835: 7,\n",
       "         646712: 7,\n",
       "         646929: 7,\n",
       "         648216: 7,\n",
       "         649102: 7,\n",
       "         654370: 7,\n",
       "         655906: 7,\n",
       "         656969: 7,\n",
       "         657314: 7,\n",
       "         657804: 7,\n",
       "         658002: 7,\n",
       "         658009: 7,\n",
       "         658020: 7,\n",
       "         658027: 7,\n",
       "         658441: 7,\n",
       "         659728: 7,\n",
       "         660999: 7,\n",
       "         662233: 7,\n",
       "         662809: 7,\n",
       "         662976: 7,\n",
       "         665785: 7,\n",
       "         666416: 7,\n",
       "         666941: 7,\n",
       "         667212: 7,\n",
       "         667437: 7,\n",
       "         667578: 7,\n",
       "         668226: 7,\n",
       "         668574: 7,\n",
       "         668884: 7,\n",
       "         669416: 7,\n",
       "         669763: 7,\n",
       "         670294: 7,\n",
       "         670369: 7,\n",
       "         673268: 7,\n",
       "         673271: 7,\n",
       "         673287: 7,\n",
       "         673534: 7,\n",
       "         673566: 7,\n",
       "         673709: 7,\n",
       "         673720: 7,\n",
       "         673919: 7,\n",
       "         673925: 7,\n",
       "         673930: 7,\n",
       "         675255: 7,\n",
       "         675596: 7,\n",
       "         675600: 7,\n",
       "         676009: 7,\n",
       "         676033: 7,\n",
       "         677337: 7,\n",
       "         677354: 7,\n",
       "         678636: 7,\n",
       "         679722: 7,\n",
       "         680799: 7,\n",
       "         681618: 7,\n",
       "         683651: 7,\n",
       "         683740: 7,\n",
       "         684112: 7,\n",
       "         684688: 7,\n",
       "         685092: 7,\n",
       "         686747: 7,\n",
       "         687186: 7,\n",
       "         688134: 7,\n",
       "         688143: 7,\n",
       "         688812: 7,\n",
       "         689200: 7,\n",
       "         689379: 7,\n",
       "         691502: 7,\n",
       "         691513: 7,\n",
       "         691525: 7,\n",
       "         691528: 7,\n",
       "         691533: 7,\n",
       "         691933: 7,\n",
       "         692515: 7,\n",
       "         692722: 7,\n",
       "         693384: 7,\n",
       "         693946: 7,\n",
       "         694610: 7,\n",
       "         694954: 7,\n",
       "         695315: 7,\n",
       "         696159: 7,\n",
       "         696168: 7,\n",
       "         696177: 7,\n",
       "         696191: 7,\n",
       "         696304: 7,\n",
       "         696312: 7,\n",
       "         696315: 7,\n",
       "         696335: 7,\n",
       "         696342: 7,\n",
       "         696502: 7,\n",
       "         696522: 7,\n",
       "         696525: 7,\n",
       "         696540: 7,\n",
       "         696543: 7,\n",
       "         696546: 7,\n",
       "         696670: 7,\n",
       "         697103: 7,\n",
       "         697927: 7,\n",
       "         697930: 7,\n",
       "         698739: 7,\n",
       "         698980: 7,\n",
       "         699350: 7,\n",
       "         699494: 7,\n",
       "         699663: 7,\n",
       "         700706: 7,\n",
       "         700768: 7,\n",
       "         701762: 7,\n",
       "         702759: 7,\n",
       "         704229: 7,\n",
       "         706283: 7,\n",
       "         706286: 7,\n",
       "         706550: 7,\n",
       "         706575: 7,\n",
       "         706710: 7,\n",
       "         706955: 7,\n",
       "         706965: 7,\n",
       "         706969: 7,\n",
       "         706975: 7,\n",
       "         707212: 7,\n",
       "         707239: 7,\n",
       "         707354: 7,\n",
       "         707593: 7,\n",
       "         707743: 7,\n",
       "         707952: 7,\n",
       "         708191: 7,\n",
       "         708929: 7,\n",
       "         708948: 7,\n",
       "         708963: 7,\n",
       "         710467: 7,\n",
       "         711630: 7,\n",
       "         715282: 7,\n",
       "         717555: 7,\n",
       "         719771: 7,\n",
       "         721406: 7,\n",
       "         721610: 7,\n",
       "         721627: 7,\n",
       "         721649: 7,\n",
       "         721755: 7,\n",
       "         722052: 7,\n",
       "         722058: 7,\n",
       "         722064: 7,\n",
       "         722619: 7,\n",
       "         722625: 7,\n",
       "         722847: 7,\n",
       "         723267: 7,\n",
       "         723289: 7,\n",
       "         723303: 7,\n",
       "         723489: 7,\n",
       "         723493: 7,\n",
       "         723499: 7,\n",
       "         723614: 7,\n",
       "         724005: 7,\n",
       "         724421: 7,\n",
       "         724940: 7,\n",
       "         724944: 7,\n",
       "         725344: 7,\n",
       "         725354: 7,\n",
       "         725592: 7,\n",
       "         725852: 7,\n",
       "         725975: 7,\n",
       "         726266: 7,\n",
       "         726383: 7,\n",
       "         726786: 7,\n",
       "         730155: 7,\n",
       "         731094: 7,\n",
       "         732479: 7,\n",
       "         733018: 7,\n",
       "         733340: 7,\n",
       "         733345: 7,\n",
       "         734095: 7,\n",
       "         734106: 7,\n",
       "         734113: 7,\n",
       "         734143: 7,\n",
       "         734147: 7,\n",
       "         734382: 7,\n",
       "         736781: 7,\n",
       "         737107: 7,\n",
       "         737803: 7,\n",
       "         738960: 7,\n",
       "         740849: 7,\n",
       "         741925: 7,\n",
       "         742840: 7,\n",
       "         743781: 7,\n",
       "         127485: 7,\n",
       "         139521: 7,\n",
       "         358587: 7,\n",
       "         414636: 7,\n",
       "         515202: 7,\n",
       "         557268: 7,\n",
       "         314482: 7,\n",
       "         51597: 7,\n",
       "         124656: 7,\n",
       "         196253: 7,\n",
       "         233436: 7,\n",
       "         311162: 7,\n",
       "         336961: 7,\n",
       "         502010: 7,\n",
       "         629711: 7,\n",
       "         703541: 7,\n",
       "         52803: 7,\n",
       "         253337: 7,\n",
       "         390268: 7,\n",
       "         423239: 7,\n",
       "         219165: 7,\n",
       "         4077: 7,\n",
       "         359791: 7,\n",
       "         581943: 7,\n",
       "         407310: 7,\n",
       "         680983: 7,\n",
       "         327026: 7,\n",
       "         481184: 7,\n",
       "         591596: 7,\n",
       "         219867: 7,\n",
       "         247834: 7,\n",
       "         198002: 7,\n",
       "         224999: 7,\n",
       "         242374: 7,\n",
       "         329970: 7,\n",
       "         360550: 7,\n",
       "         492105: 7,\n",
       "         706030: 7,\n",
       "         218523: 7,\n",
       "         233612: 7,\n",
       "         632145: 7,\n",
       "         207886: 7,\n",
       "         232923: 7,\n",
       "         252097: 7,\n",
       "         274002: 7,\n",
       "         478812: 7,\n",
       "         542895: 7,\n",
       "         650714: 7,\n",
       "         369: 7,\n",
       "         276038: 7,\n",
       "         413785: 7,\n",
       "         448052: 7,\n",
       "         161360: 7,\n",
       "         237868: 7,\n",
       "         291238: 7,\n",
       "         291604: 7,\n",
       "         424797: 7,\n",
       "         143281: 7,\n",
       "         250012: 7,\n",
       "         261066: 7,\n",
       "         458709: 7,\n",
       "         44399: 7,\n",
       "         237496: 7,\n",
       "         257706: 7,\n",
       "         491723: 7,\n",
       "         183076: 7,\n",
       "         194192: 7,\n",
       "         294740: 7,\n",
       "         487428: 7,\n",
       "         653828: 7,\n",
       "         228180: 7,\n",
       "         484661: 7,\n",
       "         517270: 7,\n",
       "         611985: 7,\n",
       "         271642: 7,\n",
       "         521411: 7,\n",
       "         705839: 7,\n",
       "         166979: 7,\n",
       "         239767: 7,\n",
       "         716205: 7,\n",
       "         172770: 7,\n",
       "         206325: 7,\n",
       "         295356: 7,\n",
       "         232922: 7,\n",
       "         611989: 7,\n",
       "         195382: 7,\n",
       "         281283: 7,\n",
       "         419182: 7,\n",
       "         247316: 7,\n",
       "         358697: 7,\n",
       "         157747: 7,\n",
       "         167389: 7,\n",
       "         313223: 7,\n",
       "         519604: 7,\n",
       "         75021: 7,\n",
       "         69907: 7,\n",
       "         430235: 7,\n",
       "         698976: 7,\n",
       "         82860: 7,\n",
       "         186211: 7,\n",
       "         270207: 7,\n",
       "         270208: 7,\n",
       "         295581: 7,\n",
       "         98512: 7,\n",
       "         22641: 7,\n",
       "         149251: 7,\n",
       "         230226: 7,\n",
       "         282528: 7,\n",
       "         310998: 7,\n",
       "         456876: 7,\n",
       "         209449: 7,\n",
       "         509041: 7,\n",
       "         563311: 7,\n",
       "         221157: 7,\n",
       "         259740: 7,\n",
       "         519680: 7,\n",
       "         171308: 7,\n",
       "         364919: 7,\n",
       "         192017: 7,\n",
       "         390986: 7,\n",
       "         166805: 7,\n",
       "         231948: 7,\n",
       "         243630: 7,\n",
       "         476668: 7,\n",
       "         181198: 7,\n",
       "         629618: 7,\n",
       "         150143: 7,\n",
       "         212719: 7,\n",
       "         592753: 7,\n",
       "         328988: 7,\n",
       "         10074: 7,\n",
       "         295448: 7,\n",
       "         539532: 7,\n",
       "         591524: 7,\n",
       "         592751: 7,\n",
       "         531375: 7,\n",
       "         545271: 7,\n",
       "         172159: 7,\n",
       "         22767: 7,\n",
       "         190967: 7,\n",
       "         279546: 7,\n",
       "         283413: 7,\n",
       "         207427: 7,\n",
       "         296051: 7,\n",
       "         496486: 7,\n",
       "         611427: 7,\n",
       "         264076: 7,\n",
       "         116539: 7,\n",
       "         744930: 7,\n",
       "         195682: 7,\n",
       "         259871: 7,\n",
       "         387881: 7,\n",
       "         96148: 7,\n",
       "         261124: 7,\n",
       "         26880: 7,\n",
       "         204090: 7,\n",
       "         452843: 7,\n",
       "         473024: 7,\n",
       "         486921: 7,\n",
       "         376120: 7,\n",
       "         256308: 7,\n",
       "         461007: 7,\n",
       "         316497: 7,\n",
       "         503149: 7,\n",
       "         54690: 7,\n",
       "         348393: 7,\n",
       "         486703: 7,\n",
       "         555178: 7,\n",
       "         197320: 7,\n",
       "         210286: 7,\n",
       "         276950: 7,\n",
       "         609404: 7,\n",
       "         109753: 7,\n",
       "         579172: 7,\n",
       "         632858: 7,\n",
       "         111045: 7,\n",
       "         568415: 7,\n",
       "         229261: 7,\n",
       "         673252: 7,\n",
       "         489317: 7,\n",
       "         629637: 7,\n",
       "         104628: 7,\n",
       "         395301: 7,\n",
       "         678992: 7,\n",
       "         514738: 7,\n",
       "         243243: 7,\n",
       "         678629: 7,\n",
       "         266001: 7,\n",
       "         684151: 7,\n",
       "         290036: 7,\n",
       "         536601: 7,\n",
       "         171074: 7,\n",
       "         221876: 7,\n",
       "         312479: 7,\n",
       "         118618: 7,\n",
       "         277865: 7,\n",
       "         152864: 7,\n",
       "         440152: 7,\n",
       "         151039: 7,\n",
       "         256438: 7,\n",
       "         454125: 7,\n",
       "         471914: 7,\n",
       "         208565: 7,\n",
       "         159625: 7,\n",
       "         544894: 7,\n",
       "         236666: 7,\n",
       "         22623: 7,\n",
       "         525153: 7,\n",
       "         151734: 7,\n",
       "         361912: 7,\n",
       "         228433: 7,\n",
       "         311148: 7,\n",
       "         593550: 7,\n",
       "         593899: 7,\n",
       "         8668: 6,\n",
       "         237444: 6,\n",
       "         246763: 6,\n",
       "         311720: 6,\n",
       "         351617: 6,\n",
       "         351953: 6,\n",
       "         358198: 6,\n",
       "         375809: 6,\n",
       "         401704: 6,\n",
       "         440602: 6,\n",
       "         471544: 6,\n",
       "         484782: 6,\n",
       "         537290: 6,\n",
       "         541517: 6,\n",
       "         542450: 6,\n",
       "         552697: 6,\n",
       "         585183: 6,\n",
       "         592028: 6,\n",
       "         603441: 6,\n",
       "         603468: 6,\n",
       "         603839: 6,\n",
       "         604077: 6,\n",
       "         604188: 6,\n",
       "         711145: 6,\n",
       "         730234: 6,\n",
       "         40125: 6,\n",
       "         49809: 6,\n",
       "         141743: 6,\n",
       "         229266: 6,\n",
       "         230909: 6,\n",
       "         231134: 6,\n",
       "         252623: 6,\n",
       "         255246: 6,\n",
       "         270278: 6,\n",
       "         271774: 6,\n",
       "         289721: 6,\n",
       "         290804: 6,\n",
       "         292198: 6,\n",
       "         299927: 6,\n",
       "         320511: 6,\n",
       "         321728: 6,\n",
       "         378299: 6,\n",
       "         386165: 6,\n",
       "         394288: 6,\n",
       "         402657: 6,\n",
       "         437989: 6,\n",
       "         450591: 6,\n",
       "         458051: 6,\n",
       "         475744: 6,\n",
       "         487060: 6,\n",
       "         502334: 6,\n",
       "         528224: 6,\n",
       "         577684: 6,\n",
       "         593898: 6,\n",
       "         610106: 6,\n",
       "         618603: 6,\n",
       "         636840: 6,\n",
       "         646967: 6,\n",
       "         725224: 6,\n",
       "         19443: 6,\n",
       "         86828: 6,\n",
       "         90538: 6,\n",
       "         138555: 6,\n",
       "         152951: 6,\n",
       "         203353: 6,\n",
       "         216319: 6,\n",
       "         228485: 6,\n",
       "         229392: 6,\n",
       "         243263: 6,\n",
       "         246527: 6,\n",
       "         246854: 6,\n",
       "         253394: 6,\n",
       "         282081: 6,\n",
       "         286021: 6,\n",
       "         290582: 6,\n",
       "         315536: 6,\n",
       "         329638: 6,\n",
       "         337694: 6,\n",
       "         387859: 6,\n",
       "         431000: 6,\n",
       "         438404: 6,\n",
       "         462600: 6,\n",
       "         484201: 6,\n",
       "         514018: 6,\n",
       "         536954: 6,\n",
       "         538838: 6,\n",
       "         584195: 6,\n",
       "         587189: 6,\n",
       "         587544: 6,\n",
       "         608363: 6,\n",
       "         623562: 6,\n",
       "         665743: 6,\n",
       "         671948: 6,\n",
       "         690096: 6,\n",
       "         739874: 6,\n",
       "         39014: 6,\n",
       "         94554: 6,\n",
       "         183493: 6,\n",
       "         189947: 6,\n",
       "         192526: 6,\n",
       "         210793: 6,\n",
       "         223180: 6,\n",
       "         224984: 6,\n",
       "         232767: 6,\n",
       "         248684: 6,\n",
       "         258654: 6,\n",
       "         268626: 6,\n",
       "         278029: 6,\n",
       "         371967: 6,\n",
       "         406048: 6,\n",
       "         409261: 6,\n",
       "         473803: 6,\n",
       "         480717: 6,\n",
       "         510537: 6,\n",
       "         522294: 6,\n",
       "         526194: 6,\n",
       "         588309: 6,\n",
       "         694966: 6,\n",
       "         749690: 6,\n",
       "         ...})"
      ]
     },
     "execution_count": 173,
     "metadata": {},
     "output_type": "execute_result"
    }
   ],
   "source": [
    "Counter(d['doc'] for d in token_chunks)"
   ]
  },
  {
   "cell_type": "code",
   "execution_count": 175,
   "id": "3593324e-8db6-4b8d-b64b-00cbff9fd2dc",
   "metadata": {},
   "outputs": [
    {
     "data": {
      "text/plain": [
       "Counter({5: 353162,\n",
       "         2: 106653,\n",
       "         3: 104662,\n",
       "         4: 81984,\n",
       "         1: 41212,\n",
       "         6: 2083,\n",
       "         7: 587,\n",
       "         8: 130,\n",
       "         9: 75,\n",
       "         10: 66,\n",
       "         11: 13,\n",
       "         12: 4,\n",
       "         13: 2,\n",
       "         15: 2,\n",
       "         14: 2})"
      ]
     },
     "execution_count": 175,
     "metadata": {},
     "output_type": "execute_result"
    }
   ],
   "source": [
    "c=Counter(Counter(d['doc'] for d in token_chunks).values())\n",
    "c"
   ]
  },
  {
   "cell_type": "code",
   "execution_count": null,
   "id": "2b0d5fee-f8e5-40da-9b3e-97fbe942828c",
   "metadata": {},
   "outputs": [],
   "source": []
  },
  {
   "cell_type": "code",
   "execution_count": 174,
   "id": "302edb7d-03f1-420c-8d50-142b9f259c96",
   "metadata": {},
   "outputs": [],
   "source": [
    "import matplotlib.pyplot as plt"
   ]
  },
  {
   "cell_type": "code",
   "execution_count": 179,
   "id": "8e8243e9-530b-4410-b9f5-2a56a63a810b",
   "metadata": {},
   "outputs": [
    {
     "data": {
      "text/plain": [
       "[<matplotlib.lines.Line2D at 0x7fd3a09bb790>]"
      ]
     },
     "execution_count": 179,
     "metadata": {},
     "output_type": "execute_result"
    },
    {
     "data": {
      "image/png": "[encoded data removed]",
      "text/plain": [
       "<Figure size 640x480 with 1 Axes>"
      ]
     },
     "metadata": {},
     "output_type": "display_data"
    }
   ],
   "source": [
    "plt.plot([0]+[c[i] for i in range(1,16)])"
   ]
  },
  {
   "cell_type": "code",
   "execution_count": 203,
   "id": "a36ab189-0df0-49cd-8dd6-e84a674fd143",
   "metadata": {},
   "outputs": [
    {
     "data": {
      "text/plain": [
       "124441344"
      ]
     },
     "execution_count": 203,
     "metadata": {},
     "output_type": "execute_result"
    }
   ],
   "source": [
    "sum(p.numel() for p in model.parameters())"
   ]
  },
  {
   "cell_type": "code",
   "execution_count": null,
   "id": "590abab2-02c5-4370-9714-eb5d9265fc2b",
   "metadata": {},
   "outputs": [],
   "source": []
  }
 ],
 "metadata": {
  "kernelspec": {
   "display_name": "Python 3 (ipykernel)",
   "language": "python",
   "name": "python3"
  },
  "language_info": {
   "codemirror_mode": {
    "name": "ipython",
    "version": 3
   },
   "file_extension": ".py",
   "mimetype": "text/x-python",
   "name": "python",
   "nbconvert_exporter": "python",
   "pygments_lexer": "ipython3",
   "version": "3.11.5"
  }
 },
 "nbformat": 4,
 "nbformat_minor": 5
}
