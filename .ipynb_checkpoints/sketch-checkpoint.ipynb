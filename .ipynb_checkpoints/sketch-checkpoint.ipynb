{
 "cells": [
  {
   "cell_type": "code",
   "execution_count": 1,
   "id": "703c713a-71f4-48ff-92e8-c23e2820f85e",
   "metadata": {},
   "outputs": [],
   "source": [
    "import os\n",
    "os.environ[\"HF_HUB_CACHE\"] = \"/media/user/8a594cab-20d9-43ef-8d0e-b60b5cf43462/huggingface_models/hub\"\n",
    "#https://huggingface.co/docs/transformers/installation?highlight=transformers_cache#cache-setup\n",
    "#os.environ[\"HF_HOME\"] = \"/media/user/8a594cab-20d9-43ef-8d0e-b60b5cf43462/huggingface_models\"\n",
    "model_name=\"Norod78/hebrew-gpt_neo-xl\"#'meta-llama/Llama-2-70b-chat-hf'"
   ]
  },
  {
   "cell_type": "code",
   "execution_count": 2,
   "id": "2b0a31d5",
   "metadata": {},
   "outputs": [],
   "source": [
    "import faiss\n",
    "from transformers import AutoTokenizer,AutoModelForCausalLM"
   ]
  },
  {
   "cell_type": "code",
   "execution_count": null,
   "id": "b2beb49a",
   "metadata": {},
   "outputs": [],
   "source": []
  },
  {
   "cell_type": "code",
   "execution_count": 3,
   "id": "ab43f364",
   "metadata": {},
   "outputs": [],
   "source": [
    "tokenizer=AutoTokenizer.from_pretrained(model_name)"
   ]
  },
  {
   "cell_type": "code",
   "execution_count": 4,
   "id": "da21f41a",
   "metadata": {},
   "outputs": [],
   "source": [
    "model=AutoModelForCausalLM.from_pretrained(model_name)#,cach_dir=\"/media/user/8a594cab-20d9-43ef-8d0e-b60b5cf43462/huggingface_models/hub\")"
   ]
  },
  {
   "cell_type": "code",
   "execution_count": 5,
   "id": "8ce817d0",
   "metadata": {},
   "outputs": [
    {
     "data": {
      "text/plain": [
       "GPTNeoForCausalLM(\n",
       "  (transformer): GPTNeoModel(\n",
       "    (wte): Embedding(50257, 2048)\n",
       "    (wpe): Embedding(2048, 2048)\n",
       "    (drop): Dropout(p=0.0, inplace=False)\n",
       "    (h): ModuleList(\n",
       "      (0-23): 24 x GPTNeoBlock(\n",
       "        (ln_1): LayerNorm((2048,), eps=1e-05, elementwise_affine=True)\n",
       "        (attn): GPTNeoAttention(\n",
       "          (attention): GPTNeoSelfAttention(\n",
       "            (attn_dropout): Dropout(p=0.0, inplace=False)\n",
       "            (resid_dropout): Dropout(p=0.0, inplace=False)\n",
       "            (k_proj): Linear(in_features=2048, out_features=2048, bias=False)\n",
       "            (v_proj): Linear(in_features=2048, out_features=2048, bias=False)\n",
       "            (q_proj): Linear(in_features=2048, out_features=2048, bias=False)\n",
       "            (out_proj): Linear(in_features=2048, out_features=2048, bias=True)\n",
       "          )\n",
       "        )\n",
       "        (ln_2): LayerNorm((2048,), eps=1e-05, elementwise_affine=True)\n",
       "        (mlp): GPTNeoMLP(\n",
       "          (c_fc): Linear(in_features=2048, out_features=8192, bias=True)\n",
       "          (c_proj): Linear(in_features=8192, out_features=2048, bias=True)\n",
       "          (act): NewGELUActivation()\n",
       "          (dropout): Dropout(p=0.0, inplace=False)\n",
       "        )\n",
       "      )\n",
       "    )\n",
       "    (ln_f): LayerNorm((2048,), eps=1e-05, elementwise_affine=True)\n",
       "  )\n",
       "  (lm_head): Linear(in_features=2048, out_features=50257, bias=False)\n",
       ")"
      ]
     },
     "execution_count": 5,
     "metadata": {},
     "output_type": "execute_result"
    }
   ],
   "source": [
    "model.to('cuda')"
   ]
  },
  {
   "cell_type": "code",
   "execution_count": 6,
   "id": "f828bd42",
   "metadata": {},
   "outputs": [],
   "source": [
    "prompt_text=\"אתה יכול להראות לי קוד C?\"\n",
    "encoded_prompt = tokenizer.encode(prompt_text, add_special_tokens=False, return_tensors=\"pt\").to('cuda')"
   ]
  },
  {
   "cell_type": "code",
   "execution_count": 7,
   "id": "654ab11b",
   "metadata": {},
   "outputs": [],
   "source": [
    "sample_outputs = model.generate(\n",
    "    encoded_prompt,\n",
    "    do_sample=True, \n",
    "    max_length=1000, \n",
    "    top_k=50, \n",
    "    top_p=0.95, \n",
    "    num_return_sequences=4\n",
    ")"
   ]
  },
  {
   "cell_type": "code",
   "execution_count": 8,
   "id": "6df24fb6",
   "metadata": {},
   "outputs": [
    {
     "data": {
      "text/plain": [
       "['אתה יכול להראות לי קוד C?\\nאם יש לי את זה?\\nכן, עכשיו אני יודע איפה למצוא את זה.\\nהאם אתה יכול להראות לי איך לעשות את הקוד?\\nכן, כן.\\nאתה צריך להתקין אותו.\\nזה הקוד.\\nתגיד לי איך לעשות את הקוד כדי לראות את קוד?\\nאתה יודע?  \\nיש לי את זה.\\nאבל איך אתה הולך לעשות את הקוד?\\nזה קשה.\\nאני רק יודע על C אז זה יהיה כמו לשים את זה, כך שתוכל למצוא את הקוד.\\nאני לא יכול לעשות את זה כל היום אבל אני הולך למצוא את הקוד.\\nאז...\\nאני אגיד לך את הקוד.\\nאתה צריך להראות לי איך אני יכול לעשות את הקוד?\\nאני עושה את זה.\\nאתה יודע, כאשר הייתי תלמיד בבית הספר, הוא...  \\nאני היה הולך להראות לך את הקוד\\nכך שזה עובד.\\nאבל לא עשית את זה.\\nזה...  \\nזה...  \\nזה...  \\nזה...  \\nזה...  \\nזה לא.\\nאני מתכוון...  \\nזה...  \\nזה לא.\\nאז...  \\nזה...  \\nזה...  \\nזה...  \\nזה... זה...\\nואז...  \\nרק...  \\nלראות את הקוד.\\nלא...  \\nלא...  \\nלראות את קוד.\\nאני מקבל...  \\nאני רוצה...  \\nאני רוצה...  \\nאני רוצה...  \\nלראות את קוד.\\nאה, זה...  \\nזה...  \\nאה, אתה יכול... לראות את הקוד.\\nבבקשה...  \\nבוא נראה.\\nבבקשה...  \\nבבקשה...  \\nבבקשה...  \\nבבקשה...  \\nבבקשה...  \\nלראות את...\\n- בבקשה...  \\nבבקשה...  \\nבבקשה...\\nבבקשה...\\n- בבקשה...  \\nבבקשה...  \\nבבקשה...  \\nבבקשה...  \\nבבקשה...\\nבבקשה...  \\nבבקשה...  \\nבבקשה...  \\nבבקשה...  \\nבבקשה...  \\nבבקשה...  \\nבבקשה...  \\nבבקשה...\\n- בבקשה...  \\nבבקשה...  \\nבבקשה...  \\nבבקשה...  \\nבבקשה...  \\nבבקשה...  \\nבבקשה...\\n- בבקשה...  \\nבבקשה...  \\nבבקשה...  \\nבבקשה...  \\nבבקשה...  \\nבבקשה...  \\nבבקשה...  \\nבבקשה...  \\nבבקשה...  \\nבבקשה...  \\nבבקשה...  \\nבבקשה...  \\nבבקשה...  \\nבבקשה...\\n- בבקשה...  \\nבבקשה...  \\nבבקשה...  \\nבבקשה...  \\nבבקשה...  \\nבבקשה...  \\nבבקשה...  \\nבבקשה...\\n- בבקשה...  \\nבבקשה...  \\nבבקשה...  \\nבבקשה...  \\nבבקשה...  \\nבבקשה...  \\nבבקשה...  \\nבבקשה...  \\nבבקשה...  \\nבבקשה...  \\nבבקשה...  \\nבבקשה...  \\nבבקשה...  \\nבבקשה...  \\nבבקשה...  \\nבבקשה...  \\nבבקשה...  \\nבבקשה...  \\nבבקשה...  \\nבבקשה...  \\nבבקשה...  \\nבבקשה...  \\nבבקשה...  \\nבבקשה...  \\nבבקשה...  \\nבבקשה...  \\nבבקשה...  \\nבבקשה...  \\nבבקשה...  \\nבבקשה...  \\nבבקשה...  \\nבבקשה...  \\nבבקשה...  \\nבבקשה...  \\nבבקשה...  \\nבבקשה...  \\nבבקשה...  \\nבבקשה...  \\nבבקשה...  \\nבבקשה...  \\nבבקשה...  \\nבבקשה...  \\nבבקשה...  \\nבבקשה...  \\nבבקשה...  \\nבבקשה...  \\nבבקשה...  \\nבבקשה...  \\nבבקשה...  \\nבבקשה...  \\nבבקשה...  \\nבבקשה...  \\nבבקשה...  \\nבבקשה...  \\nבבקשה...  \\nבבקשה...\\n-----בבקשה...  \\nבבקשה...  \\nבבקשה...\\n- בבקשה...  \\nבבקשה',\n",
       " 'אתה יכול להראות לי קוד C?\\nאם יש לי את הקוד הזה.\\nאם אין לי.\\nאני יכול להראות לך קוד C.\\nקוד C, אפשר?\\nאו, זה חשוב.\\nקוד C, אפשר?\\nקוד C, אפשר?\\nקוד C, אפשר?\\nקוד C, אפשר?\\nקוד C, אפשר?\\nקוד C, אפשר?\\nקוד C, אפשר?\\nקוד C, אפשר?\\nקוד C, אפשר?\\nקוד C, אפשר?\\nקוד C, אפשר?\\nקוד C, אפשר?\\nקוד C, אפשר?\\nקוד C, אפשר?\\nקוד C, אפשר?\\nקוד C, אפשר?\\nקוד C, אפשר?\\nקוד C, אפשר?\\nקוד C, אפשר?\\nקוד C, אפשר?\\nקוד C, אפשר?\\nקוד C, אפשר?\\nקוד C, אפשר?\\nקוד C, אפשר?\\nקוד C, אפשר?\\nקוד C, אפשר?\\nקוד C, אפשר?\\nקוד C, אפשר?\\nקוד C, אפשר?\\nקוד C, אפשר?\\nקוד C, אפשר?\\nקוד C, אפשר?\\nקוד C, אפשר?\\nקוד C, אפשר?\\nקוד C, אפשר?\\nקוד C, אפשר?\\nקוד C, אפשר?\\nקוד C, אפשר?\\nקוד C, אפשר?\\nקוד C, אפשר?\\nקוד C, אפשר?\\nקוד C, אפשר?\\nקוד C, אפשר?\\nקוד C, אפשר?\\nקוד C, אפשר?\\nקוד C, אפשר?\\nקוד C, אפשר?\\nקוד C, אפשר?\\nקוד C, אפשר?\\nקוד C, אפשר?\\nקוד C, אפשר?\\nקוד C, אפשר?\\nקוד C, אפשר?\\nקוד C, אפשר?\\nקוד C, אפשר?\\nקוד C, אפשר?\\nקוד C, אפשר?\\nקוד C, אפשר?\\nקוד C, אפשר?\\nקוד C, אפשר?\\nקוד C, אפשר?\\nקוד C, אפשר?\\nקוד C, אפשר?\\nקוד C, אפשר?\\nקוד C, אפשר?\\nקוד C, אפשר?\\nקוד C, אפשר?\\nקוד C, אפשר?\\nקוד C, אפשר?\\nקוד C, אפשר?\\nקוד C, אפשר?\\nקוד C, אפשר?\\nקוד C, אפשר?\\nקוד C, אפשר?\\nקוד C, אפשר?\\nקוד C, אפשר?\\nקוד C, אפשר?\\nקוד C, אפשר?\\nקוד C, אפשר?\\nקוד C, אפשר?\\nקוד C, אפשר?\\nקוד C, אפשר?\\nקוד C, אפשר?\\nקוד C, אפשר?\\nקוד C, אפשר?\\nקוד C, אפשר?\\nקוד C, אפשר?\\nקוד C, אפשר?\\nקוד C, אפשר?\\nקוד C, אפשר?\\nקוד C, אפשר?\\nקוד C, אפשר?\\nקוד C, אפשר?\\nקוד C, אפשר?\\nקוד C, אפשר?\\nקוד C, אפשר?\\nקוד C, אפשר?\\nקוד C, אפשר?\\nקוד C, אפשר?\\nקוד C, אפשר?\\nקוד C, אפשר?\\nקוד C, אפשר?\\nקוד C, אפשר?\\nקוד C, אפשר?\\nקוד C, אפשר?\\nקוד C, אפשר?\\nקוד C, אפשר?\\nקוד C, אפשר?\\nקוד C, אפשר?\\nקוד C, אפשר?\\nקוד C, אפשר?\\nקוד C, אפשר?\\nקוד C, אפשר?\\nקוד C, אפשר?\\nקוד C, אפשר?\\nקוד C, אפשר?\\nקוד C, אפשר?\\nקוד C, אפשר?\\nקוד C, אפשר?\\nקוד C, אפשר?\\nקוד C, אפשר?\\nקוד C, אפשר?\\nקוד C, אפשר?\\nקוד C, אפשר?\\nקוד C, אפשר?\\nקוד C, אפשר?\\nקוד C, אפשר?\\nקוד C, אפשר?\\nקוד C, אפשר?\\nקוד C, אפשר?\\nקוד C, אפשר?\\nקוד C, אפשר?\\nקוד C, אפשר?\\nקוד C, אפשר?\\nקוד C, אפשר?\\nקוד C, אפשר?\\nקוד C, אפשר?\\nקוד C, אפשר?\\nקוד C, אפשר?\\nקוד C, אפשר?\\nקוד C, אפשר?\\nקוד C, אפשר?\\nקוד C, אפשר?\\nקוד C, אפשר?\\nקוד C, אפשר?\\nקוד C, אפשר?\\nקוד C, אפשר?\\nקוד C, אפשר?\\nקוד C, אפשר?\\nקוד C, אפשר?\\nקוד C, אפשר?\\nקוד C, אפשר?\\nקוד C, אפשר?\\nקוד C, אפשר?\\nקוד C, אפשר?\\nקוד C, אפשר?\\nקוד C, אפשר?\\nקוד C, אפשר?\\nקוד C, אפשר?\\nקוד C, אפשר?',\n",
       " 'אתה יכול להראות לי קוד C? אתה יכול לשאול אותי שאלות.... אבל הוא לא יענה לי....\\nלמכור את החברה או לקבל אותה בחזרה אם אני לא מסכים\\nמכל סיבה שהיא\\nמה היא השאלה האחרונה שלך??\\nאהה אז זה רק כדי לענות על שאלה...\\nאיך אני מכניס קוד C??\\nכי ניסיתי כל כך הרבה פעמים...\\nאתה יכול לתת לי דוגמאות אחרות על איך אני יכול לעשות?\\nזה בדיוק אותו דבר כמו קוד C רגיל.\\nמה זה עוזר לי בחיים??\\n\\nאני לא יכול לעזור.\\n\\nמה יש לקרוא\\nארכיון עבור -\\nבלב שכונת מגורים, ליד גני ילדים ובתי ספר, מתנשאים שני בתי קפה ומסעדה, עם שני תפריטי ענק, שמשלבים בין ארוחות קלות למנות בשר.\\n\\nמה ההבדל בין זה לבין\"רעיון מגניב, מה דעתך?\"מה ההבדל בין\"לא זה רעיון טוב! \"לבין\"זה רעיון מגניב? לא, זה רעיון רע! \"\"מה הבעיה עם זה???\"\"כן, בטח. אבל אני רוצה לעשות את זה\"אני לא יכול לעזור, אתה לא מבין? אבל תנסה!\\nזה לא מה שאני חושב\\nזה היה הרעיון\\nזה היה הרעיון, אני אומר לך\\nאבל אתה יודע...\\n\\nזה היה הרעיון, אין לי כוח להסביר לך\\n\\nפורסם בתאריך 06/06/2017, 8/06/2018 קטגוריות אוסט דער געזאגט- אז אמר, אחיזות, תשומות מנטליותתגיות אינטלקט, חינוך, תקשורת, תרבות2 תגובות על פוסט אורח:\"איך אני הופך את הילד שלי ל\"אידיוט\"\\nפורסם בתאריך 17/03/2017, 15/01/2018 קטגוריות אוסט דער געזאגט- אז אמר, אחיזות, תשומות מנטליותתגיות אינטלקט, חינוך, תקשורת, תרבות2 תגובות על על \"איך אני הופך את הילד שלי ל\"אידיוט\"פורסם בתאריך 10/02/2017, 10/02/2017, ביקורת, חינוך, תקשורת, תרבות. הפוסטים הישנים ביותר הם:\"שואל מדוע\"ו\"למה???\"פורסם בתאריך 24/07/2016, 14/07/2016 קטגוריות אוסט דער געזאגט- אז אמר, תשומות מנטליותתגיות אינטלקט, חינוך, חינוך ילדים, תקשורת, תרבות2 תגובות על מה ההבדל בין\"שואל מדוע\"ו\"למה???\"(כי הוא לא מבין)\\nפורסם בתאריך 24/04/2016, 20/04/2016 קטגוריות אוסט דער געזאגט- אז אמר, חינוך, כללי, תרבותתגיות אינטלקט, חינוך, חינוך ילדים, תקשורת, תרבות2 תגובות על מה ההבדל בין\"שואל מדוע\"ו\"למה?\"(כי הוא לא מבין)\\nפורסם בתאריך 15/12/2015, 13/01/2015 קטגוריות אוסט דער געזאגט- אז אמר, ים התובנות, תשומות מנטליותתגיות אינטלקט, חינוך, ים התובנות, תרבות2 תגובות על מה ההבדל בין\"שואל מדוע\"ו\"למה?\"(כי הוא לא הבין)\\nפורסם בתאריך 13/08/2015, 13/08/2015 קטגוריות אוסט דער געזאגט- אז אמר, אחיזות, תשומות מנטליותתגיות אינטלקט, חינוך, חינוך ילדים, סוציולוגיה, פוליטיקה, תקשורת, תרבותתגובה אחת על מה ההבדל בין\"שואל מדוע\"ו\"למה?\"(כי הוא לא יודע)\\n\\nבואו להשתתף בהחלפת ספרים בספריה עם מר עומר (ספריה עירונית באר שבע)\\n\\nהחדשות -\"עומדים בפנינו לא מעט קשיים\"לקראת ראש השנה, החליטו במוזיאון ראשון לציון לקיים שיתוף פעולה ייחודי, במסגרתו יוכלו המבקרים לעבור מסלול של פעילויות שונות בנושא החג\\nהמוזיאון לאמנות רוסית, הממוקם בבניין העירייה הישן, בראשון לציון, אירח השבוע משלחת מיוחדת של מוזיאון ראשון לציון. במהלך הביקור ביקרו חברי המשלחת בתערוכות של אמנים ישראלים מובילות. בנוסף, יצאו חברי המשלחת לסיור ברחובות העיר עם דמויות מההיסטוריה הרוסית. הסיור כלל התנסות בסימולטור נהיגה תלת מימדי, תוך שימוש בסירות גומי.\\nשיתוף הפעולה המיוחד בין שני המוזיאונים, הוא חלק מתפיסת המוזיאון בעיר, כי שימור הזיכרון הקולקטיבי הוא חלק מהמרכזיות התרבותית של כל אחד מהשותפים להבניית המורשת המקומית. המוזיאון לאמנות רוסית, הוא המוזיאון הראשון בארץ שהציג תערוכות מרתקות של אמנים מובילים במאה ה-20, כמו איגור קוסטורצב, איליה ארנבורג, וסילי קנדינסקי, ולדימיר נז\\'קובסקי, סרגי טוקטלי ועוד.\\nאת משלחת המוזמנים ליוותה ראש העיר, דב צור, אשר בירך על היוזמה.\\nראש העיר, דב צור, סיפר על הייחודיות של העיר ואמר: התרבות הרוסית, יחד עם היותה של ראשון לציון עיר צעירה, בעלת תושבים רבים בגילאי העבודה, הביאה את עיריית ראשון לציון למצב בו העיר מאמינה בחשיבות השימור המורשת ההיסטורית. אני רוצה לאחל לכם שנה טובה ומאחל לכם שנה מלאה בפעילות מרת',\n",
       " 'אתה יכול להראות לי קוד C?\\nלמה אני צריך לקבל 1 של 0?\\nאני יכול להראות לך קוד C?\\nאתה יכול להראות לי קוד C?\\n\\nגרבי מגניבות לבנות, יש המון, אבל לא מצאת משהו מתאים? אולי יש לך פריט שלא מצאת עדיין? אנחנו מחכים לך באתר, מחכים לך איתנו :) שלח לנו הודעה.\\n* במידה ומישהו נתקל בבעיה טכנית או אם יש לו בעיה באתר, נא לציין זאת בפרטי.\\nמה זאת אומרת\"האתר שלנו לא נגיש\"??\\nמה הוא לא נגיש?\\nהאם ניתן להעלות לאתר תמונה מהאינטרנט? תודה!\\n\\nספא בתל אביב - ספא במלון קראון פלזה ת\"א\\nדף הבית >> תפריט עליון >> ספא במלון קראון פלזה ת\"א\\n\\nחדרים דיסקרטי לפי שעות בפצאל? באתר רומנטי תמצאו עכשיו להשכרה, חדרים לפי שעה לאירוח דיסקרטי ולפינוק מושלם לזוגות אוהבים. אתר \"רומנטי\" זמין לרשותכם 24 שעות ביממה. אצלנו יש גם חדרים דיסקרטי לפי שעות ליד העיר, בפצאל ובסביבה, לעזרה חייגו עכשיו: 072-2725535\\n\\nחדרים בצור יגאל? באתר רומנטי תמצאו עכשיו להשכרה, חדרים לפי שעה לאירוח דיסקרטי ולפינוק מושלם לזוגות אוהבים. אתר \"רומנטי\" זמין לרשותכם 24 שעות ביממה. אצלנו יש גם חדרים דיסקרטי לפי שעות ליד העיר, בצור יגאל ובסביבה, לעזרה חייגו עכשיו: 072-2725535\\n\\nצפו: הגר\"ח קנייבסקי עם שר התורה - כיכר השבת\\nצפו: שר התורה הגר\"ח קנייבסקי עם שר התורה\\n(צילום: באדיבות המצלם)\\nבתקופה האחרונה מתפרסמים בכלי התקשורת החילונים מספר סרטונים נדירים של מרן שר התורה הגאון הגדול רבי חיים קנייבסקי שליט\"א על גדלותו של מרן ראש הישיבה הגאון הגדול רבי גרשון אדלשטיין • צפו (חדשות)\\nתגיות: חיים קנייבסקי, שר התורה\\n(צילום: באדיבות המצלם)\\nבשבועות האחרונים מתפרסמים בכלי התקשורת החילונים מספר סרטונים נדירים של מרן שר התורה הגאון הגדול רבי חיים קנייבסקי שליט\"א על גדלותו של מרן ראש הישיבה הגאון הגדול רבי גרשון אדלשטיין.\\nאחד הסרטונים הללו פורסם במסגרת הסרט\"בשבילך נבראתי\", שיצא לאור לרגל חג הסוכות השנה בו מרן שר התורה, הגאון הגדול רבי חיים קנייבסקי שליט\"א, מדבר בשבחו של ראש הישיבה הגאון הגדול רבי גרשון אדלשטיין.\\nהגאון רבי חיים קנייבסקי ציטט את דברי הגמ\\' (סוכה דף מא) \"לעולם הוי שואלין ודורשין בעניני קנייני תורה\". \"אבל בכל ימי חייו לא התנה שלא יעסוק רק בתורה\".\\nבשיחה שנשא הגר\"ח קנייבסקי בכנס בני תורה לקראת חג הסוכות, הוא הוסיף:\"אני מודה לתלמידי הישיבה שהם לומדים כל יום שעה שעה. הם יודעים עד כמה צריך להתעלות, אבל הם לא יודעים מתי אפשר להיות ראש ישיבה\".\\nהגר\"י זילברשטיין ראש כולל דיינות \"דרכי הוראה\" הוסיף: \"בבני ברק לא היו לנו שיעורים, כי לא היה אינטרנט בבית. כל יום היו כמה שיעורים בלוויין\".\\nעל אף זאת אמר הגר\"ח, כי\"מרן ראש הישיבה הסביר לי שזה עניין של ראש. אנחנו נמצאים במצב כזה, כל יום יש כמה שיעורים. יש לנו תלמידים שיושבים ולומדים תורה, כל שבוע זה אותו שיעור\".\\nלסיום אמר מרן הגר\"ח: \"אני מאוד מודה לתלמידים על מה שהם עושים, אני מאוד מודה, אין לי שיעור, מה שאני עושה זה דבר גדול\".\\nתגידו לי אתם לא זוכר את הרב דוד פוברסקי זצ\"ל?\\nשנשאל: הוא זוכר את הרב אדלשטיין?\\nהגאון הגדול ר\\'גרשון אדלשטיין סיפר את סיפור חייו\\nהרב אדלשטיין.\\nהוא זכר טוב?? לא, לא\\nהשאלה שלי היא פשוטה, האם אתה מכיר את הרב יצחק לוי?\\nלמה? כי הוא זכרונו לברכה.\\nמי היה הרב לוי? זה היה הרב דוד סיטרוק זצ\"ל.\\nהרב לוי לא היה בקשר עם הרב אדלשטיין, לא מכיר אותו בכלל\\nלא מכיר אותו בכלל. יש הרב לוי אחד\\nאני לא ממש זוכר אבל יש סיפור על הרב יצחק לוי ז\"ל שהיה בקשר עם הרב חיים קנייבסקי (ההספד על מרן הגאון הגדול זצ\"ל)\\nאני לא חושב שהרב קנייבסקי הכיר את הרב אדלשטיין\\nיש עליו כל כך הרבה סיפורים\\n\\nמתנת יום הולדת _ מתנות יום הולדת - נופר - מתנות לילדים - עופר חונים קונים\\n\\nראשי / קטלוג / מתנות לידה לבן / עמוד 1 /\\n\\nשיפור נוסף במערכת המיכלים של ה-DYNAMICK _ בלוג MSDN ישראל Google+\\nשיפורים נוספים ב-DYNAMICK\\nהפעם אני רוצה']"
      ]
     },
     "execution_count": 8,
     "metadata": {},
     "output_type": "execute_result"
    }
   ],
   "source": [
    "ans=tokenizer.batch_decode(sample_outputs)\n",
    "ans"
   ]
  },
  {
   "cell_type": "code",
   "execution_count": 9,
   "id": "93bbfad3",
   "metadata": {},
   "outputs": [
    {
     "name": "stdout",
     "output_type": "stream",
     "text": [
      "אתה יכול להראות לי קוד C?\n",
      "אם יש לי את זה?\n",
      "כן, עכשיו אני יודע איפה למצוא את זה.\n",
      "האם אתה יכול להראות לי איך לעשות את הקוד?\n",
      "כן, כן.\n",
      "אתה צריך להתקין אותו.\n",
      "זה הקוד.\n",
      "תגיד לי איך לעשות את הקוד כדי לראות את קוד?\n",
      "אתה יודע?  \n",
      "יש לי את זה.\n",
      "אבל איך אתה הולך לעשות את הקוד?\n",
      "זה קשה.\n",
      "אני רק יודע על C אז זה יהיה כמו לשים את זה, כך שתוכל למצוא את הקוד.\n",
      "אני לא יכול לעשות את זה כל היום אבל אני הולך למצוא את הקוד.\n",
      "אז...\n",
      "אני אגיד לך את הקוד.\n",
      "אתה צריך להראות לי איך אני יכול לעשות את הקוד?\n",
      "אני עושה את זה.\n",
      "אתה יודע, כאשר הייתי תלמיד בבית הספר, הוא...  \n",
      "אני היה הולך להראות לך את הקוד\n",
      "כך שזה עובד.\n",
      "אבל לא עשית את זה.\n",
      "זה...  \n",
      "זה...  \n",
      "זה...  \n",
      "זה...  \n",
      "זה...  \n",
      "זה לא.\n",
      "אני מתכוון...  \n",
      "זה...  \n",
      "זה לא.\n",
      "אז...  \n",
      "זה...  \n",
      "זה...  \n",
      "זה...  \n",
      "זה... זה...\n",
      "ואז...  \n",
      "רק...  \n",
      "לראות את הקוד.\n",
      "לא...  \n",
      "לא...  \n",
      "לראות את קוד.\n",
      "אני מקבל...  \n",
      "אני רוצה...  \n",
      "אני רוצה...  \n",
      "אני רוצה...  \n",
      "לראות את קוד.\n",
      "אה, זה...  \n",
      "זה...  \n",
      "אה, אתה יכול... לראות את הקוד.\n",
      "בבקשה...  \n",
      "בוא נראה.\n",
      "בבקשה...  \n",
      "בבקשה...  \n",
      "בבקשה...  \n",
      "בבקשה...  \n",
      "בבקשה...  \n",
      "לראות את...\n",
      "- בבקשה...  \n",
      "בבקשה...  \n",
      "בבקשה...\n",
      "בבקשה...\n",
      "- בבקשה...  \n",
      "בבקשה...  \n",
      "בבקשה...  \n",
      "בבקשה...  \n",
      "בבקשה...\n",
      "בבקשה...  \n",
      "בבקשה...  \n",
      "בבקשה...  \n",
      "בבקשה...  \n",
      "בבקשה...  \n",
      "בבקשה...  \n",
      "בבקשה...  \n",
      "בבקשה...\n",
      "- בבקשה...  \n",
      "בבקשה...  \n",
      "בבקשה...  \n",
      "בבקשה...  \n",
      "בבקשה...  \n",
      "בבקשה...  \n",
      "בבקשה...\n",
      "- בבקשה...  \n",
      "בבקשה...  \n",
      "בבקשה...  \n",
      "בבקשה...  \n",
      "בבקשה...  \n",
      "בבקשה...  \n",
      "בבקשה...  \n",
      "בבקשה...  \n",
      "בבקשה...  \n",
      "בבקשה...  \n",
      "בבקשה...  \n",
      "בבקשה...  \n",
      "בבקשה...  \n",
      "בבקשה...\n",
      "- בבקשה...  \n",
      "בבקשה...  \n",
      "בבקשה...  \n",
      "בבקשה...  \n",
      "בבקשה...  \n",
      "בבקשה...  \n",
      "בבקשה...  \n",
      "בבקשה...\n",
      "- בבקשה...  \n",
      "בבקשה...  \n",
      "בבקשה...  \n",
      "בבקשה...  \n",
      "בבקשה...  \n",
      "בבקשה...  \n",
      "בבקשה...  \n",
      "בבקשה...  \n",
      "בבקשה...  \n",
      "בבקשה...  \n",
      "בבקשה...  \n",
      "בבקשה...  \n",
      "בבקשה...  \n",
      "בבקשה...  \n",
      "בבקשה...  \n",
      "בבקשה...  \n",
      "בבקשה...  \n",
      "בבקשה...  \n",
      "בבקשה...  \n",
      "בבקשה...  \n",
      "בבקשה...  \n",
      "בבקשה...  \n",
      "בבקשה...  \n",
      "בבקשה...  \n",
      "בבקשה...  \n",
      "בבקשה...  \n",
      "בבקשה...  \n",
      "בבקשה...  \n",
      "בבקשה...  \n",
      "בבקשה...  \n",
      "בבקשה...  \n",
      "בבקשה...  \n",
      "בבקשה...  \n",
      "בבקשה...  \n",
      "בבקשה...  \n",
      "בבקשה...  \n",
      "בבקשה...  \n",
      "בבקשה...  \n",
      "בבקשה...  \n",
      "בבקשה...  \n",
      "בבקשה...  \n",
      "בבקשה...  \n",
      "בבקשה...  \n",
      "בבקשה...  \n",
      "בבקשה...  \n",
      "בבקשה...  \n",
      "בבקשה...  \n",
      "בבקשה...  \n",
      "בבקשה...  \n",
      "בבקשה...  \n",
      "בבקשה...  \n",
      "בבקשה...  \n",
      "בבקשה...  \n",
      "בבקשה...  \n",
      "בבקשה...  \n",
      "בבקשה...\n",
      "-----בבקשה...  \n",
      "בבקשה...  \n",
      "בבקשה...\n",
      "- בבקשה...  \n",
      "בבקשה\n"
     ]
    }
   ],
   "source": [
    "print(ans[0])"
   ]
  },
  {
   "cell_type": "markdown",
   "id": "a1e5b3bf-2618-4160-ad36-4342ec1efaab",
   "metadata": {},
   "source": [
    "# dataset"
   ]
  },
  {
   "cell_type": "code",
   "execution_count": 10,
   "id": "711a9e66",
   "metadata": {},
   "outputs": [
    {
     "name": "stderr",
     "output_type": "stream",
     "text": [
      "Found cached dataset parquet (/home/user/.cache/huggingface/datasets/LevMuchnik___parquet/LevMuchnik--SupremeCourtOfIsrael-7f46ab7220db2581/0.0.0/2a3b91fbd88a2c90d1dbbb32b460cf621d31bd5b05b934492fdef7d8d6f236ec)\n"
     ]
    },
    {
     "data": {
      "application/vnd.jupyter.widget-view+json": {
       "model_id": "23596fcff5e3411ba01b3453f3dc23d4",
       "version_major": 2,
       "version_minor": 0
      },
      "text/plain": [
       "  0%|          | 0/1 [00:00<?, ?it/s]"
      ]
     },
     "metadata": {},
     "output_type": "display_data"
    }
   ],
   "source": [
    "import datasets\n",
    "data = datasets.load_dataset('LevMuchnik/SupremeCourtOfIsrael')"
   ]
  },
  {
   "cell_type": "code",
   "execution_count": 11,
   "id": "1568f58a-4524-469e-8eaa-db011df353f6",
   "metadata": {},
   "outputs": [
    {
     "data": {
      "text/plain": [
       "'03058560_07V.txt'"
      ]
     },
     "execution_count": 11,
     "metadata": {},
     "output_type": "execute_result"
    }
   ],
   "source": [
    "data['train'][0]['FileName']#['text']"
   ]
  },
  {
   "cell_type": "code",
   "execution_count": null,
   "id": "26513c8a-5a95-4e3e-9a1e-127b82d71e5e",
   "metadata": {},
   "outputs": [],
   "source": []
  },
  {
   "cell_type": "code",
   "execution_count": 12,
   "id": "33eb2109-fd1d-4e21-949f-3c556af7dd5a",
   "metadata": {},
   "outputs": [
    {
     "data": {
      "text/plain": [
       "datasets.dataset_dict.DatasetDict"
      ]
     },
     "execution_count": 12,
     "metadata": {},
     "output_type": "execute_result"
    }
   ],
   "source": [
    "type(data)"
   ]
  },
  {
   "cell_type": "code",
   "execution_count": 13,
   "id": "30e1adf6-8d5a-4671-83f7-a255a55a7056",
   "metadata": {},
   "outputs": [
    {
     "data": {
      "text/plain": [
       "{'input_ids': tensor([[  203,   203,   203,  ...,  1319,   348, 21579]], device='cuda:0'),\n",
       " 'attention_mask': tensor([[1, 1, 1,  ..., 1, 1, 1]], device='cuda:0')}"
      ]
     },
     "execution_count": 13,
     "metadata": {},
     "output_type": "execute_result"
    }
   ],
   "source": [
    "inputs=tokenizer(data['train'][0]['text'],return_tensors='pt',truncation=True)\n",
    "inputs={k:v.to('cuda') for k,v in inputs.items()}\n",
    "inputs"
   ]
  },
  {
   "cell_type": "code",
   "execution_count": 14,
   "id": "4c2b17b9-5583-4c1e-a828-2636489a227b",
   "metadata": {},
   "outputs": [
    {
     "data": {
      "text/plain": [
       "odict_keys(['logits', 'past_key_values'])"
      ]
     },
     "execution_count": 14,
     "metadata": {},
     "output_type": "execute_result"
    }
   ],
   "source": [
    "import torch\n",
    "with torch.no_grad():\n",
    "    out=model(**inputs)\n",
    "out.keys()"
   ]
  },
  {
   "cell_type": "code",
   "execution_count": 15,
   "id": "1537b2a5-3424-40e2-890c-7e716c3c3fe2",
   "metadata": {},
   "outputs": [
    {
     "data": {
      "text/plain": [
       "torch.Size([128])"
      ]
     },
     "execution_count": 15,
     "metadata": {},
     "output_type": "execute_result"
    }
   ],
   "source": [
    "torch.stack(out.past_key_values[-1]).mean(axis=[0,1,2,3]).shape#.mean(axis=2).shape"
   ]
  },
  {
   "cell_type": "code",
   "execution_count": 16,
   "id": "17408c4d-b8d2-4100-9d37-35e3c97f5b08",
   "metadata": {},
   "outputs": [
    {
     "data": {
      "text/plain": [
       "751194"
      ]
     },
     "execution_count": 16,
     "metadata": {},
     "output_type": "execute_result"
    }
   ],
   "source": [
    "len(data['train'])"
   ]
  },
  {
   "cell_type": "code",
   "execution_count": 17,
   "id": "9fc559ca-9451-465e-b437-9dc358409038",
   "metadata": {},
   "outputs": [],
   "source": [
    "cut_data=data['train']#[:1000]"
   ]
  },
  {
   "cell_type": "code",
   "execution_count": 18,
   "id": "db94d87f-eb52-4198-af34-021a328f200e",
   "metadata": {},
   "outputs": [],
   "source": [
    "embeddings=[]"
   ]
  },
  {
   "cell_type": "code",
   "execution_count": 19,
   "id": "bdda29ef-1eef-40fb-901d-94796551d963",
   "metadata": {},
   "outputs": [],
   "source": [
    "from tqdm.notebook import tqdm"
   ]
  },
  {
   "cell_type": "code",
   "execution_count": 20,
   "id": "be1e97b4-9935-4158-a8f8-c9c72467c055",
   "metadata": {},
   "outputs": [],
   "source": [
    "# with torch.no_grad():\n",
    "#     for d in tqdm(cut_data['text']):\n",
    "#         inputs=tokenizer(d,return_tensors='pt',truncation=True)\n",
    "#         inputs={k:v.to('cuda') for k,v in inputs.items()}\n",
    "#         out=model(**inputs)\n",
    "#         out=torch.stack(out.past_key_values[-1]).mean(axis=[0,1,2,3]).to('cpu')\n",
    "#         #out.to('cpu')\n",
    "#         embeddings.append(out)"
   ]
  },
  {
   "cell_type": "code",
   "execution_count": 21,
   "id": "6d8cde01-782a-4c1e-8b2a-a69928a4083d",
   "metadata": {},
   "outputs": [],
   "source": [
    "# embeddings=list(embeddings)"
   ]
  },
  {
   "cell_type": "code",
   "execution_count": 22,
   "id": "9d7f2fb7-9fff-4721-bb2a-09b6e5da3118",
   "metadata": {},
   "outputs": [],
   "source": [
    "# with torch.no_grad():\n",
    "#     for d in tqdm(cut_data['text'][len(embeddings):]):\n",
    "#         if(not d):\n",
    "#             embeddings.append(out*float('nan'))\n",
    "#             continue\n",
    "#         inputs=tokenizer(d,return_tensors='pt',truncation=True)\n",
    "#         inputs={k:v.to('cuda') for k,v in inputs.items()}\n",
    "#         out=model(**inputs)\n",
    "#         out=torch.stack(out.past_key_values[-1]).mean(axis=[0,1,2,3]).to('cpu')\n",
    "#         #out.to('cpu')\n",
    "#         embeddings.append(out)"
   ]
  },
  {
   "cell_type": "code",
   "execution_count": 23,
   "id": "169ecb92-54d6-4ac9-8851-105d3e5b69c9",
   "metadata": {},
   "outputs": [],
   "source": [
    "# embeddings=torch.stack(embeddings)#.to('cpu')\n",
    "# embeddings.shape"
   ]
  },
  {
   "cell_type": "code",
   "execution_count": 24,
   "id": "0f16368e-7bbd-498e-8af3-5dd3054fdf1a",
   "metadata": {},
   "outputs": [],
   "source": [
    "#torch.save(embeddings,\"embeddings.pt\")"
   ]
  },
  {
   "cell_type": "code",
   "execution_count": 25,
   "id": "fe9c881d-4aa4-47c8-a591-3c4d7df94ccd",
   "metadata": {},
   "outputs": [
    {
     "data": {
      "text/plain": [
       "torch.Size([751194, 128])"
      ]
     },
     "execution_count": 25,
     "metadata": {},
     "output_type": "execute_result"
    }
   ],
   "source": [
    "embeddings=torch.load(\"embeddings.pt\")#.shape\n",
    "embeddings.shape"
   ]
  },
  {
   "cell_type": "code",
   "execution_count": 26,
   "id": "bc3af493-3215-47a9-aca8-c8ca6e05ae50",
   "metadata": {},
   "outputs": [],
   "source": [
    "index = faiss.IndexFlatL2(embeddings.shape[1])\n",
    "index.add(embeddings)"
   ]
  },
  {
   "cell_type": "markdown",
   "id": "b344d137-7853-43eb-b98d-1f46507c1f66",
   "metadata": {},
   "source": [
    "# test"
   ]
  },
  {
   "cell_type": "code",
   "execution_count": 27,
   "id": "a9d56a5d-f102-4522-bdf5-679d0d3d390f",
   "metadata": {},
   "outputs": [],
   "source": [
    "test_text=\"קורונה\"#\"שוחד, מרמה והפרת אמונים\""
   ]
  },
  {
   "cell_type": "code",
   "execution_count": 28,
   "id": "6a095261-ad27-4b41-9f84-4d3df3d20d81",
   "metadata": {},
   "outputs": [
    {
     "data": {
      "text/plain": [
       "{'input_ids': tensor([[  287,  1718,    16,   718,   453,  9015,   282, 19900]],\n",
       "        device='cuda:0'),\n",
       " 'attention_mask': tensor([[1, 1, 1, 1, 1, 1, 1, 1]], device='cuda:0')}"
      ]
     },
     "execution_count": 28,
     "metadata": {},
     "output_type": "execute_result"
    }
   ],
   "source": [
    "inputs=tokenizer(test_text,return_tensors='pt',truncation=True)\n",
    "inputs={k:v.to('cuda') for k,v in inputs.items()}\n",
    "inputs"
   ]
  },
  {
   "cell_type": "code",
   "execution_count": 29,
   "id": "3e5797b6-1338-4739-8e4e-03df2cf0b4bb",
   "metadata": {},
   "outputs": [],
   "source": [
    "out=model(**inputs)\n",
    "out=torch.stack(out.past_key_values[-1]).mean(axis=[0,1,2,3]).to('cpu').detach()\n",
    "\n",
    "_,idx=index.search(out[None],3)"
   ]
  },
  {
   "cell_type": "code",
   "execution_count": 30,
   "id": "c6836ad0-48f2-4d10-be66-1ffe3d32d34e",
   "metadata": {},
   "outputs": [
    {
     "name": "stdout",
     "output_type": "stream",
     "text": [
      "\n",
      "\n",
      "\n",
      "\n",
      "\n",
      "\n",
      "בית המשפט\n",
      "העליון\n",
      " \n",
      "\n",
      "\n",
      "\n",
      "הודעה לתקשורת \n",
      " \n",
      "- פסק דין בבג\"ץ 1633/20 ובבג\"ץ\n",
      "2070/20 בעניין הוצאת תעודת מחלה גורפת לעובדים שכירים שנמצאים בבידוד בשל חשש\n",
      "להידבקות בנגיף הקורונה \n",
      "\n",
      "\n",
      "\n",
      " \n",
      "\n",
      "\n",
      "\n",
      "בית המשפט העליון (השופט א' שטיין\n",
      "בהסכמת הנשיאה א' חיות והשופט ע' פוגלמן) קיבל היום שתי עתירות שהגישו, בין היתר,\n",
      "מספר ארגוני מעסיקים וקבע כי חוק דמי מחלה אינו מסמיך את ראש שירותי בריאות הציבור\n",
      "במשרד הבריאות להנפיק תעודת מחלה גורפת לכל העובדים השכירים השוהים בבידוד מחשש\n",
      "להידבקות בנגיף הקורונה. על כן נקבע כי תעודת המחלה הגורפת בטלה. \n",
      "\n",
      "\n",
      "\n",
      " \n",
      "\n",
      "\n",
      "\n",
      "בית המשפט הגיע למסקנה זו לאחר\n",
      "שניתח את לשון חוק דמי מחלה ותכליותיו וקבע כי חשש למחלה או להידבקות בנגיף\n",
      "הקורונה אינו בגדר \"מחלה\" ששוללת מהעובד את הכושר לבצע את עבודתו, כנדרש\n",
      "בחוק. עם זאת ועל מנת למנוע פגיעה בעובדים ולאפשר היערכות מתאימה, נקבע כי ביטולה\n",
      "של תעודת המחלה הגורפת לשוהים בבידוד ייכנס לתוקף ביום 30.9.2020.\n",
      "\n",
      "\n",
      "\n",
      " \n",
      "\n",
      "\n",
      "\n",
      "\n",
      "\n",
      "\n",
      "\n",
      "\n",
      "\n"
     ]
    }
   ],
   "source": [
    "print(cut_data['text'][idx[0][2]])"
   ]
  },
  {
   "cell_type": "code",
   "execution_count": 81,
   "id": "98a57d91-577f-43db-80fd-bfa9ca67024c",
   "metadata": {},
   "outputs": [
    {
     "data": {
      "text/plain": [
       "dict_keys(['case_id', 'download_time', 'number_of_case_documents', 'file_name', 'Id', 'CaseId', 'VerdictDt', 'CreatedDate', 'CaseNum', 'CaseDesc', 'Pages', 'Path', 'CaseName', 'FileName', 'DocName', 'Year', 'TypeCode', 'Type', 'Technical', 'CodeVolume', 'document_hash', 'text', 'html_title', 'VerdictsDt', 'meta_case_nm', 'meta_sec_appeal', 'meta_side_ty', 'meta_verdict_file_nm', 'meta_judge', 'meta_mador_nm', 'meta_side_nm', 'meta_verdict_dt', 'meta_case_dt', 'meta_verdict_nbr', 'meta_ProgId', 'meta_is_technical', 'meta_judge_nm_last', 'meta_case_nbr', 'meta_verdict_ty', 'meta_lawyer_nm', 'meta_judge_nm_first', 'meta_verdict_pages', 'meta_inyan_nm', 'meta_court_nm'])"
      ]
     },
     "execution_count": 81,
     "metadata": {},
     "output_type": "execute_result"
    }
   ],
   "source": [
    "cut_data.keys()"
   ]
  },
  {
   "cell_type": "code",
   "execution_count": null,
   "id": "8a8116cd-ea26-49fc-b47c-ae4f436b5f3a",
   "metadata": {},
   "outputs": [],
   "source": []
  },
  {
   "cell_type": "code",
   "execution_count": null,
   "id": "3d00a875-f383-47e9-bd39-debf2d4ebd86",
   "metadata": {},
   "outputs": [],
   "source": []
  }
 ],
 "metadata": {
  "kernelspec": {
   "display_name": "Python 3 (ipykernel)",
   "language": "python",
   "name": "python3"
  },
  "language_info": {
   "codemirror_mode": {
    "name": "ipython",
    "version": 3
   },
   "file_extension": ".py",
   "mimetype": "text/x-python",
   "name": "python",
   "nbconvert_exporter": "python",
   "pygments_lexer": "ipython3",
   "version": "3.11.5"
  }
 },
 "nbformat": 4,
 "nbformat_minor": 5
}
