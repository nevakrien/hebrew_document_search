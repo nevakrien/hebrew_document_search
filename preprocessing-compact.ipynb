{
 "cells": [
  {
   "cell_type": "code",
   "execution_count": 1,
   "id": "168ccec2-7c2b-4f43-b2b6-df55fd25ac55",
   "metadata": {},
   "outputs": [],
   "source": [
    "import os\n",
    "os.environ[\"HF_HUB_CACHE\"] = \"/media/user/8a594cab-20d9-43ef-8d0e-b60b5cf43462/huggingface_models/hub\"\n",
    "#https://huggingface.co/docs/transformers/installation?highlight=transformers_cache#cache-setup\n",
    "#os.environ[\"HF_HOME\"] = \"/media/user/8a594cab-20d9-43ef-8d0e-b60b5cf43462/huggingface_models\"\n",
    "model_name=\"avichr/Legal-heBERT\"#'meta-llama/Llama-2-70b-chat-hf'"
   ]
  },
  {
   "cell_type": "code",
   "execution_count": 2,
   "id": "1b9621d3-493d-4b31-a0e0-5546d1f13fd4",
   "metadata": {},
   "outputs": [],
   "source": [
    "import faiss\n",
    "import torch\n",
    "from transformers import AutoTokenizer, BertModel"
   ]
  },
  {
   "cell_type": "code",
   "execution_count": 3,
   "id": "7102314c-cde0-4314-96b4-88f91d703d92",
   "metadata": {},
   "outputs": [
    {
     "name": "stderr",
     "output_type": "stream",
     "text": [
      "Some weights of BertModel were not initialized from the model checkpoint at avichr/Legal-heBERT and are newly initialized: ['bert.pooler.dense.bias', 'bert.pooler.dense.weight']\n",
      "You should probably TRAIN this model on a down-stream task to be able to use it for predictions and inference.\n"
     ]
    }
   ],
   "source": [
    "tokenizer=AutoTokenizer.from_pretrained(model_name)\n",
    "model=BertModel.from_pretrained(model_name)"
   ]
  },
  {
   "cell_type": "code",
   "execution_count": 4,
   "id": "be274edb-67bb-4617-9658-c392ed518b19",
   "metadata": {},
   "outputs": [],
   "source": [
    "with torch.no_grad():\n",
    "    model.pooler.dense.weight*=0#torch.ones(model.pooler.dense.weight.shape)\n",
    "    model.pooler.dense.biass=0#torch.zeros(model.pooler.dense.biass.shape)"
   ]
  },
  {
   "cell_type": "code",
   "execution_count": 5,
   "id": "cffe0ed6-b6a3-4b39-a83a-3cf0159b7374",
   "metadata": {},
   "outputs": [
    {
     "name": "stderr",
     "output_type": "stream",
     "text": [
      "Found cached dataset parquet (/home/user/.cache/huggingface/datasets/LevMuchnik___parquet/LevMuchnik--SupremeCourtOfIsrael-7f46ab7220db2581/0.0.0/2a3b91fbd88a2c90d1dbbb32b460cf621d31bd5b05b934492fdef7d8d6f236ec)\n"
     ]
    },
    {
     "data": {
      "application/vnd.jupyter.widget-view+json": {
       "model_id": "b63418649f0f47a09fe19adf2a45ffc0",
       "version_major": 2,
       "version_minor": 0
      },
      "text/plain": [
       "  0%|          | 0/1 [00:00<?, ?it/s]"
      ]
     },
     "metadata": {},
     "output_type": "display_data"
    }
   ],
   "source": [
    "import datasets\n",
    "data = datasets.load_dataset('LevMuchnik/SupremeCourtOfIsrael')"
   ]
  },
  {
   "cell_type": "code",
   "execution_count": 6,
   "id": "5eb8ff87-e8a1-429d-8715-4d4d81dd2ce0",
   "metadata": {},
   "outputs": [],
   "source": [
    "import pandas as pd\n",
    "import re\n",
    "from tqdm.notebook import tqdm"
   ]
  },
  {
   "cell_type": "code",
   "execution_count": 7,
   "id": "a020053c-87f9-412b-b0d6-49fc20ef685f",
   "metadata": {},
   "outputs": [],
   "source": [
    "#from concurrent.futures import ProcessPoolExecutor"
   ]
  },
  {
   "cell_type": "markdown",
   "id": "bcfd2f3c-1d25-4bb8-983b-243abaa8b3e7",
   "metadata": {
    "jp-MarkdownHeadingCollapsed": true
   },
   "source": [
    "# filter"
   ]
  },
  {
   "cell_type": "code",
   "execution_count": 7,
   "id": "2aa740da-0d8c-41ca-9c0f-bacff6407a86",
   "metadata": {},
   "outputs": [],
   "source": [
    "texts=data['train']['text']"
   ]
  },
  {
   "cell_type": "code",
   "execution_count": 11,
   "id": "df4d5070-0e9c-4396-8d1c-42d57339dfbc",
   "metadata": {},
   "outputs": [],
   "source": [
    "def get_paragraphs(text_list):\n",
    "    ans = []\n",
    "    # Regex to match paragraph separators\n",
    "    paragraph_separator = re.compile(r'(\\n\\s*)+\\n')\n",
    "    bads = (\n",
    "            re.compile(r'<!--\\s*\\n\\s*/\\*\\s*Font Definitions\\s*\\*/'),\n",
    "            re.compile(r'\\uFFFD'),\n",
    "            re.compile(r'endstream.*?(?=\\n|$)'),\n",
    "            re.compile(r'/Author \\(user\\)\\n|/Creator'),\n",
    "           )\n",
    "            \n",
    "\n",
    "    \n",
    "    for doc_idx, text in enumerate(text_list):\n",
    "        if not text:\n",
    "            continue\n",
    "\n",
    "        # Splitting text into paragraphs using the defined regex\n",
    "        paragraphs = paragraph_separator.split(text)\n",
    "\n",
    "        count = 0\n",
    "        for paragraph in paragraphs:\n",
    "            skip=False\n",
    "            for b in bads:\n",
    "                if b.search(paragraph):\n",
    "                    skip=True\n",
    "                    break\n",
    "\n",
    "            if skip:\n",
    "                continue\n",
    "\n",
    "            paragraph = paragraph.strip()  # Stripping whitespace\n",
    "            # Only add non-empty paragraphs\n",
    "            if paragraph:\n",
    "                ans.append({'doc': doc_idx, 'count': count, 'text': paragraph})\n",
    "                count += 1\n",
    "\n",
    "    return ans"
   ]
  },
  {
   "cell_type": "code",
   "execution_count": 12,
   "id": "e64049e8-1ba9-43ae-8729-bcc181113ab2",
   "metadata": {},
   "outputs": [
    {
     "data": {
      "application/vnd.jupyter.widget-view+json": {
       "model_id": "4bdb1136467b4135b179eb0d740f5a05",
       "version_major": 2,
       "version_minor": 0
      },
      "text/plain": [
       "  0%|          | 0/751194 [00:00<?, ?it/s]"
      ]
     },
     "metadata": {},
     "output_type": "display_data"
    }
   ],
   "source": [
    "pars=get_paragraphs(tqdm(texts))"
   ]
  },
  {
   "cell_type": "code",
   "execution_count": null,
   "id": "8df3ce72-5bef-45b0-b3ee-cf5554c459c3",
   "metadata": {},
   "outputs": [],
   "source": [
    "len(pars)"
   ]
  },
  {
   "cell_type": "markdown",
   "id": "011d16cd-63ce-433f-912e-80a7641be978",
   "metadata": {
    "jp-MarkdownHeadingCollapsed": true
   },
   "source": [
    "# tokenizing"
   ]
  },
  {
   "cell_type": "code",
   "execution_count": 15,
   "id": "d7f05a14-59c7-4fbb-ab16-59a02e40f3a7",
   "metadata": {},
   "outputs": [],
   "source": [
    "#os.environ[\"TOKENIZERS_PARALLELISM\"]='false'"
   ]
  },
  {
   "cell_type": "code",
   "execution_count": null,
   "id": "68ceb5ea-63a7-4835-b2a2-69dc2c689768",
   "metadata": {},
   "outputs": [],
   "source": [
    "tokens=list(map(tokenizer.encode,tqdm([d['text'] if d['text'] else '' for d in pars])))\n",
    "len(tokens)"
   ]
  },
  {
   "cell_type": "code",
   "execution_count": null,
   "id": "cdcb20cb-21bb-40ac-97e3-3427459e8631",
   "metadata": {},
   "outputs": [],
   "source": [
    "len(tokens)"
   ]
  },
  {
   "cell_type": "code",
   "execution_count": null,
   "id": "0c7553e0-0334-4642-96ff-c6c62f1e6385",
   "metadata": {},
   "outputs": [],
   "source": [
    "import gc"
   ]
  },
  {
   "cell_type": "code",
   "execution_count": null,
   "id": "415e6a17-2603-4cdb-92d3-671a2bf22427",
   "metadata": {},
   "outputs": [],
   "source": [
    "for t,p in zip(tokens,pars):\n",
    "    p['tokens']=t\n",
    "\n",
    "del(tokens)\n",
    "gc.colect()"
   ]
  },
  {
   "cell_type": "code",
   "execution_count": null,
   "id": "1a1c3680-ceac-4a8e-b366-0a70ad904d07",
   "metadata": {},
   "outputs": [],
   "source": [
    "token_chunks=[]\n",
    "for p in tqdm(pars):\n",
    "    if not p:\n",
    "        continue\n",
    "    for i,toks_index in enumerate(range(0,len(p['tokens']),model.config.max_position_embeddings)):\n",
    "        toks=p['tokens'][toks_index:toks_index+model.config.max_position_embeddings]\n",
    "        cur={k:p[k] for k in ('doc', 'count')}\n",
    "        cur.update({'chunk':i,'tokens':toks})\n",
    "        #cur['chunk']=i\n",
    "        #cur['tokens']=toks\n",
    "        token_chunks.append(cur)"
   ]
  },
  {
   "cell_type": "code",
   "execution_count": null,
   "id": "af935673-7b22-4483-a9b4-bdb21da2eca6",
   "metadata": {},
   "outputs": [],
   "source": [
    "#torch.save(token_chunks,'clean_data.pt')"
   ]
  },
  {
   "cell_type": "code",
   "execution_count": null,
   "id": "1df5e445-aca2-4c50-b005-1f64ff96f041",
   "metadata": {},
   "outputs": [],
   "source": [
    "token_chunks[3]#.sort(key=lambda d:len(d['tokens']))"
   ]
  },
  {
   "cell_type": "code",
   "execution_count": null,
   "id": "701dc504-2685-447b-a41b-42b2d822df60",
   "metadata": {},
   "outputs": [],
   "source": [
    "token_chunks.sort(key=lambda d:len(d['tokens']))"
   ]
  },
  {
   "cell_type": "code",
   "execution_count": null,
   "id": "331fd96c-9e9f-4a6d-81d6-950fc2e1f27e",
   "metadata": {},
   "outputs": [],
   "source": [
    "torch.save(token_chunks,'clean_data.pt')"
   ]
  },
  {
   "cell_type": "markdown",
   "id": "3aafa5f2-cac7-490d-99c5-e7df291fb1da",
   "metadata": {},
   "source": [
    "# embed"
   ]
  },
  {
   "cell_type": "code",
   "execution_count": 8,
   "id": "5585508e-a775-47f4-903c-97808e058a82",
   "metadata": {},
   "outputs": [],
   "source": [
    "token_chunks=torch.load('clean_data.pt')"
   ]
  },
  {
   "cell_type": "code",
   "execution_count": 9,
   "id": "a6f63e80-866c-4fb2-beef-79ba049a2283",
   "metadata": {},
   "outputs": [
    {
     "data": {
      "text/plain": [
       "BertModel(\n",
       "  (embeddings): BertEmbeddings(\n",
       "    (word_embeddings): Embedding(50000, 768, padding_idx=0)\n",
       "    (position_embeddings): Embedding(512, 768)\n",
       "    (token_type_embeddings): Embedding(2, 768)\n",
       "    (LayerNorm): LayerNorm((768,), eps=1e-12, elementwise_affine=True)\n",
       "    (dropout): Dropout(p=0.1, inplace=False)\n",
       "  )\n",
       "  (encoder): BertEncoder(\n",
       "    (layer): ModuleList(\n",
       "      (0-11): 12 x BertLayer(\n",
       "        (attention): BertAttention(\n",
       "          (self): BertSelfAttention(\n",
       "            (query): Linear(in_features=768, out_features=768, bias=True)\n",
       "            (key): Linear(in_features=768, out_features=768, bias=True)\n",
       "            (value): Linear(in_features=768, out_features=768, bias=True)\n",
       "            (dropout): Dropout(p=0.1, inplace=False)\n",
       "          )\n",
       "          (output): BertSelfOutput(\n",
       "            (dense): Linear(in_features=768, out_features=768, bias=True)\n",
       "            (LayerNorm): LayerNorm((768,), eps=1e-12, elementwise_affine=True)\n",
       "            (dropout): Dropout(p=0.1, inplace=False)\n",
       "          )\n",
       "        )\n",
       "        (intermediate): BertIntermediate(\n",
       "          (dense): Linear(in_features=768, out_features=3072, bias=True)\n",
       "          (intermediate_act_fn): GELUActivation()\n",
       "        )\n",
       "        (output): BertOutput(\n",
       "          (dense): Linear(in_features=3072, out_features=768, bias=True)\n",
       "          (LayerNorm): LayerNorm((768,), eps=1e-12, elementwise_affine=True)\n",
       "          (dropout): Dropout(p=0.1, inplace=False)\n",
       "        )\n",
       "      )\n",
       "    )\n",
       "  )\n",
       "  (pooler): BertPooler(\n",
       "    (dense): Linear(in_features=768, out_features=768, bias=True)\n",
       "    (activation): Tanh()\n",
       "  )\n",
       ")"
      ]
     },
     "execution_count": 9,
     "metadata": {},
     "output_type": "execute_result"
    }
   ],
   "source": [
    "model.to('cuda')"
   ]
  },
  {
   "cell_type": "code",
   "execution_count": 10,
   "id": "3aa484bd-65d2-433a-a98e-de60697f5626",
   "metadata": {},
   "outputs": [],
   "source": [
    "def padded_batch(tokens):\n",
    "    lens=[len(t) for t in tokens]\n",
    "    m=max(lens)\n",
    "    toks=torch.IntTensor([t+(m-l)*[0] for l,t in zip(lens,tokens)])#,device=model.device)\n",
    "    mask=torch.IntTensor([l*[1]+(m-l)*[0] for l in lens])#,device=model.device)\n",
    "    return {'input_ids':toks,'attention_mask':mask}"
   ]
  },
  {
   "cell_type": "code",
   "execution_count": 11,
   "id": "faf2f9dd-7a75-4970-b9c9-c2550882d771",
   "metadata": {},
   "outputs": [
    {
     "data": {
      "application/vnd.jupyter.widget-view+json": {
       "model_id": "c1b729be4e4f4f8197ed830cb2b06acf",
       "version_major": 2,
       "version_minor": 0
      },
      "text/plain": [
       "  0%|          | 0/97606 [00:00<?, ?it/s]"
      ]
     },
     "metadata": {},
     "output_type": "display_data"
    }
   ],
   "source": [
    "all_embedding=[]\n",
    "batch=256\n",
    "with torch.no_grad():\n",
    "    for i in tqdm(range(0,len(token_chunks),batch)):\n",
    "        ld=token_chunks[i:i+batch]\n",
    "        toks=[d['tokens'] for d in ld]\n",
    "        inputs=padded_batch(toks)\n",
    "        inputs={k:v.to('cuda') for  k,v in inputs.items()}\n",
    "        outputs=model(**inputs)\n",
    "        outputs=outputs.last_hidden_state.mean([1]).cpu()\n",
    "        all_embedding.extend(outputs)"
   ]
  },
  {
   "cell_type": "code",
   "execution_count": 15,
   "id": "fb564c28-ab44-4c0c-830d-146cc3a4856e",
   "metadata": {},
   "outputs": [
    {
     "data": {
      "text/plain": [
       "753"
      ]
     },
     "execution_count": 15,
     "metadata": {},
     "output_type": "execute_result"
    }
   ],
   "source": [
    "import gc\n",
    "del(token_chunks)\n",
    "gc.collect()"
   ]
  },
  {
   "cell_type": "code",
   "execution_count": null,
   "id": "f1462a86-e5b0-4b06-94f4-245c3f4bdb7b",
   "metadata": {},
   "outputs": [],
   "source": [
    "torch.save(all_embedding,'chunked_emb.pt')"
   ]
  },
  {
   "cell_type": "code",
   "execution_count": null,
   "id": "4cc4b395-1949-4c9e-85eb-8edab6c08df4",
   "metadata": {},
   "outputs": [],
   "source": [
    "emb=torch.stack(all_embedding)\n",
    "emb.shape"
   ]
  },
  {
   "cell_type": "code",
   "execution_count": null,
   "id": "dba5a911-08e9-4afd-8f9a-722028ca769e",
   "metadata": {},
   "outputs": [],
   "source": []
  },
  {
   "cell_type": "code",
   "execution_count": null,
   "id": "7eda553b-44e9-4777-becc-1c9905b60bdb",
   "metadata": {},
   "outputs": [],
   "source": []
  }
 ],
 "metadata": {
  "kernelspec": {
   "display_name": "Python 3 (ipykernel)",
   "language": "python",
   "name": "python3"
  },
  "language_info": {
   "codemirror_mode": {
    "name": "ipython",
    "version": 3
   },
   "file_extension": ".py",
   "mimetype": "text/x-python",
   "name": "python",
   "nbconvert_exporter": "python",
   "pygments_lexer": "ipython3",
   "version": "3.11.5"
  }
 },
 "nbformat": 4,
 "nbformat_minor": 5
}
