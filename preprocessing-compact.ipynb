{
 "cells": [
  {
   "cell_type": "code",
   "execution_count": 1,
   "id": "168ccec2-7c2b-4f43-b2b6-df55fd25ac55",
   "metadata": {},
   "outputs": [],
   "source": [
    "import os\n",
    "#os.environ[\"HF_HUB_CACHE\"] = \"/media/user/8a594cab-20d9-43ef-8d0e-b60b5cf43462/huggingface_models/hub\"\n",
    "#https://huggingface.co/docs/transformers/installation?highlight=transformers_cache#cache-setup\n",
    "#os.environ[\"HF_HOME\"] = \"/media/user/8a594cab-20d9-43ef-8d0e-b60b5cf43462/huggingface_models\"\n",
    "model_name=\"avichr/Legal-heBERT\"#'meta-llama/Llama-2-70b-chat-hf'"
   ]
  },
  {
   "cell_type": "code",
   "execution_count": null,
   "id": "2f2fb675-2250-4876-be22-4b668b569e6a",
   "metadata": {},
   "outputs": [],
   "source": []
  },
  {
   "cell_type": "code",
   "execution_count": null,
   "id": "a942e7a7-f170-4e62-b0bc-d3044af8a7bf",
   "metadata": {},
   "outputs": [],
   "source": []
  },
  {
   "cell_type": "code",
   "execution_count": null,
   "id": "a6007f52-0493-4020-a3e7-45ec76b21bc8",
   "metadata": {},
   "outputs": [],
   "source": []
  },
  {
   "cell_type": "code",
   "execution_count": null,
   "id": "6bdf170d-3e08-4572-a6ac-872371252a2d",
   "metadata": {},
   "outputs": [],
   "source": []
  },
  {
   "cell_type": "code",
   "execution_count": null,
   "id": "b580ae18-6f1e-401d-9818-1e0ca33e5ec6",
   "metadata": {},
   "outputs": [],
   "source": []
  },
  {
   "cell_type": "code",
   "execution_count": null,
   "id": "b5e68d69-60de-46b5-a5c8-bcacfc0af6a5",
   "metadata": {},
   "outputs": [],
   "source": []
  },
  {
   "cell_type": "code",
   "execution_count": 2,
   "id": "1b9621d3-493d-4b31-a0e0-5546d1f13fd4",
   "metadata": {},
   "outputs": [],
   "source": [
    "import faiss\n",
    "import torch\n",
    "from transformers import AutoTokenizer, BertModel"
   ]
  },
  {
   "cell_type": "code",
   "execution_count": 3,
   "id": "7102314c-cde0-4314-96b4-88f91d703d92",
   "metadata": {},
   "outputs": [
    {
     "name": "stderr",
     "output_type": "stream",
     "text": [
      "Some weights of BertModel were not initialized from the model checkpoint at avichr/Legal-heBERT and are newly initialized: ['bert.pooler.dense.bias', 'bert.pooler.dense.weight']\n",
      "You should probably TRAIN this model on a down-stream task to be able to use it for predictions and inference.\n"
     ]
    }
   ],
   "source": [
    "tokenizer=AutoTokenizer.from_pretrained(model_name)\n",
    "model=BertModel.from_pretrained(model_name)"
   ]
  },
  {
   "cell_type": "code",
   "execution_count": 4,
   "id": "be274edb-67bb-4617-9658-c392ed518b19",
   "metadata": {},
   "outputs": [],
   "source": [
    "with torch.no_grad():\n",
    "    model.pooler.dense.weight*=0#torch.ones(model.pooler.dense.weight.shape)\n",
    "    model.pooler.dense.biass=0#torch.zeros(model.pooler.dense.biass.shape)"
   ]
  },
  {
   "cell_type": "code",
   "execution_count": 5,
   "id": "cffe0ed6-b6a3-4b39-a83a-3cf0159b7374",
   "metadata": {},
   "outputs": [
    {
     "name": "stderr",
     "output_type": "stream",
     "text": [
      "Found cached dataset parquet (/home/user/.cache/huggingface/datasets/LevMuchnik___parquet/LevMuchnik--SupremeCourtOfIsrael-7f46ab7220db2581/0.0.0/2a3b91fbd88a2c90d1dbbb32b460cf621d31bd5b05b934492fdef7d8d6f236ec)\n"
     ]
    },
    {
     "data": {
      "application/vnd.jupyter.widget-view+json": {
       "model_id": "206a1351112e4cc4a6e9a579861042e8",
       "version_major": 2,
       "version_minor": 0
      },
      "text/plain": [
       "  0%|          | 0/1 [00:00<?, ?it/s]"
      ]
     },
     "metadata": {},
     "output_type": "display_data"
    }
   ],
   "source": [
    "import datasets\n",
    "data = datasets.load_dataset('LevMuchnik/SupremeCourtOfIsrael')"
   ]
  },
  {
   "cell_type": "code",
   "execution_count": 6,
   "id": "5eb8ff87-e8a1-429d-8715-4d4d81dd2ce0",
   "metadata": {},
   "outputs": [],
   "source": [
    "import pandas as pd\n",
    "import re\n",
    "from tqdm.notebook import tqdm"
   ]
  },
  {
   "cell_type": "code",
   "execution_count": 7,
   "id": "a020053c-87f9-412b-b0d6-49fc20ef685f",
   "metadata": {},
   "outputs": [],
   "source": [
    "#from concurrent.futures import ProcessPoolExecutor"
   ]
  },
  {
   "cell_type": "markdown",
   "id": "bcfd2f3c-1d25-4bb8-983b-243abaa8b3e7",
   "metadata": {},
   "source": [
    "# filter"
   ]
  },
  {
   "cell_type": "code",
   "execution_count": 8,
   "id": "2aa740da-0d8c-41ca-9c0f-bacff6407a86",
   "metadata": {},
   "outputs": [],
   "source": [
    "texts=data['train']['text']"
   ]
  },
  {
   "cell_type": "code",
   "execution_count": 9,
   "id": "db34be83-be0e-41fb-8a5a-c6e11a46da1e",
   "metadata": {},
   "outputs": [],
   "source": [
    "def length(s):\n",
    "    if not s:\n",
    "        return 0\n",
    "    s=\" \".join(s.split('\\n'))\n",
    "    return len(s.split(' '))"
   ]
  },
  {
   "cell_type": "code",
   "execution_count": 28,
   "id": "e48ff4d9-c71d-4575-8d30-16dacf331ce6",
   "metadata": {},
   "outputs": [],
   "source": [
    "def get_paragraphs(text_list):\n",
    "    ans = []\n",
    "\n",
    "    bads = (\n",
    "            re.compile(r'<!--\\s*\\n\\s*/\\*\\s*Font Definitions\\s*\\*/'),\n",
    "            re.compile(r'\\uFFFD'),\n",
    "            re.compile(r'endstream.*?(?=\\n|$)'),\n",
    "            re.compile(r'/Author \\(user\\)\\n|/Creator'),\n",
    "            re.compile(r'\\ue51d'),\n",
    "            re.compile(r'[\\u0080-\\u00FF\\u0100-\\u017F]'), #weird latin dialects like ã\n",
    "           )\n",
    "            \n",
    "\n",
    "    \n",
    "    for doc_idx, text in enumerate(text_list):\n",
    "        if not text:\n",
    "            continue\n",
    "        text=text.strip()\n",
    "        \n",
    "        if text in (\"File not found\",\"\"):\n",
    "            continue\n",
    "            \n",
    "        skip=False\n",
    "        for b in bads:\n",
    "            if b.search(text):\n",
    "                skip=True\n",
    "                break\n",
    "        if skip:\n",
    "            continue\n",
    "\n",
    "        # if not is_valid_utf8(text):\n",
    "        #     continue\n",
    "        \n",
    "        text=re.sub(r'\\n\\s*\\n\\s*\\n+', '\\n\\n', text)\n",
    "        paragraphs=text.split('\\n\\n')\n",
    "\n",
    "\n",
    "        paragraphs=[{'doc': doc_idx,'count':i,'length':length(p),  'text': p} for i,p in enumerate(paragraphs)]\n",
    "        paragraphs.sort(reverse=True,key=lambda d: d['length'])\n",
    "        for p in paragraphs[:5]:\n",
    "            if p['length']>10:\n",
    "                ans.append(p)\n",
    "\n",
    "    return ans"
   ]
  },
  {
   "cell_type": "code",
   "execution_count": null,
   "id": "df4d5070-0e9c-4396-8d1c-42d57339dfbc",
   "metadata": {},
   "outputs": [],
   "source": []
  },
  {
   "cell_type": "code",
   "execution_count": 29,
   "id": "e64049e8-1ba9-43ae-8729-bcc181113ab2",
   "metadata": {},
   "outputs": [
    {
     "data": {
      "application/vnd.jupyter.widget-view+json": {
       "model_id": "d8a9ece3ac1f4c69a551a8b6f211ead6",
       "version_major": 2,
       "version_minor": 0
      },
      "text/plain": [
       "  0%|          | 0/751194 [00:00<?, ?it/s]"
      ]
     },
     "metadata": {},
     "output_type": "display_data"
    }
   ],
   "source": [
    "pars=get_paragraphs(tqdm(texts))"
   ]
  },
  {
   "cell_type": "code",
   "execution_count": 30,
   "id": "7dde7a24-56e4-4b67-9041-06b299075dcb",
   "metadata": {},
   "outputs": [
    {
     "data": {
      "text/plain": [
       "[]"
      ]
     },
     "execution_count": 30,
     "metadata": {},
     "output_type": "execute_result"
    }
   ],
   "source": [
    "[p for p in pars if not p['text']]"
   ]
  },
  {
   "cell_type": "code",
   "execution_count": 31,
   "id": "8df3ce72-5bef-45b0-b3ee-cf5554c459c3",
   "metadata": {},
   "outputs": [
    {
     "data": {
      "text/plain": [
       "2677059"
      ]
     },
     "execution_count": 31,
     "metadata": {},
     "output_type": "execute_result"
    }
   ],
   "source": [
    "len(pars)"
   ]
  },
  {
   "cell_type": "markdown",
   "id": "011d16cd-63ce-433f-912e-80a7641be978",
   "metadata": {},
   "source": [
    "# tokenizing"
   ]
  },
  {
   "cell_type": "code",
   "execution_count": 32,
   "id": "d7f05a14-59c7-4fbb-ab16-59a02e40f3a7",
   "metadata": {},
   "outputs": [],
   "source": [
    "os.environ[\"TOKENIZERS_PARALLELISM\"]='false'"
   ]
  },
  {
   "cell_type": "code",
   "execution_count": 33,
   "id": "ebe5145c-2802-4d81-9054-bcf323478703",
   "metadata": {},
   "outputs": [],
   "source": [
    "from concurrent.futures import ThreadPoolExecutor"
   ]
  },
  {
   "cell_type": "code",
   "execution_count": 34,
   "id": "68ceb5ea-63a7-4835-b2a2-69dc2c689768",
   "metadata": {},
   "outputs": [
    {
     "data": {
      "application/vnd.jupyter.widget-view+json": {
       "model_id": "3b819dc8a03b4a6cb9dc8e77a1f9baa6",
       "version_major": 2,
       "version_minor": 0
      },
      "text/plain": [
       "  0%|          | 0/2677059 [00:00<?, ?it/s]"
      ]
     },
     "metadata": {},
     "output_type": "display_data"
    },
    {
     "data": {
      "application/vnd.jupyter.widget-view+json": {
       "model_id": "f120815f0a734b3e99b1d78d7bc3aa98",
       "version_major": 2,
       "version_minor": 0
      },
      "text/plain": [
       "  0%|          | 0/2677059 [00:00<?, ?it/s]"
      ]
     },
     "metadata": {},
     "output_type": "display_data"
    },
    {
     "data": {
      "text/plain": [
       "2677059"
      ]
     },
     "execution_count": 34,
     "metadata": {},
     "output_type": "execute_result"
    }
   ],
   "source": [
    "with ThreadPoolExecutor(24) as ex:\n",
    "    tokens=list(tqdm(ex.map(tokenizer.encode,tqdm([d['text'] if d['text'] else '' for d in pars])),total=len(pars)))\n",
    "len(tokens)\n",
    "# tokens=tokenizer.batch_encode_plus([d['text'] if d['text'] else '' for d in pars])#[:10])\n",
    "# len(tokens)"
   ]
  },
  {
   "cell_type": "code",
   "execution_count": 35,
   "id": "cdcb20cb-21bb-40ac-97e3-3427459e8631",
   "metadata": {},
   "outputs": [
    {
     "data": {
      "text/plain": [
       "2677059"
      ]
     },
     "execution_count": 35,
     "metadata": {},
     "output_type": "execute_result"
    }
   ],
   "source": [
    "len(tokens)"
   ]
  },
  {
   "cell_type": "code",
   "execution_count": 36,
   "id": "0c7553e0-0334-4642-96ff-c6c62f1e6385",
   "metadata": {},
   "outputs": [],
   "source": [
    "import gc"
   ]
  },
  {
   "cell_type": "code",
   "execution_count": 37,
   "id": "415e6a17-2603-4cdb-92d3-671a2bf22427",
   "metadata": {},
   "outputs": [
    {
     "data": {
      "text/plain": [
       "36"
      ]
     },
     "execution_count": 37,
     "metadata": {},
     "output_type": "execute_result"
    }
   ],
   "source": [
    "for t,p in zip(tokens,pars):\n",
    "    p['tokens']=t\n",
    "\n",
    "del(tokens)\n",
    "gc.collect()"
   ]
  },
  {
   "cell_type": "code",
   "execution_count": 38,
   "id": "1a1c3680-ceac-4a8e-b366-0a70ad904d07",
   "metadata": {},
   "outputs": [
    {
     "data": {
      "application/vnd.jupyter.widget-view+json": {
       "model_id": "ef1400abb48e4951b455bb6468be4063",
       "version_major": 2,
       "version_minor": 0
      },
      "text/plain": [
       "  0%|          | 0/2677059 [00:00<?, ?it/s]"
      ]
     },
     "metadata": {},
     "output_type": "display_data"
    }
   ],
   "source": [
    "token_chunks=[]\n",
    "for p in tqdm(pars):\n",
    "    if not p:\n",
    "        continue\n",
    "    for i,toks_index in enumerate(range(0,len(p['tokens']),model.config.max_position_embeddings)):\n",
    "        toks=p['tokens'][toks_index:toks_index+model.config.max_position_embeddings]\n",
    "        cur={k:p[k] for k in ('doc', 'count')}\n",
    "        cur.update({'chunk':i,'tokens':toks})\n",
    "        #cur['chunk']=i\n",
    "        #cur['tokens']=toks\n",
    "        token_chunks.append(cur)"
   ]
  },
  {
   "cell_type": "code",
   "execution_count": 39,
   "id": "045351f3-69b7-4b56-a864-6a93a1e6c33a",
   "metadata": {},
   "outputs": [
    {
     "data": {
      "text/plain": [
       "2681507"
      ]
     },
     "execution_count": 39,
     "metadata": {},
     "output_type": "execute_result"
    }
   ],
   "source": [
    "len(token_chunks)"
   ]
  },
  {
   "cell_type": "code",
   "execution_count": 40,
   "id": "1df5e445-aca2-4c50-b005-1f64ff96f041",
   "metadata": {},
   "outputs": [
    {
     "data": {
      "text/plain": [
       "{'doc': 0,\n",
       " 'count': 23,\n",
       " 'chunk': 0,\n",
       " 'tokens': [2,\n",
       "  188,\n",
       "  168,\n",
       "  183,\n",
       "  171,\n",
       "  189,\n",
       "  188,\n",
       "  168,\n",
       "  183,\n",
       "  171,\n",
       "  189,\n",
       "  188,\n",
       "  168,\n",
       "  183,\n",
       "  171,\n",
       "  189,\n",
       "  3]}"
      ]
     },
     "execution_count": 40,
     "metadata": {},
     "output_type": "execute_result"
    }
   ],
   "source": [
    "token_chunks[3]#.sort(key=lambda d:len(d['tokens']))"
   ]
  },
  {
   "cell_type": "code",
   "execution_count": 41,
   "id": "701dc504-2685-447b-a41b-42b2d822df60",
   "metadata": {},
   "outputs": [],
   "source": [
    "token_chunks.sort(key=lambda d:len(d['tokens']))"
   ]
  },
  {
   "cell_type": "code",
   "execution_count": 42,
   "id": "331fd96c-9e9f-4a6d-81d6-950fc2e1f27e",
   "metadata": {},
   "outputs": [],
   "source": [
    "torch.save(token_chunks,'clean_data.pt')"
   ]
  },
  {
   "cell_type": "markdown",
   "id": "3aafa5f2-cac7-490d-99c5-e7df291fb1da",
   "metadata": {},
   "source": [
    "# embed"
   ]
  },
  {
   "cell_type": "code",
   "execution_count": 43,
   "id": "5585508e-a775-47f4-903c-97808e058a82",
   "metadata": {},
   "outputs": [],
   "source": [
    "#token_chunks=torch.load('clean_data.pt')"
   ]
  },
  {
   "cell_type": "code",
   "execution_count": 44,
   "id": "a6f63e80-866c-4fb2-beef-79ba049a2283",
   "metadata": {},
   "outputs": [
    {
     "data": {
      "text/plain": [
       "BertModel(\n",
       "  (embeddings): BertEmbeddings(\n",
       "    (word_embeddings): Embedding(50000, 768, padding_idx=0)\n",
       "    (position_embeddings): Embedding(512, 768)\n",
       "    (token_type_embeddings): Embedding(2, 768)\n",
       "    (LayerNorm): LayerNorm((768,), eps=1e-12, elementwise_affine=True)\n",
       "    (dropout): Dropout(p=0.1, inplace=False)\n",
       "  )\n",
       "  (encoder): BertEncoder(\n",
       "    (layer): ModuleList(\n",
       "      (0-11): 12 x BertLayer(\n",
       "        (attention): BertAttention(\n",
       "          (self): BertSelfAttention(\n",
       "            (query): Linear(in_features=768, out_features=768, bias=True)\n",
       "            (key): Linear(in_features=768, out_features=768, bias=True)\n",
       "            (value): Linear(in_features=768, out_features=768, bias=True)\n",
       "            (dropout): Dropout(p=0.1, inplace=False)\n",
       "          )\n",
       "          (output): BertSelfOutput(\n",
       "            (dense): Linear(in_features=768, out_features=768, bias=True)\n",
       "            (LayerNorm): LayerNorm((768,), eps=1e-12, elementwise_affine=True)\n",
       "            (dropout): Dropout(p=0.1, inplace=False)\n",
       "          )\n",
       "        )\n",
       "        (intermediate): BertIntermediate(\n",
       "          (dense): Linear(in_features=768, out_features=3072, bias=True)\n",
       "          (intermediate_act_fn): GELUActivation()\n",
       "        )\n",
       "        (output): BertOutput(\n",
       "          (dense): Linear(in_features=3072, out_features=768, bias=True)\n",
       "          (LayerNorm): LayerNorm((768,), eps=1e-12, elementwise_affine=True)\n",
       "          (dropout): Dropout(p=0.1, inplace=False)\n",
       "        )\n",
       "      )\n",
       "    )\n",
       "  )\n",
       "  (pooler): BertPooler(\n",
       "    (dense): Linear(in_features=768, out_features=768, bias=True)\n",
       "    (activation): Tanh()\n",
       "  )\n",
       ")"
      ]
     },
     "execution_count": 44,
     "metadata": {},
     "output_type": "execute_result"
    }
   ],
   "source": [
    "model.to('cuda')"
   ]
  },
  {
   "cell_type": "code",
   "execution_count": 45,
   "id": "3aa484bd-65d2-433a-a98e-de60697f5626",
   "metadata": {},
   "outputs": [],
   "source": [
    "def padded_batch(tokens):\n",
    "    lens=[len(t) for t in tokens]\n",
    "    m=max(lens)\n",
    "    toks=torch.IntTensor([t+(m-l)*[0] for l,t in zip(lens,tokens)])#,device=model.device)\n",
    "    mask=torch.IntTensor([l*[1]+(m-l)*[0] for l in lens])#,device=model.device)\n",
    "    return {'input_ids':toks,'attention_mask':mask}"
   ]
  },
  {
   "cell_type": "code",
   "execution_count": 46,
   "id": "faf2f9dd-7a75-4970-b9c9-c2550882d771",
   "metadata": {},
   "outputs": [
    {
     "data": {
      "application/vnd.jupyter.widget-view+json": {
       "model_id": "388c4bef8bcf4202843fc97f98fd2cef",
       "version_major": 2,
       "version_minor": 0
      },
      "text/plain": [
       "  0%|          | 0/10475 [00:00<?, ?it/s]"
      ]
     },
     "metadata": {},
     "output_type": "display_data"
    }
   ],
   "source": [
    "all_embedding=[]\n",
    "batch=256\n",
    "with torch.no_grad():\n",
    "    for i in tqdm(range(0,len(token_chunks),batch)):\n",
    "        ld=token_chunks[i:i+batch]\n",
    "        toks=[d['tokens'] for d in ld]\n",
    "        inputs=padded_batch(toks)\n",
    "        inputs={k:v.to('cuda') for  k,v in inputs.items()}\n",
    "        outputs=model(**inputs)\n",
    "        outputs=outputs.last_hidden_state.mean([1]).cpu() #bug runing on a mask\n",
    "        all_embedding.extend(outputs)"
   ]
  },
  {
   "cell_type": "code",
   "execution_count": 47,
   "id": "fb564c28-ab44-4c0c-830d-146cc3a4856e",
   "metadata": {},
   "outputs": [
    {
     "data": {
      "text/plain": [
       "17"
      ]
     },
     "execution_count": 47,
     "metadata": {},
     "output_type": "execute_result"
    }
   ],
   "source": [
    "import gc\n",
    "del(token_chunks)\n",
    "gc.collect()"
   ]
  },
  {
   "cell_type": "code",
   "execution_count": 48,
   "id": "f1462a86-e5b0-4b06-94f4-245c3f4bdb7b",
   "metadata": {},
   "outputs": [],
   "source": [
    "torch.save(all_embedding,'chunked_emb.pt')"
   ]
  },
  {
   "cell_type": "code",
   "execution_count": 49,
   "id": "4cc4b395-1949-4c9e-85eb-8edab6c08df4",
   "metadata": {},
   "outputs": [
    {
     "data": {
      "text/plain": [
       "torch.Size([2681507, 768])"
      ]
     },
     "execution_count": 49,
     "metadata": {},
     "output_type": "execute_result"
    }
   ],
   "source": [
    "emb=torch.stack(all_embedding)\n",
    "emb.shape"
   ]
  },
  {
   "cell_type": "code",
   "execution_count": null,
   "id": "dba5a911-08e9-4afd-8f9a-722028ca769e",
   "metadata": {},
   "outputs": [],
   "source": []
  },
  {
   "cell_type": "markdown",
   "id": "8bbe62eb-4db2-419e-8f45-7889e9d44535",
   "metadata": {},
   "source": [
    "# test"
   ]
  },
  {
   "cell_type": "code",
   "execution_count": 57,
   "id": "ef7787e2-2115-479e-92d7-b0614eb0c093",
   "metadata": {},
   "outputs": [],
   "source": [
    "token_chunks=torch.load('clean_data.pt')"
   ]
  },
  {
   "cell_type": "code",
   "execution_count": 58,
   "id": "a7ae2088-7279-45e9-ad11-bbe28adfff4d",
   "metadata": {},
   "outputs": [],
   "source": [
    "index = faiss.IndexFlatL2(emb.shape[1])\n",
    "index.add(emb)"
   ]
  },
  {
   "cell_type": "code",
   "execution_count": 76,
   "id": "d7d7ddb1-de19-4521-a9c5-892ebcb92aa0",
   "metadata": {},
   "outputs": [],
   "source": [
    "#test_text=\"עירעור על מעצר\"\n",
    "#test_text=\"תיק מנהלי\"\n",
    "#test_text=\"מחלת הקורונה מפריעה לעובדים לעבוד\"\n",
    "test_text=\"שוחד, מרמה והפרת אמונים\"\n",
    "#test_text=\"שוחד של נבחרי ציבור\"\n",
    "#test_text=\"עצירים מנהליים מהפרות סדר ביהודה ושומרון\"\n",
    "#test_text=\"תנובה לשיווק תוצרת חקלאית\""
   ]
  },
  {
   "cell_type": "code",
   "execution_count": 77,
   "id": "9aa1900d-9872-4d85-ba8d-d26ff8b2d7e3",
   "metadata": {},
   "outputs": [],
   "source": [
    "with torch.no_grad():\n",
    "    inputs=tokenizer(test_text,return_tensors='pt',truncation=True,padding=True,max_length=model.config.max_position_embeddings)\n",
    "    inputs={k:v.to(model.device) for k,v in inputs.items()}\n",
    "    key=model(**inputs).last_hidden_state.mean([1]).cpu()"
   ]
  },
  {
   "cell_type": "code",
   "execution_count": 78,
   "id": "388bbfaf-ebc7-4462-936e-29ec6f8cbff2",
   "metadata": {},
   "outputs": [
    {
     "data": {
      "text/plain": [
       "array([[2115430, 2379837, 2234385]])"
      ]
     },
     "execution_count": 78,
     "metadata": {},
     "output_type": "execute_result"
    }
   ],
   "source": [
    "_,idx=index.search(key,3)\n",
    "idx"
   ]
  },
  {
   "cell_type": "code",
   "execution_count": 79,
   "id": "18477485-4a50-43a8-86c3-a804405b7021",
   "metadata": {},
   "outputs": [
    {
     "data": {
      "text/plain": [
       "['[CLS] המשיב ( בערעור המדינה ) והמערער ( בערעורו שלו ) הורשע בביצוע שורה ארוכה של עבירות מרמה והפרת אמונים, זיוף בנסיבות מחמירות, גניבה בידי מורשה, הלבנת הון, גניבה בידי עובד ציבור וגניבה בידי מנהל, מרמה והפרת אמונים בתאגיד, רישום כוזב במסמכי תאגיד וקבלת דבר במרמה בנסיבות מחמירות. [SEP]',\n",
       " '[CLS] 2. נגד העוררת הוגש כתב אישום ב - 13 אישומים, בעבירות רבות חוזרות ונשנות של התחזות כאדם אחר, קבלת דבר במרמה בנסיבות מחמירות, זיוף מסמך בכוונה לקבל באמצעותו דבר, שימוש במסמך מזוייף, שיבוש מהלכי משפט, הפרת הוראה חוקית, קבלת דבר במרמה, איסור הלבנת הון, נהיגה בזמן פסילה, התחזות לרופא, שימוש בכינוי \" רופא \", חבלה חמורה, תקיפה, תקיפה הגורמת חבלה של ממש, מעשה פזיזות ורשלנות, הונאה בכרטיס חיוב, מרמה, מרמה או תחבולה, אי - קיום דרישות ואי - הוצאת חשבונית מס. [SEP]',\n",
       " '[CLS] העורר שימש כמפקד שירותי הכבאות וההצלה באזור טבריה. בתאריך 23. 7. 08 הגישה המשיבה נגדו כתב - אישום לבית המשפט המחוזי בנצרת, בו יוחסו לו עבירות של גניבה בידי מנהל, גניבה בידי עובד ציבור, קבלת דבר במרמה בנסיבות מחמירות, מרמה והפרת אימונים, רישום כוזב במסמכי תאגיד, מרמה והפרת אימונים בתאגיד, לקיחות שוחד, שיבוש מהלכי משפט, והפרת הוראה חוקית. [SEP]']"
      ]
     },
     "execution_count": 79,
     "metadata": {},
     "output_type": "execute_result"
    }
   ],
   "source": [
    "ans=[tokenizer.decode(token_chunks[i]['tokens']) for i in idx[0]]\n",
    "ans"
   ]
  },
  {
   "cell_type": "code",
   "execution_count": 80,
   "id": "8d6a8e3c-c788-40dc-af7a-bbb5f2218086",
   "metadata": {},
   "outputs": [
    {
     "data": {
      "text/plain": [
       "[411839, 511505, 322708]"
      ]
     },
     "execution_count": 80,
     "metadata": {},
     "output_type": "execute_result"
    }
   ],
   "source": [
    "[token_chunks[i]['doc']for i in idx[0]]"
   ]
  },
  {
   "cell_type": "code",
   "execution_count": 81,
   "id": "e42105a5-f0a2-4507-8415-d7dc3f3aeb25",
   "metadata": {},
   "outputs": [
    {
     "name": "stdout",
     "output_type": "stream",
     "text": [
      "\n",
      "\n",
      "בבית המשפט העליון\n",
      "\n",
      "בש\"פ\n",
      "  \n",
      "7583/08\n",
      "\n",
      "בפני:\n",
      "\n",
      "כבוד השופט א' א' לוי\n",
      "\n",
      "כבוד השופטת ע' ארבל\n",
      "\n",
      "כבוד השופט י' דנציגר\n",
      "\n",
      "העורר:\n",
      "\n",
      "יגאל חבר\n",
      "\n",
      "נ\n",
      "  \n",
      "ג\n",
      "  \n",
      "ד\n",
      "\n",
      "המשיבה:\n",
      "\n",
      "מדינת ישראל\n",
      "\n",
      "ערר על החלטת בית המשפט המחוזי\n",
      "  בנצרת, מיום 12.8.08, בב\"ש 1258/08, שניתן על ידי סגן הנשיא השופט א'\n",
      "  אמינוף\n",
      "\n",
      "תאריך הישיבה:\n",
      "\n",
      "כ\"ז בכסלו התשס\"ט\n",
      "\n",
      "(24.12.08)\n",
      "\n",
      "בשם העורר:\n",
      "\n",
      "עו\"ד רובינשטיין מנחם\n",
      "\n",
      "בשם המשיבה:\n",
      "\n",
      "עו\"ד תמר פרוש\n",
      "\n",
      "החלטה\n",
      "\n",
      "השופט א' א' לוי:\n",
      "\n",
      "העורר שימש כמפקד שירותי הכבאות וההצלה באזור טבריה. בתאריך\n",
      "23.7.08 הגישה המשיבה נגדו כתב-אישום לבית המשפט המחוזי בנצרת, בו יוחסו לו עבירות\n",
      "של גניבה בידי מנהל, גניבה בידי עובד ציבור, קבלת דבר במרמה בנסיבות מחמירות, מרמה\n",
      "והפרת אימונים, רישום כוזב במסמכי תאגיד, מרמה והפרת אימונים בתאגיד, לקיחות שוחד,\n",
      "שיבוש מהלכי משפט, והפרת הוראה חוקית.\n",
      "\n",
      "העורר נעצר בשעתו, ולאחר זמן שוחרר בתנאים מגבילים, שחלקם\n",
      "בוטל במשך הזמן. החשוב לענייננו הוא אותו איסור בו חויב - שלא להגיע לנציבות הכבאות,\n",
      "בכלל, ולמקום עבודתו, בפרט. עם הגשת כתב-האישום עתרה המשיבה להאריך את תוקפו של איסור\n",
      "זה, ובית המשפט המחוזי נעתר לה.\n",
      "\n",
      "בערר שלפנינו נטען כי כתב האישום הוגש שלא כדין, וממילא אין\n",
      "תוקף להגבלות שהוטלו על ידי בית המשפט המחוזי מכוחו. לכך מנה העורר שלושה טעמים:\n",
      "\n",
      "א.\n",
      "        \n",
      "בניגוד לאמור בסעיף 60א' לחוק סדר הדין הפלילי [נוסח משולב],\n",
      "התשמ\"ב-1982 (להלן: החסד\"פ), לא נערך לו שימוע על ידי רשויות התביעה,\n",
      "על-אף שהוא עמד על זכותו זו.\n",
      "\n",
      "ב.\n",
      "        \n",
      "לא ניתן אישור של היועץ המשפטי להגשת כתב האישום, חרף ההנחיה\n",
      "הקובעת כי אישור זה דרוש מקום שהנאשם הוא נבחר ציבור.\n",
      "\n",
      "ג.\n",
      "        \n",
      "התנאים שנקבעו בשעתו לצורך השחרור תוקפם פקע עם הגשתו של\n",
      "כתב-האישום, ועל המשיבה היה להגיש בקשה מיוחדת לחדשם על פי ס' 58(א) של חוק סדר\n",
      "הדין הפלילי [סמכויות אכיפה-מעצרים] התשנ\"ו-1996.\n",
      "\n",
      "בטענה אחרונה זו לא מצאנו ממש, ומטעמיו של בית המשפט המחוזי.\n",
      "באשר לטענות האחרות עליהן נסמך הערר, אלו נועדו להצביע על פגם או פסול שנפלו\n",
      "בכתב-האישום, ולחילופין, מטרתן להצביע על כך ש\"הגשת כתב האישום או ניהול\n",
      "ההליך הפלילי עומדים בסתירה מהותית לעקרונות של צדק והגינות משפטית\". והרי\n",
      "טענות מסוג זה הן \"טענות מקדמיות\" אותן רשאי נאשם להעלות לאחר תחילת\n",
      "משפטו (ראו חלופות (3) ו(10) של סעיף 149 לחסד\"פ). מכאן דעתנו שהשקפתו של בית\n",
      "המשפט המחוזי כפי שמצאה ביטוי בעמ' 15 להחלטתו, היינו, שאותן טענות צריכות להידון לאחר\n",
      "תחילת המשפט ועל ידי בית המשפט שישמע את התיק גופו - נכונה היא ותואמת את הוראת\n",
      "החוק. אכן, בית המשפט המחוזי הרחיב את היריעה בהנמקתו, אולם עשה זאת בבחינת מעבר\n",
      "לדרוש, ועל כן לא ראינו להידרש לאותו חלק בהחלטתו. \n",
      "\n",
      "הערר נדחה.\n",
      "\n",
      "ניתנה היום, כ\"ז בכסלו\n",
      "  \n",
      "התשס\"ט (24.12.08)\n",
      ".\n",
      "\n",
      "ש ו פ ט\n",
      "\n",
      "ש ו פ ט ת\n",
      "\n",
      "ש ו פ ט\n",
      "\n",
      "________________________\n",
      "\n",
      "העותק כפוף לשינויי עריכה וניסוח.\n",
      "\n",
      "08075830_O06.doc\n",
      "   \n",
      "אז\n",
      "\n",
      "מרכז מידע, טל' 02-6593666 ; אתר אינטרנט,\n",
      "  \n",
      "www.court.gov.il\n",
      "\n",
      "\n"
     ]
    }
   ],
   "source": [
    "ans=[re.sub(r'\\n\\s*\\n\\s*\\n+', '\\n\\n', texts[token_chunks[i]['doc']]) for i in idx[0]]\n",
    "print(ans[2])"
   ]
  },
  {
   "cell_type": "code",
   "execution_count": null,
   "id": "7b69d7b2-3288-4344-a9a2-10f0fb80a154",
   "metadata": {},
   "outputs": [],
   "source": []
  },
  {
   "cell_type": "code",
   "execution_count": null,
   "id": "930e5147-7c09-4764-9253-55dc20e0ec74",
   "metadata": {},
   "outputs": [],
   "source": []
  }
 ],
 "metadata": {
  "kernelspec": {
   "display_name": "Python 3 (ipykernel)",
   "language": "python",
   "name": "python3"
  },
  "language_info": {
   "codemirror_mode": {
    "name": "ipython",
    "version": 3
   },
   "file_extension": ".py",
   "mimetype": "text/x-python",
   "name": "python",
   "nbconvert_exporter": "python",
   "pygments_lexer": "ipython3",
   "version": "3.11.5"
  }
 },
 "nbformat": 4,
 "nbformat_minor": 5
}
