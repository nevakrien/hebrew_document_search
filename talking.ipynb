{
 "cells": [
  {
   "cell_type": "code",
   "execution_count": 1,
   "id": "52b2a846-e325-4b2c-99e1-6ca3bd67de7b",
   "metadata": {},
   "outputs": [],
   "source": [
    "test_text=\"\"\"השתמש במקור כדי לענות על השאלה: \n",
    "שאלה: \"מי ראש הממשלה העכשוי של ישראל?\" \n",
    "מקור: \"ממשלת ישראל השלושים ושבע (מכונה גם ממשלת נתניהו השישית) היא ממשלת ישראל הנוכחית בראשות בנימין נתניהו. הממשלה קיבלה את אמונה של הכנסת העשרים וחמש והושבעה ב־29 בדצמבר 2022, ה' בטבת ה'תשפ\"ג. מכהנים בה 38 שרים ו-5 סגני שרים. \"\n",
    "\n",
    "הקפד על תשובה מלאה \n",
    "\n",
    "תשובה:\"\"\""
   ]
  },
  {
   "cell_type": "code",
   "execution_count": 3,
   "id": "2567c21d-398a-4c8b-97e1-b455fd7535ca",
   "metadata": {},
   "outputs": [],
   "source": [
    "import os\n",
    "os.environ[\"HF_HUB_CACHE\"] = \"/media/user/8a594cab-20d9-43ef-8d0e-b60b5cf43462/huggingface_models/hub\"\n",
    "#https://huggingface.co/docs/transformers/installation?highlight=transformers_cache#cache-setup\n",
    "#os.environ[\"HF_HOME\"] = \"/media/user/8a594cab-20d9-43ef-8d0e-b60b5cf43462/huggingface_models\"\n",
    "model_name=\"Norod78/hebrew-gpt_neo-xl\"#'meta-llama/Llama-2-70b-chat-hf'"
   ]
  },
  {
   "cell_type": "code",
   "execution_count": 4,
   "id": "a1039ef4-9ac3-4c5c-b5e3-ff4096990219",
   "metadata": {},
   "outputs": [],
   "source": [
    "import faiss\n",
    "from transformers import AutoTokenizer,AutoModelForCausalLM"
   ]
  },
  {
   "cell_type": "code",
   "execution_count": 5,
   "id": "573401ba-cb35-448a-8745-cb3ae43ccfa5",
   "metadata": {},
   "outputs": [],
   "source": [
    "tokenizer=AutoTokenizer.from_pretrained(model_name)\n",
    "model=AutoModelForCausalLM.from_pretrained(model_name)"
   ]
  },
  {
   "cell_type": "code",
   "execution_count": null,
   "id": "7fca996b-7132-4150-ba01-67f6f2098cdd",
   "metadata": {},
   "outputs": [],
   "source": []
  }
 ],
 "metadata": {
  "kernelspec": {
   "display_name": "Python 3 (ipykernel)",
   "language": "python",
   "name": "python3"
  },
  "language_info": {
   "codemirror_mode": {
    "name": "ipython",
    "version": 3
   },
   "file_extension": ".py",
   "mimetype": "text/x-python",
   "name": "python",
   "nbconvert_exporter": "python",
   "pygments_lexer": "ipython3",
   "version": "3.11.5"
  }
 },
 "nbformat": 4,
 "nbformat_minor": 5
}
