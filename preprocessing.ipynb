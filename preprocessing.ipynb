{
 "cells": [
  {
   "cell_type": "code",
   "execution_count": 1,
   "id": "168ccec2-7c2b-4f43-b2b6-df55fd25ac55",
   "metadata": {},
   "outputs": [],
   "source": [
    "import os\n",
    "os.environ[\"HF_HUB_CACHE\"] = \"/media/user/8a594cab-20d9-43ef-8d0e-b60b5cf43462/huggingface_models/hub\"\n",
    "#https://huggingface.co/docs/transformers/installation?highlight=transformers_cache#cache-setup\n",
    "#os.environ[\"HF_HOME\"] = \"/media/user/8a594cab-20d9-43ef-8d0e-b60b5cf43462/huggingface_models\"\n",
    "model_name=\"avichr/Legal-heBERT\"#'meta-llama/Llama-2-70b-chat-hf'"
   ]
  },
  {
   "cell_type": "code",
   "execution_count": 9,
   "id": "1b9621d3-493d-4b31-a0e0-5546d1f13fd4",
   "metadata": {},
   "outputs": [],
   "source": [
    "import faiss\n",
    "import torch\n",
    "from transformers import AutoTokenizer, BertModel"
   ]
  },
  {
   "cell_type": "code",
   "execution_count": 10,
   "id": "7102314c-cde0-4314-96b4-88f91d703d92",
   "metadata": {},
   "outputs": [
    {
     "name": "stderr",
     "output_type": "stream",
     "text": [
      "Some weights of BertModel were not initialized from the model checkpoint at avichr/Legal-heBERT and are newly initialized: ['bert.pooler.dense.bias', 'bert.pooler.dense.weight']\n",
      "You should probably TRAIN this model on a down-stream task to be able to use it for predictions and inference.\n"
     ]
    }
   ],
   "source": [
    "tokenizer=AutoTokenizer.from_pretrained(model_name)\n",
    "model=BertModel.from_pretrained(model_name)"
   ]
  },
  {
   "cell_type": "code",
   "execution_count": 11,
   "id": "be274edb-67bb-4617-9658-c392ed518b19",
   "metadata": {},
   "outputs": [],
   "source": [
    "with torch.no_grad():\n",
    "    model.pooler.dense.weight*=0#torch.ones(model.pooler.dense.weight.shape)\n",
    "    model.pooler.dense.biass=0#torch.zeros(model.pooler.dense.biass.shape)"
   ]
  },
  {
   "cell_type": "code",
   "execution_count": 13,
   "id": "cffe0ed6-b6a3-4b39-a83a-3cf0159b7374",
   "metadata": {},
   "outputs": [
    {
     "name": "stderr",
     "output_type": "stream",
     "text": [
      "Found cached dataset parquet (/home/user/.cache/huggingface/datasets/LevMuchnik___parquet/LevMuchnik--SupremeCourtOfIsrael-7f46ab7220db2581/0.0.0/2a3b91fbd88a2c90d1dbbb32b460cf621d31bd5b05b934492fdef7d8d6f236ec)\n"
     ]
    },
    {
     "data": {
      "application/vnd.jupyter.widget-view+json": {
       "model_id": "e6d2d1451f754ba2acb16eb4585c4915",
       "version_major": 2,
       "version_minor": 0
      },
      "text/plain": [
       "  0%|          | 0/1 [00:00<?, ?it/s]"
      ]
     },
     "metadata": {},
     "output_type": "display_data"
    }
   ],
   "source": [
    "import datasets\n",
    "data = datasets.load_dataset('LevMuchnik/SupremeCourtOfIsrael')"
   ]
  },
  {
   "cell_type": "code",
   "execution_count": 17,
   "id": "5eb8ff87-e8a1-429d-8715-4d4d81dd2ce0",
   "metadata": {},
   "outputs": [],
   "source": [
    "import pandas as pd"
   ]
  },
  {
   "cell_type": "markdown",
   "id": "44df853f-ad43-4783-ad05-1cbc17fbdb02",
   "metadata": {},
   "source": [
    "# looking"
   ]
  },
  {
   "cell_type": "code",
   "execution_count": 18,
   "id": "c40b11f5-d03a-4754-9776-2dc7f5d55dc4",
   "metadata": {},
   "outputs": [],
   "source": [
    "def length(s):\n",
    "    if not s:\n",
    "        return 0\n",
    "    s=\" \".join(s.split('\\n'))\n",
    "    return len(s.split(' '))"
   ]
  },
  {
   "cell_type": "code",
   "execution_count": null,
   "id": "71f02d7f-83ed-48da-b24f-83bcb1dca727",
   "metadata": {},
   "outputs": [],
   "source": [
    "lengths=[length(t) for t in data['train']['text']]"
   ]
  },
  {
   "cell_type": "code",
   "execution_count": null,
   "id": "7971b4e3-8d55-48b5-aff1-f2b08c0bf1b4",
   "metadata": {},
   "outputs": [],
   "source": [
    "pd.DataFrame([l for l in lengths if 3000<l<10**4])[0].hist(bins=100)"
   ]
  },
  {
   "cell_type": "code",
   "execution_count": null,
   "id": "aa846dbe-88bb-49a7-aad5-651de3d2657a",
   "metadata": {},
   "outputs": [],
   "source": []
  }
 ],
 "metadata": {
  "kernelspec": {
   "display_name": "Python 3 (ipykernel)",
   "language": "python",
   "name": "python3"
  },
  "language_info": {
   "codemirror_mode": {
    "name": "ipython",
    "version": 3
   },
   "file_extension": ".py",
   "mimetype": "text/x-python",
   "name": "python",
   "nbconvert_exporter": "python",
   "pygments_lexer": "ipython3",
   "version": "3.11.5"
  }
 },
 "nbformat": 4,
 "nbformat_minor": 5
}
