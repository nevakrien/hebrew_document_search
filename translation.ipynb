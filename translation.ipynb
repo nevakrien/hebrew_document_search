{
 "cells": [
  {
   "cell_type": "code",
   "execution_count": 1,
   "id": "a9503712-b0d1-469b-9050-7b2969e6a282",
   "metadata": {},
   "outputs": [],
   "source": [
    "import os\n",
    "os.environ[\"HF_HUB_CACHE\"] = \"/media/user/8a594cab-20d9-43ef-8d0e-b60b5cf43462/huggingface_models/hub\"\n",
    "#https://huggingface.co/docs/transformers/installation?highlight=transformers_cache#cache-setup\n",
    "#os.environ[\"HF_HOME\"] = \"/media/user/8a594cab-20d9-43ef-8d0e-b60b5cf43462/huggingface_models\"\n",
    "#model_name=\"Norod78/hebrew-gpt_neo-xl\"#'meta-llama/Llama-2-70b-chat-hf'"
   ]
  },
  {
   "cell_type": "code",
   "execution_count": 2,
   "id": "da770c1f-c40c-4b17-9f00-f8fc02f5c44d",
   "metadata": {},
   "outputs": [],
   "source": [
    "from transformers import AutoModelForSeq2SeqLM, NllbTokenizerFast,AutoTokenizer\n",
    "import faiss\n",
    "import torch"
   ]
  },
  {
   "cell_type": "code",
   "execution_count": 3,
   "id": "5d04b720-d252-47c9-a543-ccfe105f6e96",
   "metadata": {},
   "outputs": [
    {
     "name": "stderr",
     "output_type": "stream",
     "text": [
      "Found cached dataset parquet (/home/user/.cache/huggingface/datasets/LevMuchnik___parquet/LevMuchnik--SupremeCourtOfIsrael-7f46ab7220db2581/0.0.0/2a3b91fbd88a2c90d1dbbb32b460cf621d31bd5b05b934492fdef7d8d6f236ec)\n"
     ]
    },
    {
     "data": {
      "application/vnd.jupyter.widget-view+json": {
       "model_id": "8603f3ab03a54c7e8a2babd0f5238d77",
       "version_major": 2,
       "version_minor": 0
      },
      "text/plain": [
       "  0%|          | 0/1 [00:00<?, ?it/s]"
      ]
     },
     "metadata": {},
     "output_type": "display_data"
    }
   ],
   "source": [
    "import datasets\n",
    "data = datasets.load_dataset('LevMuchnik/SupremeCourtOfIsrael')"
   ]
  },
  {
   "cell_type": "markdown",
   "id": "99a45c41-d650-457d-80cc-cbbd746d295f",
   "metadata": {},
   "source": [
    "# translation"
   ]
  },
  {
   "cell_type": "code",
   "execution_count": 4,
   "id": "cec5ed86-0600-42ce-9d90-267cf450bcbd",
   "metadata": {},
   "outputs": [],
   "source": [
    "model_name='facebook/nllb-200-3.3B'\n",
    "tgt_lang='eng_Latn'\n",
    "src_lang='heb_Hebr'"
   ]
  },
  {
   "cell_type": "code",
   "execution_count": 5,
   "id": "854ec77f-f377-4f0e-9fa9-647de0739067",
   "metadata": {},
   "outputs": [
    {
     "data": {
      "application/vnd.jupyter.widget-view+json": {
       "model_id": "357a159b4ec0470c948fccf317b89c53",
       "version_major": 2,
       "version_minor": 0
      },
      "text/plain": [
       "Loading checkpoint shards:   0%|          | 0/3 [00:00<?, ?it/s]"
      ]
     },
     "metadata": {},
     "output_type": "display_data"
    }
   ],
   "source": [
    "model = AutoModelForSeq2SeqLM.from_pretrained(model_name)\n",
    "tokenizer = NllbTokenizerFast.from_pretrained(model_name, src_lang=src_lang, tgt_lang=tgt_lang)"
   ]
  },
  {
   "cell_type": "code",
   "execution_count": 21,
   "id": "69051a72-d4d2-4e78-8a7b-a0590126ef6f",
   "metadata": {},
   "outputs": [],
   "source": [
    "#preused from https://github.com/nevakrien/srt_translate/blob/main/translate.py\n",
    "@torch.no_grad\n",
    "def translate_text(src_text:str,model,tokenizer,max_length=1000,level=2):\n",
    "    # Encode the source text, translate it, and then decode the translation\n",
    "    inputs = tokenizer(src_text, return_tensors=\"pt\")\n",
    "    inputs={k:v.to(model.device) for k,v in inputs.items()}\n",
    "    \n",
    "    translation = model.generate(**inputs,\n",
    "        max_length=max_length,top_p=0.75,temperature=1.4,num_beams=level,penalty_alpha=0.4\n",
    "        ,length_penalty=0.7,min_new_tokens=3,repetition_penalty=1.5,no_repeat_ngram_size=5)\n",
    "    \n",
    "    translated_text = tokenizer.decode(translation[0], skip_special_tokens=True)\n",
    "    return translated_text"
   ]
  },
  {
   "cell_type": "code",
   "execution_count": 22,
   "id": "c1f9661f-07bb-462a-9407-4670f0ea4e24",
   "metadata": {},
   "outputs": [
    {
     "data": {
      "text/plain": [
       "'Bribery, Cheating, and Disloyalty'"
      ]
     },
     "execution_count": 22,
     "metadata": {},
     "output_type": "execute_result"
    }
   ],
   "source": [
    "translate_text(\"שוחד, מרמה והפרת אמונים\",model,tokenizer)"
   ]
  },
  {
   "cell_type": "code",
   "execution_count": 23,
   "id": "e8d8308b-b34e-4268-9afd-3b251fe222f5",
   "metadata": {},
   "outputs": [
    {
     "data": {
      "text/plain": [
       "device(type='cuda', index=0)"
      ]
     },
     "execution_count": 23,
     "metadata": {},
     "output_type": "execute_result"
    }
   ],
   "source": [
    "model.device"
   ]
  },
  {
   "cell_type": "code",
   "execution_count": 24,
   "id": "4fb67dc3-2a4f-4e52-a294-95e6f3d88f12",
   "metadata": {},
   "outputs": [
    {
     "data": {
      "text/plain": [
       "'Bribery, Cheating, and Disloyalty'"
      ]
     },
     "execution_count": 24,
     "metadata": {},
     "output_type": "execute_result"
    }
   ],
   "source": [
    "model.to('cuda')\n",
    "translate_text(\"שוחד, מרמה והפרת אמונים\",model,tokenizer)"
   ]
  },
  {
   "cell_type": "markdown",
   "id": "859e0275-580d-470c-a493-67ee1f0de89e",
   "metadata": {},
   "source": [
    "# main loop"
   ]
  },
  {
   "cell_type": "code",
   "execution_count": 25,
   "id": "e1c13bcf-d926-41b9-9719-a75dce862014",
   "metadata": {},
   "outputs": [],
   "source": [
    "from tqdm.notebook import tqdm\n",
    "#data['train']['Id']"
   ]
  },
  {
   "cell_type": "code",
   "execution_count": 26,
   "id": "2369de93-7452-48c0-afe6-5285e752cebd",
   "metadata": {},
   "outputs": [],
   "source": [
    "ans={}"
   ]
  },
  {
   "cell_type": "code",
   "execution_count": 12,
   "id": "d0dd670e-2ad3-4c40-8622-6366727c4cb7",
   "metadata": {},
   "outputs": [
    {
     "data": {
      "text/plain": [
       "100"
      ]
     },
     "execution_count": 12,
     "metadata": {},
     "output_type": "execute_result"
    }
   ],
   "source": [
    "cut_data=data['train'][:100]\n",
    "zipdata=zip(cut_data['Id'],cut_data['text'])\n",
    "\n",
    "len(cut_data['Id'])#len(zipdata)"
   ]
  },
  {
   "cell_type": "code",
   "execution_count": 16,
   "id": "e5d1c420-8036-4118-9a2f-423206725e12",
   "metadata": {},
   "outputs": [
    {
     "data": {
      "application/vnd.jupyter.widget-view+json": {
       "model_id": "b4a7199b81ac428194115e455e68a241",
       "version_major": 2,
       "version_minor": 0
      },
      "text/plain": [
       "  0%|          | 0/100 [00:00<?, ?it/s]"
      ]
     },
     "metadata": {},
     "output_type": "display_data"
    }
   ],
   "source": [
    "for i,text in tqdm(zipdata,total=len(cut_data['Id'])):\n",
    "    if i in ans:\n",
    "        print(f'key {i} already present')\n",
    "        continue\n",
    "    try:\n",
    "        ans[i]=translate_text(text,model,tokenizer)\n",
    "    except Exception as e:\n",
    "        print(f'errored at {i} for:/n{e}')"
   ]
  },
  {
   "cell_type": "code",
   "execution_count": 17,
   "id": "05a4ce3a-25a6-43ba-b96d-b63036cc968e",
   "metadata": {},
   "outputs": [
    {
     "data": {
      "text/plain": [
       "1024"
      ]
     },
     "execution_count": 17,
     "metadata": {},
     "output_type": "execute_result"
    }
   ],
   "source": [
    "model.config.max_position_embeddings"
   ]
  },
  {
   "cell_type": "code",
   "execution_count": 18,
   "id": "5c2ed6bd-f337-4345-831d-c65dfe6e78fb",
   "metadata": {},
   "outputs": [
    {
     "data": {
      "text/plain": [
       "M2M100Model(\n",
       "  (shared): Embedding(256206, 2048, padding_idx=1)\n",
       "  (encoder): M2M100Encoder(\n",
       "    (embed_tokens): Embedding(256206, 2048, padding_idx=1)\n",
       "    (embed_positions): M2M100SinusoidalPositionalEmbedding()\n",
       "    (layers): ModuleList(\n",
       "      (0-23): 24 x M2M100EncoderLayer(\n",
       "        (self_attn): M2M100Attention(\n",
       "          (k_proj): Linear(in_features=2048, out_features=2048, bias=True)\n",
       "          (v_proj): Linear(in_features=2048, out_features=2048, bias=True)\n",
       "          (q_proj): Linear(in_features=2048, out_features=2048, bias=True)\n",
       "          (out_proj): Linear(in_features=2048, out_features=2048, bias=True)\n",
       "        )\n",
       "        (self_attn_layer_norm): LayerNorm((2048,), eps=1e-05, elementwise_affine=True)\n",
       "        (activation_fn): ReLU()\n",
       "        (fc1): Linear(in_features=2048, out_features=8192, bias=True)\n",
       "        (fc2): Linear(in_features=8192, out_features=2048, bias=True)\n",
       "        (final_layer_norm): LayerNorm((2048,), eps=1e-05, elementwise_affine=True)\n",
       "      )\n",
       "    )\n",
       "    (layer_norm): LayerNorm((2048,), eps=1e-05, elementwise_affine=True)\n",
       "  )\n",
       "  (decoder): M2M100Decoder(\n",
       "    (embed_tokens): Embedding(256206, 2048, padding_idx=1)\n",
       "    (embed_positions): M2M100SinusoidalPositionalEmbedding()\n",
       "    (layers): ModuleList(\n",
       "      (0-23): 24 x M2M100DecoderLayer(\n",
       "        (self_attn): M2M100Attention(\n",
       "          (k_proj): Linear(in_features=2048, out_features=2048, bias=True)\n",
       "          (v_proj): Linear(in_features=2048, out_features=2048, bias=True)\n",
       "          (q_proj): Linear(in_features=2048, out_features=2048, bias=True)\n",
       "          (out_proj): Linear(in_features=2048, out_features=2048, bias=True)\n",
       "        )\n",
       "        (activation_fn): ReLU()\n",
       "        (self_attn_layer_norm): LayerNorm((2048,), eps=1e-05, elementwise_affine=True)\n",
       "        (encoder_attn): M2M100Attention(\n",
       "          (k_proj): Linear(in_features=2048, out_features=2048, bias=True)\n",
       "          (v_proj): Linear(in_features=2048, out_features=2048, bias=True)\n",
       "          (q_proj): Linear(in_features=2048, out_features=2048, bias=True)\n",
       "          (out_proj): Linear(in_features=2048, out_features=2048, bias=True)\n",
       "        )\n",
       "        (encoder_attn_layer_norm): LayerNorm((2048,), eps=1e-05, elementwise_affine=True)\n",
       "        (fc1): Linear(in_features=2048, out_features=8192, bias=True)\n",
       "        (fc2): Linear(in_features=8192, out_features=2048, bias=True)\n",
       "        (final_layer_norm): LayerNorm((2048,), eps=1e-05, elementwise_affine=True)\n",
       "      )\n",
       "    )\n",
       "    (layer_norm): LayerNorm((2048,), eps=1e-05, elementwise_affine=True)\n",
       "  )\n",
       ")"
      ]
     },
     "execution_count": 18,
     "metadata": {},
     "output_type": "execute_result"
    }
   ],
   "source": [
    "model.model"
   ]
  },
  {
   "cell_type": "code",
   "execution_count": 19,
   "id": "a66c1417-9e88-4705-892e-d12b98f9b5ed",
   "metadata": {},
   "outputs": [
    {
     "data": {
      "text/plain": [
       "41"
      ]
     },
     "execution_count": 19,
     "metadata": {},
     "output_type": "execute_result"
    }
   ],
   "source": [
    "len(ans)"
   ]
  },
  {
   "cell_type": "code",
   "execution_count": 20,
   "id": "50ad1a6c-c39c-4c2a-8484-730c55704bca",
   "metadata": {},
   "outputs": [
    {
     "data": {
      "text/plain": [
       "'The Court of First Instance also stated that the appeal against the decision of the Court of Appeal of Jerusalem - Ms. Adana Erbel 2. __________________ Attorney General - Jerusalem District Attorney General on behalf of the Applicant: Attorney General __________ Judge Adana Erbel 2. __________________ Judge Adana Erbel 2. __________ Judge Adana Erbel 2. __________ Judge Adana Erbel 2. __________ Judge Adana Erbel 2. __________ Judge Adana Erbel 2. __________ Judge Adana Erbel 2. __________ Judge Adana Erbel 2. __________ Judge Adana Erbel 2. __________ Judge Adana Erbel 2. __________ Judge Adana Erbel 2. __________ Judge Adana Erbel 2. __________ Judge Adana Erbel 2. __________ Judge Adana Erbel 2. __________ Judge Adana Erbel 2. __________ Judge Adana Erbel 2. __________ Judge Adana Erbel 2. __________ Judge Adana Erbel 2. __________ Judge Adana Erbel 2. __________ Judge Adana Erbel 2. __________ Judge Adana Erbel 2. __________ Judge Adana Erbel 2. __________ Judge Adana Erbel 2. __________ Judge Adana Erbel 2. __________ Judge Adana Erbel 2. __________ Judge Adana Erbel 2. __________ Judge Adana Erbel 2. __________ Judge Adana Erbel 2. __________ Judge Adana Erbel 2. __________ Judge Adana Erbel __________ Judge Adana Erbel 2. __________ Judge Adana Erbel __________ Judge Adana Erbel __________ Judge Adana Erbel __________ Judge Adana Erbel __________ Judge Adana Erbel __________ Judge Adana Erbel __________ Judge Adana Erbel __________ Judge Adana Erbel __________ Judge Adana Erbel was appointed by the first appointed __________ Judge of the Court of the District Court of the District Court of Jerusalem who was appointed District Court of the District Court of the District Court of Jerusalem who was appointed District Court of the District Court of the District Court of the District Court of Jerusalem 2. __________ and was appointed District Court of the District Court of the District Court of the District Court of Jerusalem who was the District Court of the District Court of the District Court of the District Court of __________ which was the District which was the District which was the District in which was the district in which was the district in which was the district in which was the district in which was the district in which the district in which the district in which the district was the district in which the district in which the district was the _________ was the _________ was the _________ was the _________ was the _________'"
      ]
     },
     "execution_count": 20,
     "metadata": {},
     "output_type": "execute_result"
    }
   ],
   "source": [
    "ans[1]"
   ]
  },
  {
   "cell_type": "code",
   "execution_count": 30,
   "id": "eeab2632-25b2-4616-a2f0-09374b146392",
   "metadata": {},
   "outputs": [
    {
     "name": "stdout",
     "output_type": "stream",
     "text": [
      "\n",
      "\n",
      "\n",
      "\n",
      "\n",
      "\n",
      "\n",
      "\n",
      "\n",
      "\n",
      " \n",
      "\n",
      "  \n",
      "\n",
      "  \n",
      "בבית המשפט העליון\n",
      "\n",
      "  \n",
      "\n",
      " \n",
      "\n",
      "\n",
      "\n",
      "\n",
      "\n",
      "\n",
      "\n",
      "\n",
      " \n",
      "\n",
      "\n",
      "\n",
      "\n",
      "\n",
      "\n",
      "\n",
      " \n",
      "\n",
      "  \n",
      "\n",
      "  \n",
      "בג\"ץ \n",
      "  5856/03 - י'\n",
      "\n",
      "  \n",
      "\n",
      " \n",
      "\n",
      "\n",
      "\n",
      "\n",
      "\n",
      "\n",
      "\n",
      "\n",
      " \n",
      "\n",
      "\n",
      "\n",
      "\n",
      "\n",
      "\n",
      "\n",
      " \n",
      "\n",
      "  \n",
      "\n",
      "  \n",
      "בפני:   \n",
      "\n",
      "  \n",
      "\n",
      "  \n",
      "\n",
      "  \n",
      "כבוד השופטת ד' דורנר\n",
      "\n",
      "  \n",
      "כבוד השופטת מ' נאור\n",
      "\n",
      "  \n",
      "כבוד השופטת א' חיות\n",
      "\n",
      "  \n",
      "\n",
      " \n",
      "\n",
      "\n",
      "\n",
      "\n",
      "\n",
      "\n",
      "\n",
      "\n",
      " \n",
      "\n",
      "\n",
      "\n",
      "\n",
      "\n",
      "\n",
      "\n",
      " \n",
      "\n",
      "  \n",
      "\n",
      "  \n",
      "העותר:\n",
      "\n",
      "  \n",
      "\n",
      "  \n",
      "\n",
      "  \n",
      "יורם יזדי\n",
      "\n",
      "  \n",
      "\n",
      " \n",
      "\n",
      "\n",
      "\n",
      "\n",
      "\n",
      "\n",
      "\n",
      "\n",
      "                                           \n",
      "\n",
      "\n",
      "\n",
      "\n",
      "\n",
      "\n",
      "\n",
      " \n",
      "\n",
      "  \n",
      "\n",
      "  \n",
      " \n",
      "\n",
      "  \n",
      "\n",
      "  \n",
      "\n",
      "  \n",
      "נ\n",
      "  \n",
      "ג\n",
      "  \n",
      "ד\n",
      "\n",
      "  \n",
      "\n",
      " \n",
      "\n",
      "\n",
      "\n",
      "\n",
      "\n",
      "\n",
      "\n",
      "\n",
      "                                                                                                    \n",
      "\n",
      "\n",
      "\n",
      "\n",
      "\n",
      "\n",
      "\n",
      "\n",
      " \n",
      "\n",
      "  \n",
      "\n",
      "  \n",
      "המשיבים:\n",
      "\n",
      "  \n",
      "\n",
      "  \n",
      "\n",
      "  \n",
      "1. פרקליטות\n",
      "  המדינה - הגב' עדנה ארבל\n",
      "\n",
      "  \n",
      "\n",
      " \n",
      "\n",
      " \n",
      "\n",
      "  \n",
      "\n",
      "  \n",
      " \n",
      "\n",
      "  \n",
      "\n",
      "  \n",
      "\n",
      "  \n",
      "2. עו\"ד\n",
      "  אלעד רוזנטל - פרקליטות מחוז ירושלים\n",
      "\n",
      "  \n",
      "\n",
      " \n",
      "\n",
      " \n",
      "\n",
      "  \n",
      " \n",
      "\n",
      "  \n",
      "\n",
      "  \n",
      "    \n",
      "        \n",
      "\n",
      "  \n",
      "\n",
      " \n",
      "\n",
      "\n",
      "\n",
      "\n",
      "\n",
      "\n",
      "\n",
      "\n",
      "                                           \n",
      "\n",
      "\n",
      "\n",
      "בשם העותר:                          בעצמו \n",
      "\n",
      "\n",
      "\n",
      "בשם המשיבים:                      עו\"ד שי\n",
      "ניצן \n",
      "\n",
      "\n",
      "\n",
      " \n",
      "\n",
      "\n",
      "\n",
      "\n",
      "\n",
      "\n",
      "\n",
      " \n",
      "\n",
      "  \n",
      "\n",
      "  \n",
      "פסק-דין\n",
      "\n",
      "  \n",
      "\n",
      " \n",
      "\n",
      "\n",
      "\n",
      "\n",
      "\n",
      "\n",
      "\n",
      "\n",
      " \n",
      "\n",
      "\n",
      "\n",
      "השופטת א' חיות:\n",
      "\n",
      "\n",
      "\n",
      " \n",
      "\n",
      "\n",
      "\n",
      "1.        העתירה שבפנינו עניינה בבקשת העותר כי\n",
      "המשיבה 1, פרקליטת המדינה, תורה על פתיחת חקירה פלילית נגד המשיב 2, פרקליט\n",
      "בפרקליטות מחוז ירושלים. זאת, בגין \"מעשי הטעיה ומרמה כלפי בית המשפט על מנת\n",
      "להשיג ביטול החלטה שניתנה לטובת העותר\", כלשונו.\n",
      "\n",
      "\n",
      "\n",
      " \n",
      "\n",
      "\n",
      "\n",
      "2.        ברקע הדברים עומדים הליכים שונים שמנהל\n",
      "העותר נגד המדינה בבית המשפט המחוזי בירושלים, שעניינם השגות על שומות מס שהוצאו\n",
      "לו. במסגרת הליכים אלה, הגיש המשיב 2, בשם פקיד השומה, בקשה לביטול החלטה שניתנה\n",
      "בהעדר תגובה מטעם פקיד השומה, ובה הוארך המועד להגשת ערעור מצד העותר. בבקשה נטען\n",
      "כי בקשת העותר להארכת מועד לא הומצאה לפקיד השומה או לפרקליטות, וכן נטען כי לא\n",
      "הומצאו הודעות ובקשות נוספות מטעם העותר באותו עניין. המשיב 2 ציין עוד כי החלטת\n",
      "בית המשפט המורה על הגשת תגובה לבקשה הומצאה למשרדי פקיד השומה, ולא לפרקליטות\n",
      "המחוז, כנדרש. כמו כן, ציין המשיב 2 באותה בקשה כי \"[העותר] יודע היטב כי הוא\n",
      "עצמו נחקר במסגרת התלונה שהגיש במשטרת ישראל... [העותר] יודע היטב כי את כל\n",
      "טענותיו המושמעות כאן ועוד הרבה יותר השמיע בפרוט ובהרחבה במשרדי מפלג ההונאה של\n",
      "מחוז ירושלים\".\n",
      "\n",
      "\n",
      "\n",
      " \n",
      "\n",
      "\n",
      "\n",
      "3.        על שני עניינים אלה יצא קצפו של העותר.\n",
      "לטענתו, לא אמר המשיב 2 אמת בכך שטען כי לא קיבל לידיו את הבקשה ואת החלטת בית\n",
      "המשפט, וכן בכך שטען כי העותר נחקר במשרדי מפלג ההונאה של מחוז ירושלים. לפיכך,\n",
      "הגיש העותר תלונה למשטרה נגד המשיב 2, ומשהוחלט שלא לחקור בעניין, הגיש ערר על\n",
      "ההחלטה. הערר נדחה בידי מנהל מחלקת עררים בפרקליטות המדינה, ומכאן העתירה שבפנינו.\n",
      "\n",
      "\n",
      "\n",
      " \n",
      "\n",
      "\n",
      "\n",
      "4.        דין העתירה להידחות על הסף, שכן העותר לא\n",
      "הצביע על עילה ראויה כלשהי המצדיקה את התערבותנו בהחלטה שלא לחקור את המשיב 2.\n",
      "למעלה מן הדרוש ייאמר כי טענות העותר אינן מבוססות גם לגופם של דברים. העותר לא\n",
      "המציא כל תימוכין לטענתו לפיה כתבי בי-דין וכן החלטת בית המשפט נתקבלו אצל המשיב\n",
      "2; ובאשר לחקירה, עולה מדברי העותר עצמו, וכן מנספחים שצירף לעתירתו כי הוא אכן\n",
      "נחקר במשרדי מפלג ההונאה של מחוז ירושלים, כפי שציין המשיב 2 בבקשת הביטול.\n",
      "\n",
      "\n",
      "\n",
      " \n",
      "\n",
      "\n",
      "\n",
      "5.        עיון בתגובת המשיבים ובנספחיה מגלה כי אין\n",
      "זו הפעם הראשונה בה מגיש העותר תלונות בלתי מבוססות נגד פרקליטים המייצגים את\n",
      "הרשויות. עוד עולה מהחומר שבפנינו, כי העותר נוהג לנקוט לשון בוטה ומעליבה כלפי\n",
      "עובדי ציבור, שאינם נענים לדרישותיו (ראו, למשל, מכתבו אל מנהל מחלקת עררים\n",
      "בפרקליטות המדינה מיום 15.6.2003, שצורף כנספח לעתירה). בנסיבות אלה, אנו סבורים\n",
      "כי ראוי להשית על העותר הוצאות משפט בגין העתירה שהגיש. \n",
      "\n",
      "\n",
      "\n",
      " \n",
      "\n",
      "\n",
      "\n",
      "           העתירה נדחית, אפוא, ואנו מחייבים את\n",
      "העותר לשלם למשיבים הוצאות בסך 5000 ₪.\n",
      "\n",
      "\n",
      "\n",
      " \n",
      "\n",
      "\n",
      "\n",
      "           ניתן היום, ‏כ\"ח חשוון, תשס\"ד\n",
      "(23.11.03).\n",
      "\n",
      "\n",
      "\n",
      " \n",
      "\n",
      "\n",
      "\n",
      " \n",
      "\n",
      "\n",
      "\n",
      "           ש ו פ ט ת                        ש ו פ\n",
      "ט ת                         ש ו פ ט ת \n",
      "\n",
      "\n",
      "\n",
      " \n",
      "\n",
      "\n",
      "\n",
      "_________________________\n",
      "\n",
      "\n",
      "\n",
      "העותק כפוף לשינויי עריכה וניסוח.\n",
      " \n",
      "  \n",
      "03058560_V07.doc\n",
      "\n",
      "\n",
      "\n",
      "מרכז מידע, טל' 02-6750444 ; אתר אינטרנט,  \n",
      "www.court.gov.il\n",
      "\n",
      "\n",
      "\n",
      "\n",
      "\n",
      "\n",
      "\n",
      "\n",
      "\n"
     ]
    }
   ],
   "source": [
    "print(cut_data['text'][0])"
   ]
  },
  {
   "cell_type": "code",
   "execution_count": null,
   "id": "f1c2d4cd-e200-4c77-aadc-3d7083c6b6f0",
   "metadata": {},
   "outputs": [],
   "source": []
  }
 ],
 "metadata": {
  "kernelspec": {
   "display_name": "Python 3 (ipykernel)",
   "language": "python",
   "name": "python3"
  },
  "language_info": {
   "codemirror_mode": {
    "name": "ipython",
    "version": 3
   },
   "file_extension": ".py",
   "mimetype": "text/x-python",
   "name": "python",
   "nbconvert_exporter": "python",
   "pygments_lexer": "ipython3",
   "version": "3.11.5"
  }
 },
 "nbformat": 4,
 "nbformat_minor": 5
}
